{
  "nbformat": 4,
  "nbformat_minor": 0,
  "metadata": {
    "colab": {
      "name": "Copy of IndianLanguageModel.ipynb",
      "provenance": [],
      "collapsed_sections": [],
      "machine_shape": "hm",
      "mount_file_id": "1Ug2op58U9UDsH6OVtozoh5R5vm5QTGoG",
      "authorship_tag": "ABX9TyNi2vai6tq7gB2PF3Ip4Fw4",
      "include_colab_link": true
    },
    "kernelspec": {
      "name": "python3",
      "display_name": "Python 3"
    },
    "accelerator": "GPU",
    "widgets": {
      "application/vnd.jupyter.widget-state+json": {
        "c4f6fd6849db4f01b09fe16bdfd42c5c": {
          "model_module": "@jupyter-widgets/controls",
          "model_name": "HBoxModel",
          "state": {
            "_view_name": "HBoxView",
            "_dom_classes": [],
            "_model_name": "HBoxModel",
            "_view_module": "@jupyter-widgets/controls",
            "_model_module_version": "1.5.0",
            "_view_count": null,
            "_view_module_version": "1.5.0",
            "box_style": "",
            "layout": "IPY_MODEL_b5ef8c35be994ef8afcd619a06e4afe4",
            "_model_module": "@jupyter-widgets/controls",
            "children": [
              "IPY_MODEL_dcb52d7377374d3d814da7d9fb6a31fe",
              "IPY_MODEL_e0d603f73f6d4eed9e0e757040c0e097"
            ]
          }
        },
        "b5ef8c35be994ef8afcd619a06e4afe4": {
          "model_module": "@jupyter-widgets/base",
          "model_name": "LayoutModel",
          "state": {
            "_view_name": "LayoutView",
            "grid_template_rows": null,
            "right": null,
            "justify_content": null,
            "_view_module": "@jupyter-widgets/base",
            "overflow": null,
            "_model_module_version": "1.2.0",
            "_view_count": null,
            "flex_flow": null,
            "width": null,
            "min_width": null,
            "border": null,
            "align_items": null,
            "bottom": null,
            "_model_module": "@jupyter-widgets/base",
            "top": null,
            "grid_column": null,
            "overflow_y": null,
            "overflow_x": null,
            "grid_auto_flow": null,
            "grid_area": null,
            "grid_template_columns": null,
            "flex": null,
            "_model_name": "LayoutModel",
            "justify_items": null,
            "grid_row": null,
            "max_height": null,
            "align_content": null,
            "visibility": null,
            "align_self": null,
            "height": null,
            "min_height": null,
            "padding": null,
            "grid_auto_rows": null,
            "grid_gap": null,
            "max_width": null,
            "order": null,
            "_view_module_version": "1.2.0",
            "grid_template_areas": null,
            "object_position": null,
            "object_fit": null,
            "grid_auto_columns": null,
            "margin": null,
            "display": null,
            "left": null
          }
        },
        "dcb52d7377374d3d814da7d9fb6a31fe": {
          "model_module": "@jupyter-widgets/controls",
          "model_name": "FloatProgressModel",
          "state": {
            "_view_name": "ProgressView",
            "style": "IPY_MODEL_378a69474de14d278b29922952ae9f7f",
            "_dom_classes": [],
            "description": "Epoch:   0%",
            "_model_name": "FloatProgressModel",
            "bar_style": "",
            "max": 4,
            "_view_module": "@jupyter-widgets/controls",
            "_model_module_version": "1.5.0",
            "value": 0,
            "_view_count": null,
            "_view_module_version": "1.5.0",
            "orientation": "horizontal",
            "min": 0,
            "description_tooltip": null,
            "_model_module": "@jupyter-widgets/controls",
            "layout": "IPY_MODEL_e9d4d7c0a2904d4ba1715dd22e6bb3c8"
          }
        },
        "e0d603f73f6d4eed9e0e757040c0e097": {
          "model_module": "@jupyter-widgets/controls",
          "model_name": "HTMLModel",
          "state": {
            "_view_name": "HTMLView",
            "style": "IPY_MODEL_19e5940485dc43f5ab1b714c21f1237d",
            "_dom_classes": [],
            "description": "",
            "_model_name": "HTMLModel",
            "placeholder": "​",
            "_view_module": "@jupyter-widgets/controls",
            "_model_module_version": "1.5.0",
            "value": " 0/4 [00:00&lt;?, ?it/s]",
            "_view_count": null,
            "_view_module_version": "1.5.0",
            "description_tooltip": null,
            "_model_module": "@jupyter-widgets/controls",
            "layout": "IPY_MODEL_b4b8ff146aee4a5fa32b3861069f59ee"
          }
        },
        "378a69474de14d278b29922952ae9f7f": {
          "model_module": "@jupyter-widgets/controls",
          "model_name": "ProgressStyleModel",
          "state": {
            "_view_name": "StyleView",
            "_model_name": "ProgressStyleModel",
            "description_width": "initial",
            "_view_module": "@jupyter-widgets/base",
            "_model_module_version": "1.5.0",
            "_view_count": null,
            "_view_module_version": "1.2.0",
            "bar_color": null,
            "_model_module": "@jupyter-widgets/controls"
          }
        },
        "e9d4d7c0a2904d4ba1715dd22e6bb3c8": {
          "model_module": "@jupyter-widgets/base",
          "model_name": "LayoutModel",
          "state": {
            "_view_name": "LayoutView",
            "grid_template_rows": null,
            "right": null,
            "justify_content": null,
            "_view_module": "@jupyter-widgets/base",
            "overflow": null,
            "_model_module_version": "1.2.0",
            "_view_count": null,
            "flex_flow": null,
            "width": null,
            "min_width": null,
            "border": null,
            "align_items": null,
            "bottom": null,
            "_model_module": "@jupyter-widgets/base",
            "top": null,
            "grid_column": null,
            "overflow_y": null,
            "overflow_x": null,
            "grid_auto_flow": null,
            "grid_area": null,
            "grid_template_columns": null,
            "flex": null,
            "_model_name": "LayoutModel",
            "justify_items": null,
            "grid_row": null,
            "max_height": null,
            "align_content": null,
            "visibility": null,
            "align_self": null,
            "height": null,
            "min_height": null,
            "padding": null,
            "grid_auto_rows": null,
            "grid_gap": null,
            "max_width": null,
            "order": null,
            "_view_module_version": "1.2.0",
            "grid_template_areas": null,
            "object_position": null,
            "object_fit": null,
            "grid_auto_columns": null,
            "margin": null,
            "display": null,
            "left": null
          }
        },
        "19e5940485dc43f5ab1b714c21f1237d": {
          "model_module": "@jupyter-widgets/controls",
          "model_name": "DescriptionStyleModel",
          "state": {
            "_view_name": "StyleView",
            "_model_name": "DescriptionStyleModel",
            "description_width": "",
            "_view_module": "@jupyter-widgets/base",
            "_model_module_version": "1.5.0",
            "_view_count": null,
            "_view_module_version": "1.2.0",
            "_model_module": "@jupyter-widgets/controls"
          }
        },
        "b4b8ff146aee4a5fa32b3861069f59ee": {
          "model_module": "@jupyter-widgets/base",
          "model_name": "LayoutModel",
          "state": {
            "_view_name": "LayoutView",
            "grid_template_rows": null,
            "right": null,
            "justify_content": null,
            "_view_module": "@jupyter-widgets/base",
            "overflow": null,
            "_model_module_version": "1.2.0",
            "_view_count": null,
            "flex_flow": null,
            "width": null,
            "min_width": null,
            "border": null,
            "align_items": null,
            "bottom": null,
            "_model_module": "@jupyter-widgets/base",
            "top": null,
            "grid_column": null,
            "overflow_y": null,
            "overflow_x": null,
            "grid_auto_flow": null,
            "grid_area": null,
            "grid_template_columns": null,
            "flex": null,
            "_model_name": "LayoutModel",
            "justify_items": null,
            "grid_row": null,
            "max_height": null,
            "align_content": null,
            "visibility": null,
            "align_self": null,
            "height": null,
            "min_height": null,
            "padding": null,
            "grid_auto_rows": null,
            "grid_gap": null,
            "max_width": null,
            "order": null,
            "_view_module_version": "1.2.0",
            "grid_template_areas": null,
            "object_position": null,
            "object_fit": null,
            "grid_auto_columns": null,
            "margin": null,
            "display": null,
            "left": null
          }
        },
        "dfc4dce8f6d64959a90b19f09f4539b3": {
          "model_module": "@jupyter-widgets/controls",
          "model_name": "HBoxModel",
          "state": {
            "_view_name": "HBoxView",
            "_dom_classes": [],
            "_model_name": "HBoxModel",
            "_view_module": "@jupyter-widgets/controls",
            "_model_module_version": "1.5.0",
            "_view_count": null,
            "_view_module_version": "1.5.0",
            "box_style": "",
            "layout": "IPY_MODEL_d2939e5a51ec47f98106b3d667765e5c",
            "_model_module": "@jupyter-widgets/controls",
            "children": [
              "IPY_MODEL_dc0cb4a295bb4d05bb7375481fbd3cc6",
              "IPY_MODEL_6ef4465c57254aa4901fb00e0720ef98"
            ]
          }
        },
        "d2939e5a51ec47f98106b3d667765e5c": {
          "model_module": "@jupyter-widgets/base",
          "model_name": "LayoutModel",
          "state": {
            "_view_name": "LayoutView",
            "grid_template_rows": null,
            "right": null,
            "justify_content": null,
            "_view_module": "@jupyter-widgets/base",
            "overflow": null,
            "_model_module_version": "1.2.0",
            "_view_count": null,
            "flex_flow": null,
            "width": null,
            "min_width": null,
            "border": null,
            "align_items": null,
            "bottom": null,
            "_model_module": "@jupyter-widgets/base",
            "top": null,
            "grid_column": null,
            "overflow_y": null,
            "overflow_x": null,
            "grid_auto_flow": null,
            "grid_area": null,
            "grid_template_columns": null,
            "flex": null,
            "_model_name": "LayoutModel",
            "justify_items": null,
            "grid_row": null,
            "max_height": null,
            "align_content": null,
            "visibility": null,
            "align_self": null,
            "height": null,
            "min_height": null,
            "padding": null,
            "grid_auto_rows": null,
            "grid_gap": null,
            "max_width": null,
            "order": null,
            "_view_module_version": "1.2.0",
            "grid_template_areas": null,
            "object_position": null,
            "object_fit": null,
            "grid_auto_columns": null,
            "margin": null,
            "display": null,
            "left": null
          }
        },
        "dc0cb4a295bb4d05bb7375481fbd3cc6": {
          "model_module": "@jupyter-widgets/controls",
          "model_name": "FloatProgressModel",
          "state": {
            "_view_name": "ProgressView",
            "style": "IPY_MODEL_60dda10d51f142d4a250116dcfa6e113",
            "_dom_classes": [],
            "description": "Iteration:  44%",
            "_model_name": "FloatProgressModel",
            "bar_style": "",
            "max": 14669,
            "_view_module": "@jupyter-widgets/controls",
            "_model_module_version": "1.5.0",
            "value": 6442,
            "_view_count": null,
            "_view_module_version": "1.5.0",
            "orientation": "horizontal",
            "min": 0,
            "description_tooltip": null,
            "_model_module": "@jupyter-widgets/controls",
            "layout": "IPY_MODEL_e1aeece0c28a4793bf0106555bb05bc1"
          }
        },
        "6ef4465c57254aa4901fb00e0720ef98": {
          "model_module": "@jupyter-widgets/controls",
          "model_name": "HTMLModel",
          "state": {
            "_view_name": "HTMLView",
            "style": "IPY_MODEL_687889a51dba41b2a7482e4de0e45a0d",
            "_dom_classes": [],
            "description": "",
            "_model_name": "HTMLModel",
            "placeholder": "​",
            "_view_module": "@jupyter-widgets/controls",
            "_model_module_version": "1.5.0",
            "value": " 6442/14669 [49:50&lt;1:03:46,  2.15it/s]",
            "_view_count": null,
            "_view_module_version": "1.5.0",
            "description_tooltip": null,
            "_model_module": "@jupyter-widgets/controls",
            "layout": "IPY_MODEL_c4d555b9093548779e69e000c40c0d0c"
          }
        },
        "60dda10d51f142d4a250116dcfa6e113": {
          "model_module": "@jupyter-widgets/controls",
          "model_name": "ProgressStyleModel",
          "state": {
            "_view_name": "StyleView",
            "_model_name": "ProgressStyleModel",
            "description_width": "initial",
            "_view_module": "@jupyter-widgets/base",
            "_model_module_version": "1.5.0",
            "_view_count": null,
            "_view_module_version": "1.2.0",
            "bar_color": null,
            "_model_module": "@jupyter-widgets/controls"
          }
        },
        "e1aeece0c28a4793bf0106555bb05bc1": {
          "model_module": "@jupyter-widgets/base",
          "model_name": "LayoutModel",
          "state": {
            "_view_name": "LayoutView",
            "grid_template_rows": null,
            "right": null,
            "justify_content": null,
            "_view_module": "@jupyter-widgets/base",
            "overflow": null,
            "_model_module_version": "1.2.0",
            "_view_count": null,
            "flex_flow": null,
            "width": null,
            "min_width": null,
            "border": null,
            "align_items": null,
            "bottom": null,
            "_model_module": "@jupyter-widgets/base",
            "top": null,
            "grid_column": null,
            "overflow_y": null,
            "overflow_x": null,
            "grid_auto_flow": null,
            "grid_area": null,
            "grid_template_columns": null,
            "flex": null,
            "_model_name": "LayoutModel",
            "justify_items": null,
            "grid_row": null,
            "max_height": null,
            "align_content": null,
            "visibility": null,
            "align_self": null,
            "height": null,
            "min_height": null,
            "padding": null,
            "grid_auto_rows": null,
            "grid_gap": null,
            "max_width": null,
            "order": null,
            "_view_module_version": "1.2.0",
            "grid_template_areas": null,
            "object_position": null,
            "object_fit": null,
            "grid_auto_columns": null,
            "margin": null,
            "display": null,
            "left": null
          }
        },
        "687889a51dba41b2a7482e4de0e45a0d": {
          "model_module": "@jupyter-widgets/controls",
          "model_name": "DescriptionStyleModel",
          "state": {
            "_view_name": "StyleView",
            "_model_name": "DescriptionStyleModel",
            "description_width": "",
            "_view_module": "@jupyter-widgets/base",
            "_model_module_version": "1.5.0",
            "_view_count": null,
            "_view_module_version": "1.2.0",
            "_model_module": "@jupyter-widgets/controls"
          }
        },
        "c4d555b9093548779e69e000c40c0d0c": {
          "model_module": "@jupyter-widgets/base",
          "model_name": "LayoutModel",
          "state": {
            "_view_name": "LayoutView",
            "grid_template_rows": null,
            "right": null,
            "justify_content": null,
            "_view_module": "@jupyter-widgets/base",
            "overflow": null,
            "_model_module_version": "1.2.0",
            "_view_count": null,
            "flex_flow": null,
            "width": null,
            "min_width": null,
            "border": null,
            "align_items": null,
            "bottom": null,
            "_model_module": "@jupyter-widgets/base",
            "top": null,
            "grid_column": null,
            "overflow_y": null,
            "overflow_x": null,
            "grid_auto_flow": null,
            "grid_area": null,
            "grid_template_columns": null,
            "flex": null,
            "_model_name": "LayoutModel",
            "justify_items": null,
            "grid_row": null,
            "max_height": null,
            "align_content": null,
            "visibility": null,
            "align_self": null,
            "height": null,
            "min_height": null,
            "padding": null,
            "grid_auto_rows": null,
            "grid_gap": null,
            "max_width": null,
            "order": null,
            "_view_module_version": "1.2.0",
            "grid_template_areas": null,
            "object_position": null,
            "object_fit": null,
            "grid_auto_columns": null,
            "margin": null,
            "display": null,
            "left": null
          }
        }
      }
    }
  },
  "cells": [
    {
      "cell_type": "markdown",
      "metadata": {
        "id": "view-in-github",
        "colab_type": "text"
      },
      "source": [
        "<a href=\"https://colab.research.google.com/github/deepampatel/randomnlp/blob/main/IndianLanguageModel.ipynb\" target=\"_parent\"><img src=\"https://colab.research.google.com/assets/colab-badge.svg\" alt=\"Open In Colab\"/></a>"
      ]
    },
    {
      "cell_type": "code",
      "metadata": {
        "id": "zEtQtwNqQyQr",
        "outputId": "80217653-c8d4-4698-831e-4bb208011046",
        "colab": {
          "base_uri": "https://localhost:8080/",
          "height": 363
        }
      },
      "source": [
        "!nvidia-smi"
      ],
      "execution_count": 1,
      "outputs": [
        {
          "output_type": "stream",
          "text": [
            "Sun Oct  4 05:51:50 2020       \n",
            "+-----------------------------------------------------------------------------+\n",
            "| NVIDIA-SMI 455.23.05    Driver Version: 418.67       CUDA Version: 10.1     |\n",
            "|-------------------------------+----------------------+----------------------+\n",
            "| GPU  Name        Persistence-M| Bus-Id        Disp.A | Volatile Uncorr. ECC |\n",
            "| Fan  Temp  Perf  Pwr:Usage/Cap|         Memory-Usage | GPU-Util  Compute M. |\n",
            "|                               |                      |               MIG M. |\n",
            "|===============================+======================+======================|\n",
            "|   0  Tesla V100-SXM2...  Off  | 00000000:00:04.0 Off |                    0 |\n",
            "| N/A   35C    P0    24W / 300W |      0MiB / 16130MiB |      0%      Default |\n",
            "|                               |                      |                 ERR! |\n",
            "+-------------------------------+----------------------+----------------------+\n",
            "                                                                               \n",
            "+-----------------------------------------------------------------------------+\n",
            "| Processes:                                                                  |\n",
            "|  GPU   GI   CI        PID   Type   Process name                  GPU Memory |\n",
            "|        ID   ID                                                   Usage      |\n",
            "|=============================================================================|\n",
            "|  No running processes found                                                 |\n",
            "+-----------------------------------------------------------------------------+\n"
          ],
          "name": "stdout"
        }
      ]
    },
    {
      "cell_type": "code",
      "metadata": {
        "id": "32gyNAq-RMl3",
        "outputId": "2f4b84e0-0cd8-4531-a874-e43255c69fcf",
        "colab": {
          "base_uri": "https://localhost:8080/",
          "height": 207
        }
      },
      "source": [
        "!wget https://oscar-public.huma-num.fr/shuffled/mr_dedup.txt.gz"
      ],
      "execution_count": 2,
      "outputs": [
        {
          "output_type": "stream",
          "text": [
            "--2020-10-04 05:51:51--  https://oscar-public.huma-num.fr/shuffled/mr_dedup.txt.gz\n",
            "Resolving oscar-public.huma-num.fr (oscar-public.huma-num.fr)... 134.158.33.192\n",
            "Connecting to oscar-public.huma-num.fr (oscar-public.huma-num.fr)|134.158.33.192|:443... connected.\n",
            "HTTP request sent, awaiting response... 200 OK\n",
            "Length: 313843639 (299M) [application/x-gzip]\n",
            "Saving to: ‘mr_dedup.txt.gz’\n",
            "\n",
            "mr_dedup.txt.gz     100%[===================>] 299.30M  67.5MB/s    in 4.6s    \n",
            "\n",
            "2020-10-04 05:51:56 (65.7 MB/s) - ‘mr_dedup.txt.gz’ saved [313843639/313843639]\n",
            "\n"
          ],
          "name": "stdout"
        }
      ]
    },
    {
      "cell_type": "code",
      "metadata": {
        "id": "6zPwUseGidWW",
        "outputId": "983495e3-683b-42cd-9d71-97470bbe9369",
        "colab": {
          "base_uri": "https://localhost:8080/",
          "height": 35
        }
      },
      "source": [
        "!ls"
      ],
      "execution_count": 3,
      "outputs": [
        {
          "output_type": "stream",
          "text": [
            "drive  mr_dedup.txt.gz\tsample_data\n"
          ],
          "name": "stdout"
        }
      ]
    },
    {
      "cell_type": "code",
      "metadata": {
        "id": "WAO8xq4_RgpG",
        "outputId": "4aba175a-d0fd-45a1-f1e8-6eb795f9f6c8",
        "colab": {
          "base_uri": "https://localhost:8080/",
          "height": 35
        }
      },
      "source": [
        "!gzip -d mr_dedup.txt.gz\n",
        "!ls"
      ],
      "execution_count": 4,
      "outputs": [
        {
          "output_type": "stream",
          "text": [
            "drive  mr_dedup.txt  sample_data\n"
          ],
          "name": "stdout"
        }
      ]
    },
    {
      "cell_type": "code",
      "metadata": {
        "id": "UHainplJjrbr",
        "outputId": "6f8e2c7a-68b2-4333-a400-1efcd3140591",
        "colab": {
          "base_uri": "https://localhost:8080/",
          "height": 35
        }
      },
      "source": [
        "from google.colab import drive\n",
        "drive.mount('/content/drive')"
      ],
      "execution_count": 5,
      "outputs": [
        {
          "output_type": "stream",
          "text": [
            "Drive already mounted at /content/drive; to attempt to forcibly remount, call drive.mount(\"/content/drive\", force_remount=True).\n"
          ],
          "name": "stdout"
        }
      ]
    },
    {
      "cell_type": "code",
      "metadata": {
        "id": "jzi6VLMqSBp1",
        "outputId": "68e853b1-7a06-4815-dadb-8e7a177a174c",
        "colab": {
          "base_uri": "https://localhost:8080/",
          "height": 35
        }
      },
      "source": [
        "!wc -l mr_dedup.txt"
      ],
      "execution_count": 6,
      "outputs": [
        {
          "output_type": "stream",
          "text": [
            "1504068 mr_dedup.txt\n"
          ],
          "name": "stdout"
        }
      ]
    },
    {
      "cell_type": "code",
      "metadata": {
        "id": "VRUPX_5DUOzk"
      },
      "source": [
        "import os\n",
        "import gc\n",
        "import glob\n",
        "import torch\n",
        "import pickle\n",
        "import joblib\n",
        "from tqdm.auto import tqdm\n",
        "import pandas as pd\n",
        "import numpy as np"
      ],
      "execution_count": 7,
      "outputs": []
    },
    {
      "cell_type": "code",
      "metadata": {
        "id": "3GdaoH1b9Qxv",
        "outputId": "621ebb55-d208-4880-e2b0-d8daf5167511",
        "colab": {
          "base_uri": "https://localhost:8080/",
          "height": 987
        }
      },
      "source": [
        "!pip install tokenizers\n",
        "!git clone https://github.com/huggingface/transformers\n",
        "!pip install transformers/.\n"
      ],
      "execution_count": 8,
      "outputs": [
        {
          "output_type": "stream",
          "text": [
            "Collecting tokenizers\n",
            "\u001b[?25l  Downloading https://files.pythonhosted.org/packages/e9/ee/fedc3509145ad60fe5b418783f4a4c1b5462a4f0e8c7bbdbda52bdcda486/tokenizers-0.8.1-cp36-cp36m-manylinux1_x86_64.whl (3.0MB)\n",
            "\u001b[K     |████████████████████████████████| 3.0MB 8.1MB/s \n",
            "\u001b[?25hInstalling collected packages: tokenizers\n",
            "Successfully installed tokenizers-0.8.1\n",
            "Cloning into 'transformers'...\n",
            "remote: Enumerating objects: 17, done.\u001b[K\n",
            "remote: Counting objects: 100% (17/17), done.\u001b[K\n",
            "remote: Compressing objects: 100% (15/15), done.\u001b[K\n",
            "remote: Total 44859 (delta 2), reused 11 (delta 0), pack-reused 44842\u001b[K\n",
            "Receiving objects: 100% (44859/44859), 32.19 MiB | 17.41 MiB/s, done.\n",
            "Resolving deltas: 100% (31109/31109), done.\n",
            "Processing ./transformers\n",
            "  Installing build dependencies ... \u001b[?25l\u001b[?25hdone\n",
            "  Getting requirements to build wheel ... \u001b[?25l\u001b[?25hdone\n",
            "    Preparing wheel metadata ... \u001b[?25l\u001b[?25hdone\n",
            "Collecting tokenizers==0.8.1.rc2\n",
            "\u001b[?25l  Downloading https://files.pythonhosted.org/packages/80/83/8b9fccb9e48eeb575ee19179e2bdde0ee9a1904f97de5f02d19016b8804f/tokenizers-0.8.1rc2-cp36-cp36m-manylinux1_x86_64.whl (3.0MB)\n",
            "\u001b[K     |████████████████████████████████| 3.0MB 7.8MB/s \n",
            "\u001b[?25hRequirement already satisfied: dataclasses; python_version < \"3.7\" in /usr/local/lib/python3.6/dist-packages (from transformers==3.3.1) (0.7)\n",
            "Collecting sacremoses\n",
            "\u001b[?25l  Downloading https://files.pythonhosted.org/packages/7d/34/09d19aff26edcc8eb2a01bed8e98f13a1537005d31e95233fd48216eed10/sacremoses-0.0.43.tar.gz (883kB)\n",
            "\u001b[K     |████████████████████████████████| 890kB 49.2MB/s \n",
            "\u001b[?25hCollecting sentencepiece!=0.1.92\n",
            "\u001b[?25l  Downloading https://files.pythonhosted.org/packages/d4/a4/d0a884c4300004a78cca907a6ff9a5e9fe4f090f5d95ab341c53d28cbc58/sentencepiece-0.1.91-cp36-cp36m-manylinux1_x86_64.whl (1.1MB)\n",
            "\u001b[K     |████████████████████████████████| 1.1MB 46.9MB/s \n",
            "\u001b[?25hRequirement already satisfied: requests in /usr/local/lib/python3.6/dist-packages (from transformers==3.3.1) (2.23.0)\n",
            "Requirement already satisfied: numpy in /usr/local/lib/python3.6/dist-packages (from transformers==3.3.1) (1.18.5)\n",
            "Requirement already satisfied: regex!=2019.12.17 in /usr/local/lib/python3.6/dist-packages (from transformers==3.3.1) (2019.12.20)\n",
            "Requirement already satisfied: filelock in /usr/local/lib/python3.6/dist-packages (from transformers==3.3.1) (3.0.12)\n",
            "Requirement already satisfied: tqdm>=4.27 in /usr/local/lib/python3.6/dist-packages (from transformers==3.3.1) (4.41.1)\n",
            "Requirement already satisfied: packaging in /usr/local/lib/python3.6/dist-packages (from transformers==3.3.1) (20.4)\n",
            "Requirement already satisfied: six in /usr/local/lib/python3.6/dist-packages (from sacremoses->transformers==3.3.1) (1.15.0)\n",
            "Requirement already satisfied: click in /usr/local/lib/python3.6/dist-packages (from sacremoses->transformers==3.3.1) (7.1.2)\n",
            "Requirement already satisfied: joblib in /usr/local/lib/python3.6/dist-packages (from sacremoses->transformers==3.3.1) (0.16.0)\n",
            "Requirement already satisfied: urllib3!=1.25.0,!=1.25.1,<1.26,>=1.21.1 in /usr/local/lib/python3.6/dist-packages (from requests->transformers==3.3.1) (1.24.3)\n",
            "Requirement already satisfied: idna<3,>=2.5 in /usr/local/lib/python3.6/dist-packages (from requests->transformers==3.3.1) (2.10)\n",
            "Requirement already satisfied: certifi>=2017.4.17 in /usr/local/lib/python3.6/dist-packages (from requests->transformers==3.3.1) (2020.6.20)\n",
            "Requirement already satisfied: chardet<4,>=3.0.2 in /usr/local/lib/python3.6/dist-packages (from requests->transformers==3.3.1) (3.0.4)\n",
            "Requirement already satisfied: pyparsing>=2.0.2 in /usr/local/lib/python3.6/dist-packages (from packaging->transformers==3.3.1) (2.4.7)\n",
            "Building wheels for collected packages: transformers\n",
            "  Building wheel for transformers (PEP 517) ... \u001b[?25l\u001b[?25hdone\n",
            "  Created wheel for transformers: filename=transformers-3.3.1-cp36-none-any.whl size=1082350 sha256=0d08ca4741faa702c39b016e90cdc3f6bb504597fad1cd29b30eab5a9216b44b\n",
            "  Stored in directory: /tmp/pip-ephem-wheel-cache-rwp0wrsn/wheels/23/19/dd/2561a4e47240cf6b307729d58e56f8077dd0c698f5992216cf\n",
            "Successfully built transformers\n",
            "Building wheels for collected packages: sacremoses\n",
            "  Building wheel for sacremoses (setup.py) ... \u001b[?25l\u001b[?25hdone\n",
            "  Created wheel for sacremoses: filename=sacremoses-0.0.43-cp36-none-any.whl size=893257 sha256=c6a50899e4193ac8ebd9ffe8f52074317c4ba4a83d607ee25d1ed6594675d658\n",
            "  Stored in directory: /root/.cache/pip/wheels/29/3c/fd/7ce5c3f0666dab31a50123635e6fb5e19ceb42ce38d4e58f45\n",
            "Successfully built sacremoses\n",
            "Installing collected packages: tokenizers, sacremoses, sentencepiece, transformers\n",
            "  Found existing installation: tokenizers 0.8.1\n",
            "    Uninstalling tokenizers-0.8.1:\n",
            "      Successfully uninstalled tokenizers-0.8.1\n",
            "Successfully installed sacremoses-0.0.43 sentencepiece-0.1.91 tokenizers-0.8.1rc2 transformers-3.3.1\n"
          ],
          "name": "stdout"
        }
      ]
    },
    {
      "cell_type": "code",
      "metadata": {
        "id": "L4RhEG2D-YQq",
        "outputId": "fff5b18b-cb57-44f9-c3a9-51bb640dd5fe",
        "colab": {
          "base_uri": "https://localhost:8080/",
          "height": 296
        }
      },
      "source": [
        "!head -15  mr_dedup.txt"
      ],
      "execution_count": 9,
      "outputs": [
        {
          "output_type": "stream",
          "text": [
            "Home / motivational marathi story / उद्योजकता (Entrepreneurship) / यांना हे जमलय, तर आपल्याला का नाही जमणार ?\n",
            "यापैकी कोणाचीही सुरुवात स्वप्नवत झाली नव्हती. प्रत्येकाने संघर्ष केला आहे. आपल्या वेड्या स्वप्नांचा पाठलाग केला आहे. हे सर्वजण यशस्वी होऊ शकले कारण त्यांनी आपली स्वप्न पूर्ण करण्यासाठी \"पाहिलं पाऊल\" उचलण्याचं धाडस केलं !\n",
            "आपल्या स्वप्नांचा पाठपुरावा केला तर यश मिळतेच. योग्य संधी शोधता यायला हवी किंवा आलेल्या संधीचा योग्य फायदा घेता आला पाहिजे. या सर्वांना ते जमलं , मग आपल्याला का नाही जमणार ?\n",
            "वेटर्स बिचारे मोठ्यांच्या उपस्थितीमुळे चेहर्‍यावर कौतुकाचे भाव आणून लहान मुलांना मोठ्यांइतकाच आदर देताना दिसले. वेटर्सच काय, तर कॅप्टन्ससुद्धा!\n",
            "मनात कुठेतरी दुखावलो गेलो. आईवडिलांनी चुकून माकून वर्षातून एकदा हॉटेलमध्ये नेले तर वडिलांशी दुर्मीळरीत्या कुजबुजत्या स्वरात आईलासुद्धा बोलताना पाहिलेला मी!\n",
            "ही पिढी बिघडली ती आधीच्या पिढीमुळे, हे सार्वकालीन लागू होणारे विधान मान्य करूनसुद्धा हे जरा अतीच होत आहे असे वाटत राहिले.\n",
            "हो, असं दिसतं खरं आजूबाजुला. आपल्या मुलांनी कसं वागावं हे त्यांच्या आईवडिलांनीच नीट समजावायला हवं. त्याआधी आईवडिलांनी नीट भाषा वापरायला हवी\n",
            "मग ती कोण प्रज्ञा असते ती हसते. दोघींचे नवरे एकमेकांकडे बघून ग्लास उचलतात आणि त्यांच्यातला कोणीतरी एकजण म्हणतो........\n",
            "वेटर किंवा कॅप्टन चेहर्‍यावरचे अत्यंत प्रोफेशनल हास्य काम उरकून पाठ वळताच एका तिरस्कारयुक्त चेहर्‍यात रुपांतरीत करत पुढच्या टेबलकडे जातात.\n",
            "पाल्यांच्या नव्हे, पाल्यांच्यादेखत पालकांच्या थोबाडात लगावावी असे मनात येते. टेबल पुसणार्‍या पोर्‍यालाही अहो म्हणणारे आम्ही वेटर्सशी विनंतीपूर्वक का बोलतो? का जमत नाही माज? किंबहुना, माज जमत नाही हे चांगले आहे हे इतरांना का समजत नाही?\n",
            "हॉटेलिंग करणे हा माझा, माझ्या बायकोचा आणि अनेक अनेक फॅमिली फ्रेंड्सचा आवडत्या छंदांपैकी असलेला एक छंद! पण आमच्या अनुभवात आमच्या वर्तुळातील कुठलाही लहान मुलगा आजतागायत असा वागलेला पाहिलेला नाही. आजूबाजूला मात्र नमुने दिसतात.\n",
            ">>>(डोण्ट कॉल हर सर्व्हंट. त्या आमच्याकडे माझ्या जन्माच्या आधी पासून काम करतायेत. मी असं बोलायला नक्कोच होतं. माय दी इज राईट)<<<\n",
            "जगातली प्रत्येक व्यक्ती ही माणूस आहे आणि म्हणुनच माणूस म्हणून प्रत्येकाने प्रत्येकाला आदरानेच वागवायला हवं असच मला वाटतं.\n",
            "मला आवडलं नाही आणि मी लगेच तिला ओरडले. नशिबाने मी तिला का ओरडले हे घरात सगळ्यांनाच पटलं (तिलाही) त्यामुळे लगेच ती त्यांना सॉरी म्हणाली पण घरी आलेल्या नात्यातल्या एका बहिणीने मात्र मला 'दिद्झ तू तिचा असा कामवाल्यांसमोर इन्सल्ट कसा करू शकतेस? मला अजिबात आवडलं नाही. डोण्ट हर्ट हर इगो इन्फ्रंट ऑफ सर्व्हट्ण्स' असं सुनवलं आणि त्यावर माझ्या बहिणीनेच तिला तिथल्या तिथे (डोण्ट कॉल हर सर्व्हंट. त्या आमच्याकडे माझ्या जन्माच्या आधी पासून काम करतायेत. मी असं बोलायला नक्कोच होतं. माय दी इज राईट) असं ऐकवून गप्प बसवल्याने चर्चा थांबली पण ती बहिण मात्र तोंड पाडून गेली.\n",
            "मात्र काही मित्र हॉटेलात वगैरे गेल्यावर ज्या अ‍ॅरोगन्सने बोलतात ते फारच खटकते... पैसा फेकतोय त्यामुळे वाट्टेल ते बोलण्याचा हक्क मिळालाय..आणि त्यानुरुप तुच्छतेचे बोलणे डाफरणे इत्यादि. अगदी मूडचा बेरंग करणारे तर असतेच पण आपल्यालाही कानकोंडे करणारे असते. हे साधारण दोन नम्बरच्या पैशावाल्यांच्यात जरा जास्तच....\n"
          ],
          "name": "stdout"
        }
      ]
    },
    {
      "cell_type": "code",
      "metadata": {
        "id": "vDR89kkYyIoV"
      },
      "source": [
        "from pathlib import Path\n",
        "\n",
        "from tokenizers import ByteLevelBPETokenizer\n",
        "\n",
        "paths = [\"mr_dedup.txt\"]\n",
        "\n",
        "# Initialize a tokenizer\n",
        "tokenizer = ByteLevelBPETokenizer()\n",
        "\n",
        "# Customize training\n",
        "tokenizer.train(files=paths, vocab_size=52_000, min_frequency=2, special_tokens=[\n",
        "    \"<s>\",\n",
        "    \"<pad>\",\n",
        "    \"</s>\",\n",
        "    \"<unk>\",\n",
        "    \"<mask>\",\n",
        "])\n",
        "\n",
        "# Save files to disk\n",
        "#tokenizer.save_model(\".\", \"marathibert\")"
      ],
      "execution_count": null,
      "outputs": []
    },
    {
      "cell_type": "code",
      "metadata": {
        "id": "95V5NThny3gh",
        "outputId": "c57cab8e-f0bb-4a38-e223-ea16feece095",
        "colab": {
          "base_uri": "https://localhost:8080/",
          "height": 35
        }
      },
      "source": [
        "!mkdir martbertochar\n",
        "tokenizer.save_model(\"martbertochar\")"
      ],
      "execution_count": null,
      "outputs": [
        {
          "output_type": "execute_result",
          "data": {
            "text/plain": [
              "['martbertochar/vocab.json', 'martbertochar/merges.txt']"
            ]
          },
          "metadata": {
            "tags": []
          },
          "execution_count": 10
        }
      ]
    },
    {
      "cell_type": "code",
      "metadata": {
        "id": "hEEgaNdizSz-"
      },
      "source": [
        "from tokenizers.implementations import ByteLevelBPETokenizer\n",
        "from tokenizers.processors import BertProcessing\n",
        "\n",
        "\n",
        "tokenizer = ByteLevelBPETokenizer(\n",
        "    \"./martbertochar/vocab.json\",\n",
        "    \"./martbertochar/merges.txt\",\n",
        ")"
      ],
      "execution_count": 1,
      "outputs": []
    },
    {
      "cell_type": "code",
      "metadata": {
        "id": "FN9o8Q9UzfWf"
      },
      "source": [
        "tokenizer._tokenizer.post_processor = BertProcessing(\n",
        "    (\"</s>\", tokenizer.token_to_id(\"</s>\")),\n",
        "    (\"<s>\", tokenizer.token_to_id(\"<s>\")),\n",
        ")\n",
        "tokenizer.enable_truncation(max_length=512)"
      ],
      "execution_count": 2,
      "outputs": []
    },
    {
      "cell_type": "code",
      "metadata": {
        "id": "vwlLY8DYzhin"
      },
      "source": [
        "op = tokenizer.encode(\"एखाद्या कुशल चित्रकाराने कुंचल्याच्या अवघ्या चार-सहा फटकाऱ्यांसरशी एखादे सुरेख चित्र निर्माण करावे तद्वत अवघ्या आठ ओळीत बालकवींनी एक सुंदर निसर्गचित्र शब्दांच्या कुंचल्याने या कवितेत रेखाटलेले आहे.  \")"
      ],
      "execution_count": 3,
      "outputs": []
    },
    {
      "cell_type": "code",
      "metadata": {
        "id": "VMmV0EYHx4dN"
      },
      "source": [
        "from tokenizers.decoders import ByteLevel\n",
        "decoder = ByteLevel()\n",
        "import json"
      ],
      "execution_count": 4,
      "outputs": []
    },
    {
      "cell_type": "code",
      "metadata": {
        "id": "DQwzX-dntEFv",
        "outputId": "4d8e616c-41bc-4eb4-cd6d-9290b11f991f",
        "colab": {
          "base_uri": "https://localhost:8080/",
          "height": 35
        }
      },
      "source": [
        "tokenizer.decode(op.ids)"
      ],
      "execution_count": 5,
      "outputs": [
        {
          "output_type": "execute_result",
          "data": {
            "application/vnd.google.colaboratory.intrinsic+json": {
              "type": "string"
            },
            "text/plain": [
              "'<s>एखाद्या कुशल चित्रकाराने कुंचल्याच्या अवघ्या चार-सहा फटकाऱ्यांसरशी एखादे सुरेख चित्र निर्माण करावे तद्वत अवघ्या आठ ओळीत बालकवींनी एक सुंदर निसर्गचित्र शब्दांच्या कुंचल्याने या कवितेत रेखाटलेले आहे.  </s>'"
            ]
          },
          "metadata": {
            "tags": []
          },
          "execution_count": 5
        }
      ]
    },
    {
      "cell_type": "code",
      "metadata": {
        "id": "VSjJLIe2MyQ8"
      },
      "source": [
        "!tail  +800000 mr_dedup.txt > output1.txt"
      ],
      "execution_count": 23,
      "outputs": []
    },
    {
      "cell_type": "code",
      "metadata": {
        "id": "VqsbFpDdM4w7",
        "outputId": "87d792ac-9f73-4e1e-f2bf-c57457ab3748",
        "colab": {
          "base_uri": "https://localhost:8080/",
          "height": 35
        }
      },
      "source": [
        "!wc -l output1.txt"
      ],
      "execution_count": 24,
      "outputs": [
        {
          "output_type": "stream",
          "text": [
            "704069 output1.txt\n"
          ],
          "name": "stdout"
        }
      ]
    },
    {
      "cell_type": "code",
      "metadata": {
        "id": "4kcDRRv05wMj"
      },
      "source": [
        "from transformers import RobertaConfig\n",
        "\n",
        "config = RobertaConfig(\n",
        "    vocab_size=52_000,\n",
        "    max_position_embeddings=514,\n",
        "    num_attention_heads=12,\n",
        "    num_hidden_layers=12,\n",
        "    type_vocab_size=1,\n",
        ")"
      ],
      "execution_count": 6,
      "outputs": []
    },
    {
      "cell_type": "code",
      "metadata": {
        "id": "8PkEqh815-9g"
      },
      "source": [
        "from transformers import RobertaTokenizerFast\n",
        "\n",
        "\n",
        "tokenizer = RobertaTokenizerFast.from_pretrained(\"./martbertochar\", max_len=512)"
      ],
      "execution_count": 7,
      "outputs": []
    },
    {
      "cell_type": "code",
      "metadata": {
        "id": "-XlomtCE6BMM"
      },
      "source": [
        "from transformers import RobertaForMaskedLM\n",
        "\n",
        "#model = RobertaForMaskedLM(config=config)\n",
        "model = RobertaForMaskedLM.from_pretrained('./martbertochar', return_dict=True)"
      ],
      "execution_count": 15,
      "outputs": []
    },
    {
      "cell_type": "code",
      "metadata": {
        "id": "0Gn9AEbg6CZX",
        "outputId": "64fd9647-dfb7-4967-d7b0-74a12f1569f0",
        "colab": {
          "base_uri": "https://localhost:8080/",
          "height": 35
        }
      },
      "source": [
        "model.num_parameters()\n",
        "# => 84 million parameters"
      ],
      "execution_count": 16,
      "outputs": [
        {
          "output_type": "execute_result",
          "data": {
            "text/plain": [
              "126031648"
            ]
          },
          "metadata": {
            "tags": []
          },
          "execution_count": 16
        }
      ]
    },
    {
      "cell_type": "code",
      "metadata": {
        "id": "3yJ1NdpR6Ddz",
        "outputId": "6f4ab664-305e-4dc2-ede7-e68f4b55c4de",
        "colab": {
          "base_uri": "https://localhost:8080/",
          "height": 52
        }
      },
      "source": [
        "%%time\n",
        "from transformers import LineByLineTextDataset\n",
        "dataset = LineByLineTextDataset(\n",
        "    tokenizer=tokenizer,\n",
        "    file_path=\"output1.txt\",\n",
        "    block_size=128,\n",
        ")"
      ],
      "execution_count": 10,
      "outputs": [
        {
          "output_type": "stream",
          "text": [
            "CPU times: user 7min 9s, sys: 16.8 s, total: 7min 25s\n",
            "Wall time: 2min 41s\n"
          ],
          "name": "stdout"
        }
      ]
    },
    {
      "cell_type": "code",
      "metadata": {
        "id": "38ixDMWXACII"
      },
      "source": [
        "from transformers import DataCollatorForLanguageModeling\n",
        "??DataCollatorForLanguageModeling"
      ],
      "execution_count": 11,
      "outputs": []
    },
    {
      "cell_type": "code",
      "metadata": {
        "id": "dThQR1ms6HWp"
      },
      "source": [
        "from transformers import DataCollatorForLanguageModeling\n",
        "\n",
        "data_collator = DataCollatorForLanguageModeling(\n",
        "    tokenizer=tokenizer, mlm=True, mlm_probability=0.20\n",
        ")"
      ],
      "execution_count": 12,
      "outputs": []
    },
    {
      "cell_type": "code",
      "metadata": {
        "id": "FqH0KGE76Iue",
        "outputId": "f2416632-2e73-4181-f31e-f064af564fc9",
        "colab": {
          "base_uri": "https://localhost:8080/",
          "height": 72
        }
      },
      "source": [
        "from transformers import Trainer, TrainingArguments\n",
        "\n",
        "training_args = TrainingArguments(\n",
        "    output_dir=\"./martbertochar\",\n",
        "    overwrite_output_dir=True,\n",
        "    num_train_epochs=4,\n",
        "    per_gpu_train_batch_size=48,\n",
        "    save_steps=10_000,\n",
        "    save_total_limit=2,\n",
        ")\n",
        "\n",
        "trainer = Trainer(\n",
        "    model=model,\n",
        "    args=training_args,\n",
        "    data_collator=data_collator,\n",
        "    train_dataset=dataset,\n",
        "    prediction_loss_only=True,\n",
        ")\n"
      ],
      "execution_count": 17,
      "outputs": [
        {
          "output_type": "stream",
          "text": [
            "/usr/local/lib/python3.6/dist-packages/transformers/trainer.py:267: FutureWarning: Passing `prediction_loss_only` as a keyword argument is deprecated and won't be possible in a future version. Use `args.prediction_loss_only` instead. Setting `args.prediction_loss_only=True\n",
            "  FutureWarning,\n"
          ],
          "name": "stderr"
        }
      ]
    },
    {
      "cell_type": "code",
      "metadata": {
        "id": "Ti-0tsRk6S_e",
        "outputId": "788c8c51-c6b8-4c10-884c-517cef5cb6f3",
        "colab": {
          "base_uri": "https://localhost:8080/",
          "height": 340,
          "referenced_widgets": [
            "c4f6fd6849db4f01b09fe16bdfd42c5c",
            "b5ef8c35be994ef8afcd619a06e4afe4",
            "dcb52d7377374d3d814da7d9fb6a31fe",
            "e0d603f73f6d4eed9e0e757040c0e097",
            "378a69474de14d278b29922952ae9f7f",
            "e9d4d7c0a2904d4ba1715dd22e6bb3c8",
            "19e5940485dc43f5ab1b714c21f1237d",
            "b4b8ff146aee4a5fa32b3861069f59ee",
            "dfc4dce8f6d64959a90b19f09f4539b3",
            "d2939e5a51ec47f98106b3d667765e5c",
            "dc0cb4a295bb4d05bb7375481fbd3cc6",
            "6ef4465c57254aa4901fb00e0720ef98",
            "60dda10d51f142d4a250116dcfa6e113",
            "e1aeece0c28a4793bf0106555bb05bc1",
            "687889a51dba41b2a7482e4de0e45a0d",
            "c4d555b9093548779e69e000c40c0d0c"
          ]
        }
      },
      "source": [
        "%%time\n",
        "trainer.train()"
      ],
      "execution_count": null,
      "outputs": [
        {
          "output_type": "stream",
          "text": [
            "Using deprecated `--per_gpu_train_batch_size` argument which will be removed in a future version. Using `--per_device_train_batch_size` is preferred.\n",
            "Using deprecated `--per_gpu_train_batch_size` argument which will be removed in a future version. Using `--per_device_train_batch_size` is preferred.\n",
            "Using deprecated `--per_gpu_train_batch_size` argument which will be removed in a future version. Using `--per_device_train_batch_size` is preferred.\n"
          ],
          "name": "stderr"
        },
        {
          "output_type": "display_data",
          "data": {
            "application/vnd.jupyter.widget-view+json": {
              "model_id": "c4f6fd6849db4f01b09fe16bdfd42c5c",
              "version_minor": 0,
              "version_major": 2
            },
            "text/plain": [
              "HBox(children=(FloatProgress(value=0.0, description='Epoch', max=4.0, style=ProgressStyle(description_width='i…"
            ]
          },
          "metadata": {
            "tags": []
          }
        },
        {
          "output_type": "display_data",
          "data": {
            "application/vnd.jupyter.widget-view+json": {
              "model_id": "dfc4dce8f6d64959a90b19f09f4539b3",
              "version_minor": 0,
              "version_major": 2
            },
            "text/plain": [
              "HBox(children=(FloatProgress(value=0.0, description='Iteration', max=14669.0, style=ProgressStyle(description_…"
            ]
          },
          "metadata": {
            "tags": []
          }
        },
        {
          "output_type": "stream",
          "text": [
            "{'loss': 1.1920186767578125, 'learning_rate': 4.957393142000137e-05, 'epoch': 0.034085486399890924, 'total_flos': 2323015335936000, 'step': 500}\n",
            "{'loss': 1.1840626220703125, 'learning_rate': 4.914786284000273e-05, 'epoch': 0.06817097279978185, 'total_flos': 4646030671872000, 'step': 1000}\n",
            "{'loss': 1.176662109375, 'learning_rate': 4.87217942600041e-05, 'epoch': 0.10225645919967279, 'total_flos': 6969046007808000, 'step': 1500}\n",
            "{'loss': 1.172072509765625, 'learning_rate': 4.829572568000546e-05, 'epoch': 0.1363419455995637, 'total_flos': 9292061343744000, 'step': 2000}\n",
            "{'loss': 1.165943359375, 'learning_rate': 4.786965710000682e-05, 'epoch': 0.17042743199945462, 'total_flos': 11615076679680000, 'step': 2500}\n",
            "{'loss': 1.16050830078125, 'learning_rate': 4.744358852000818e-05, 'epoch': 0.20451291839934557, 'total_flos': 13938092015616000, 'step': 3000}\n",
            "{'loss': 1.153578125, 'learning_rate': 4.7017519940009545e-05, 'epoch': 0.2385984047992365, 'total_flos': 16261107351552000, 'step': 3500}\n",
            "{'loss': 1.1501328125, 'learning_rate': 4.6591451360010906e-05, 'epoch': 0.2726838911991274, 'total_flos': 18584122687488000, 'step': 4000}\n",
            "{'loss': 1.1450322265625, 'learning_rate': 4.616538278001227e-05, 'epoch': 0.30676937759901834, 'total_flos': 20907138023424000, 'step': 4500}\n",
            "{'loss': 1.1311162109375, 'learning_rate': 4.573931420001364e-05, 'epoch': 0.34085486399890924, 'total_flos': 23230153359360000, 'step': 5000}\n",
            "{'loss': 1.12878125, 'learning_rate': 4.5313245620015e-05, 'epoch': 0.3749403503988002, 'total_flos': 25553168695296000, 'step': 5500}\n",
            "{'loss': 1.11521484375, 'learning_rate': 4.488717704001637e-05, 'epoch': 0.40902583679869114, 'total_flos': 27876184031232000, 'step': 6000}\n"
          ],
          "name": "stdout"
        }
      ]
    },
    {
      "cell_type": "code",
      "metadata": {
        "id": "49IhJyxg6W9R"
      },
      "source": [
        " trainer.save_model(\"./martbertochar\")"
      ],
      "execution_count": 17,
      "outputs": []
    },
    {
      "cell_type": "code",
      "metadata": {
        "id": "Wh_uqkq3IVts"
      },
      "source": [
        "from transformers import pipeline\n",
        "\n",
        "fill_mask = pipeline(\n",
        "    \"fill-mask\",\n",
        "    model=\"./martbertochar\",\n",
        "    tokenizer=\"./martbertochar\"\n",
        ")"
      ],
      "execution_count": 19,
      "outputs": []
    },
    {
      "cell_type": "code",
      "metadata": {
        "id": "jnc0N_sj0f-u",
        "outputId": "6bf2f1e0-ceff-47a6-88e3-24ccf6be41fe",
        "colab": {
          "base_uri": "https://localhost:8080/",
          "height": 35
        }
      },
      "source": [
        "tokenizer.mask_token"
      ],
      "execution_count": null,
      "outputs": [
        {
          "output_type": "execute_result",
          "data": {
            "application/vnd.google.colaboratory.intrinsic+json": {
              "type": "string"
            },
            "text/plain": [
              "'<mask>'"
            ]
          },
          "metadata": {
            "tags": []
          },
          "execution_count": 32
        }
      ]
    },
    {
      "cell_type": "code",
      "metadata": {
        "id": "4-8TnLifIgmZ",
        "outputId": "ee4f05b4-0632-41be-ba15-8c9146db67c6",
        "colab": {
          "base_uri": "https://localhost:8080/",
          "height": 363
        }
      },
      "source": [
        "fill_mask(\"या गोष्टीचा <mask> \")"
      ],
      "execution_count": 22,
      "outputs": [
        {
          "output_type": "execute_result",
          "data": {
            "text/plain": [
              "[{'score': 0.026546860113739967,\n",
              "  'sequence': '<s>या गोष्टीचा एक </s>',\n",
              "  'token': 338,\n",
              "  'token_str': 'Ġà¤ıà¤ķ'},\n",
              " {'score': 0.009339679032564163,\n",
              "  'sequence': '<s>या गोष्टीचाच </s>',\n",
              "  'token': 277,\n",
              "  'token_str': 'à¤ļ'},\n",
              " {'score': 0.007854795083403587,\n",
              "  'sequence': '<s>या गोष्टीचा ( </s>',\n",
              "  'token': 394,\n",
              "  'token_str': 'Ġ('},\n",
              " {'score': 0.0071095433086156845,\n",
              "  'sequence': '<s>या गोष्टीचा आवडत </s>',\n",
              "  'token': 1128,\n",
              "  'token_str': 'Ġà¤Ĩà¤µà¤¡à¤¤'},\n",
              " {'score': 0.0069724214263260365,\n",
              "  'sequence': '<s>या गोष्टीचा ह </s>',\n",
              "  'token': 299,\n",
              "  'token_str': 'Ġà¤¹'}]"
            ]
          },
          "metadata": {
            "tags": []
          },
          "execution_count": 22
        }
      ]
    },
    {
      "cell_type": "code",
      "metadata": {
        "id": "qKUAq1SI3jwr",
        "outputId": "e4740aab-b177-4796-dc85-cf993a5e720a",
        "colab": {
          "base_uri": "https://localhost:8080/",
          "height": 52
        }
      },
      "source": [
        "`!mkdir /content/drive/My Drive/marathibert"
      ],
      "execution_count": null,
      "outputs": [
        {
          "output_type": "stream",
          "text": [
            "mkdir: cannot create directory ‘/content/drive/My’: Operation not supported\n",
            "mkdir: cannot create directory ‘Drive/marathibert’: No such file or directory\n"
          ],
          "name": "stdout"
        }
      ]
    },
    {
      "cell_type": "code",
      "metadata": {
        "id": "ztkUGY7l7VEp"
      },
      "source": [
        "!cp -r /content/martbertochar/ /content/drive/My\\ Drive/bigroberta"
      ],
      "execution_count": 18,
      "outputs": []
    },
    {
      "cell_type": "code",
      "metadata": {
        "id": "aXXqfhtw7d4N"
      },
      "source": [
        "!cp -r /content/drive/My\\ Drive/martbertochar/vocab*  /content/martbertochar/"
      ],
      "execution_count": 14,
      "outputs": []
    },
    {
      "cell_type": "code",
      "metadata": {
        "id": "pQ9xt4dVRHFq"
      },
      "source": [
        "!rm -r /content/martbertochar/*.bin"
      ],
      "execution_count": null,
      "outputs": []
    },
    {
      "cell_type": "code",
      "metadata": {
        "id": "hUgkbFpC-MVw"
      },
      "source": [
        "!mkdir martbertochar"
      ],
      "execution_count": 12,
      "outputs": []
    },
    {
      "cell_type": "code",
      "metadata": {
        "id": "Ttdg1R0DK6bR"
      },
      "source": [
        ""
      ],
      "execution_count": null,
      "outputs": []
    }
  ]
}