{
  "nbformat": 4,
  "nbformat_minor": 0,
  "metadata": {
    "colab": {
      "name": "IndianLanguageModel.ipynb",
      "provenance": [],
      "collapsed_sections": [],
      "authorship_tag": "ABX9TyO3qwSr9FevODv3O4XORMs4",
      "include_colab_link": true
    },
    "kernelspec": {
      "name": "python3",
      "display_name": "Python 3"
    },
    "accelerator": "GPU",
    "widgets": {
      "application/vnd.jupyter.widget-state+json": {
        "991f866907474e749234dc18d975d408": {
          "model_module": "@jupyter-widgets/controls",
          "model_name": "HBoxModel",
          "state": {
            "_view_name": "HBoxView",
            "_dom_classes": [],
            "_model_name": "HBoxModel",
            "_view_module": "@jupyter-widgets/controls",
            "_model_module_version": "1.5.0",
            "_view_count": null,
            "_view_module_version": "1.5.0",
            "box_style": "",
            "layout": "IPY_MODEL_b9a5cf4a17c54c8ca38d1bca00522c17",
            "_model_module": "@jupyter-widgets/controls",
            "children": [
              "IPY_MODEL_412d989a4fcc4501a2feb3f27aeb43b7",
              "IPY_MODEL_2ab9bc9b49954b80b094ecad8ea27d3c"
            ]
          }
        },
        "b9a5cf4a17c54c8ca38d1bca00522c17": {
          "model_module": "@jupyter-widgets/base",
          "model_name": "LayoutModel",
          "state": {
            "_view_name": "LayoutView",
            "grid_template_rows": null,
            "right": null,
            "justify_content": null,
            "_view_module": "@jupyter-widgets/base",
            "overflow": null,
            "_model_module_version": "1.2.0",
            "_view_count": null,
            "flex_flow": null,
            "width": null,
            "min_width": null,
            "border": null,
            "align_items": null,
            "bottom": null,
            "_model_module": "@jupyter-widgets/base",
            "top": null,
            "grid_column": null,
            "overflow_y": null,
            "overflow_x": null,
            "grid_auto_flow": null,
            "grid_area": null,
            "grid_template_columns": null,
            "flex": null,
            "_model_name": "LayoutModel",
            "justify_items": null,
            "grid_row": null,
            "max_height": null,
            "align_content": null,
            "visibility": null,
            "align_self": null,
            "height": null,
            "min_height": null,
            "padding": null,
            "grid_auto_rows": null,
            "grid_gap": null,
            "max_width": null,
            "order": null,
            "_view_module_version": "1.2.0",
            "grid_template_areas": null,
            "object_position": null,
            "object_fit": null,
            "grid_auto_columns": null,
            "margin": null,
            "display": null,
            "left": null
          }
        },
        "412d989a4fcc4501a2feb3f27aeb43b7": {
          "model_module": "@jupyter-widgets/controls",
          "model_name": "FloatProgressModel",
          "state": {
            "_view_name": "ProgressView",
            "style": "IPY_MODEL_ab8eea1a088a4649bef29cec0f3a0c7f",
            "_dom_classes": [],
            "description": "Epoch:  25%",
            "_model_name": "FloatProgressModel",
            "bar_style": "",
            "max": 4,
            "_view_module": "@jupyter-widgets/controls",
            "_model_module_version": "1.5.0",
            "value": 1,
            "_view_count": null,
            "_view_module_version": "1.5.0",
            "orientation": "horizontal",
            "min": 0,
            "description_tooltip": null,
            "_model_module": "@jupyter-widgets/controls",
            "layout": "IPY_MODEL_e5eb22e1deba47d482096c63eec766a5"
          }
        },
        "2ab9bc9b49954b80b094ecad8ea27d3c": {
          "model_module": "@jupyter-widgets/controls",
          "model_name": "HTMLModel",
          "state": {
            "_view_name": "HTMLView",
            "style": "IPY_MODEL_211e2d3ebc2040f1a013672f77d978dc",
            "_dom_classes": [],
            "description": "",
            "_model_name": "HTMLModel",
            "placeholder": "​",
            "_view_module": "@jupyter-widgets/controls",
            "_model_module_version": "1.5.0",
            "value": " 1/4 [52:07&lt;2:36:21, 3127.27s/it]",
            "_view_count": null,
            "_view_module_version": "1.5.0",
            "description_tooltip": null,
            "_model_module": "@jupyter-widgets/controls",
            "layout": "IPY_MODEL_59ff1e19d7db4120b7cb18a9b64d1348"
          }
        },
        "ab8eea1a088a4649bef29cec0f3a0c7f": {
          "model_module": "@jupyter-widgets/controls",
          "model_name": "ProgressStyleModel",
          "state": {
            "_view_name": "StyleView",
            "_model_name": "ProgressStyleModel",
            "description_width": "initial",
            "_view_module": "@jupyter-widgets/base",
            "_model_module_version": "1.5.0",
            "_view_count": null,
            "_view_module_version": "1.2.0",
            "bar_color": null,
            "_model_module": "@jupyter-widgets/controls"
          }
        },
        "e5eb22e1deba47d482096c63eec766a5": {
          "model_module": "@jupyter-widgets/base",
          "model_name": "LayoutModel",
          "state": {
            "_view_name": "LayoutView",
            "grid_template_rows": null,
            "right": null,
            "justify_content": null,
            "_view_module": "@jupyter-widgets/base",
            "overflow": null,
            "_model_module_version": "1.2.0",
            "_view_count": null,
            "flex_flow": null,
            "width": null,
            "min_width": null,
            "border": null,
            "align_items": null,
            "bottom": null,
            "_model_module": "@jupyter-widgets/base",
            "top": null,
            "grid_column": null,
            "overflow_y": null,
            "overflow_x": null,
            "grid_auto_flow": null,
            "grid_area": null,
            "grid_template_columns": null,
            "flex": null,
            "_model_name": "LayoutModel",
            "justify_items": null,
            "grid_row": null,
            "max_height": null,
            "align_content": null,
            "visibility": null,
            "align_self": null,
            "height": null,
            "min_height": null,
            "padding": null,
            "grid_auto_rows": null,
            "grid_gap": null,
            "max_width": null,
            "order": null,
            "_view_module_version": "1.2.0",
            "grid_template_areas": null,
            "object_position": null,
            "object_fit": null,
            "grid_auto_columns": null,
            "margin": null,
            "display": null,
            "left": null
          }
        },
        "211e2d3ebc2040f1a013672f77d978dc": {
          "model_module": "@jupyter-widgets/controls",
          "model_name": "DescriptionStyleModel",
          "state": {
            "_view_name": "StyleView",
            "_model_name": "DescriptionStyleModel",
            "description_width": "",
            "_view_module": "@jupyter-widgets/base",
            "_model_module_version": "1.5.0",
            "_view_count": null,
            "_view_module_version": "1.2.0",
            "_model_module": "@jupyter-widgets/controls"
          }
        },
        "59ff1e19d7db4120b7cb18a9b64d1348": {
          "model_module": "@jupyter-widgets/base",
          "model_name": "LayoutModel",
          "state": {
            "_view_name": "LayoutView",
            "grid_template_rows": null,
            "right": null,
            "justify_content": null,
            "_view_module": "@jupyter-widgets/base",
            "overflow": null,
            "_model_module_version": "1.2.0",
            "_view_count": null,
            "flex_flow": null,
            "width": null,
            "min_width": null,
            "border": null,
            "align_items": null,
            "bottom": null,
            "_model_module": "@jupyter-widgets/base",
            "top": null,
            "grid_column": null,
            "overflow_y": null,
            "overflow_x": null,
            "grid_auto_flow": null,
            "grid_area": null,
            "grid_template_columns": null,
            "flex": null,
            "_model_name": "LayoutModel",
            "justify_items": null,
            "grid_row": null,
            "max_height": null,
            "align_content": null,
            "visibility": null,
            "align_self": null,
            "height": null,
            "min_height": null,
            "padding": null,
            "grid_auto_rows": null,
            "grid_gap": null,
            "max_width": null,
            "order": null,
            "_view_module_version": "1.2.0",
            "grid_template_areas": null,
            "object_position": null,
            "object_fit": null,
            "grid_auto_columns": null,
            "margin": null,
            "display": null,
            "left": null
          }
        },
        "e11ff62f76f64fb1a902618589829d6b": {
          "model_module": "@jupyter-widgets/controls",
          "model_name": "HBoxModel",
          "state": {
            "_view_name": "HBoxView",
            "_dom_classes": [],
            "_model_name": "HBoxModel",
            "_view_module": "@jupyter-widgets/controls",
            "_model_module_version": "1.5.0",
            "_view_count": null,
            "_view_module_version": "1.5.0",
            "box_style": "",
            "layout": "IPY_MODEL_14917fcf08bd41bd8a44e9a9861f2110",
            "_model_module": "@jupyter-widgets/controls",
            "children": [
              "IPY_MODEL_65e1b4b3d9ea4cfe9ed2a6eb58e89f01",
              "IPY_MODEL_3db56cbff76d41c2b7c003744658e978"
            ]
          }
        },
        "14917fcf08bd41bd8a44e9a9861f2110": {
          "model_module": "@jupyter-widgets/base",
          "model_name": "LayoutModel",
          "state": {
            "_view_name": "LayoutView",
            "grid_template_rows": null,
            "right": null,
            "justify_content": null,
            "_view_module": "@jupyter-widgets/base",
            "overflow": null,
            "_model_module_version": "1.2.0",
            "_view_count": null,
            "flex_flow": null,
            "width": null,
            "min_width": null,
            "border": null,
            "align_items": null,
            "bottom": null,
            "_model_module": "@jupyter-widgets/base",
            "top": null,
            "grid_column": null,
            "overflow_y": null,
            "overflow_x": null,
            "grid_auto_flow": null,
            "grid_area": null,
            "grid_template_columns": null,
            "flex": null,
            "_model_name": "LayoutModel",
            "justify_items": null,
            "grid_row": null,
            "max_height": null,
            "align_content": null,
            "visibility": null,
            "align_self": null,
            "height": null,
            "min_height": null,
            "padding": null,
            "grid_auto_rows": null,
            "grid_gap": null,
            "max_width": null,
            "order": null,
            "_view_module_version": "1.2.0",
            "grid_template_areas": null,
            "object_position": null,
            "object_fit": null,
            "grid_auto_columns": null,
            "margin": null,
            "display": null,
            "left": null
          }
        },
        "65e1b4b3d9ea4cfe9ed2a6eb58e89f01": {
          "model_module": "@jupyter-widgets/controls",
          "model_name": "FloatProgressModel",
          "state": {
            "_view_name": "ProgressView",
            "style": "IPY_MODEL_0bf91915f0694f43a25f3c54e27ef7f3",
            "_dom_classes": [],
            "description": "Iteration: 100%",
            "_model_name": "FloatProgressModel",
            "bar_style": "success",
            "max": 8200,
            "_view_module": "@jupyter-widgets/controls",
            "_model_module_version": "1.5.0",
            "value": 8200,
            "_view_count": null,
            "_view_module_version": "1.5.0",
            "orientation": "horizontal",
            "min": 0,
            "description_tooltip": null,
            "_model_module": "@jupyter-widgets/controls",
            "layout": "IPY_MODEL_56aeeeb38c0b4a56bcf7ab290f0502a1"
          }
        },
        "3db56cbff76d41c2b7c003744658e978": {
          "model_module": "@jupyter-widgets/controls",
          "model_name": "HTMLModel",
          "state": {
            "_view_name": "HTMLView",
            "style": "IPY_MODEL_6cb31e1ae036454ab14d46f7bb112b2c",
            "_dom_classes": [],
            "description": "",
            "_model_name": "HTMLModel",
            "placeholder": "​",
            "_view_module": "@jupyter-widgets/controls",
            "_model_module_version": "1.5.0",
            "value": " 8200/8200 [52:07&lt;00:00,  2.62it/s]",
            "_view_count": null,
            "_view_module_version": "1.5.0",
            "description_tooltip": null,
            "_model_module": "@jupyter-widgets/controls",
            "layout": "IPY_MODEL_8e65010f7a824e828fe1027266f6f8e0"
          }
        },
        "0bf91915f0694f43a25f3c54e27ef7f3": {
          "model_module": "@jupyter-widgets/controls",
          "model_name": "ProgressStyleModel",
          "state": {
            "_view_name": "StyleView",
            "_model_name": "ProgressStyleModel",
            "description_width": "initial",
            "_view_module": "@jupyter-widgets/base",
            "_model_module_version": "1.5.0",
            "_view_count": null,
            "_view_module_version": "1.2.0",
            "bar_color": null,
            "_model_module": "@jupyter-widgets/controls"
          }
        },
        "56aeeeb38c0b4a56bcf7ab290f0502a1": {
          "model_module": "@jupyter-widgets/base",
          "model_name": "LayoutModel",
          "state": {
            "_view_name": "LayoutView",
            "grid_template_rows": null,
            "right": null,
            "justify_content": null,
            "_view_module": "@jupyter-widgets/base",
            "overflow": null,
            "_model_module_version": "1.2.0",
            "_view_count": null,
            "flex_flow": null,
            "width": null,
            "min_width": null,
            "border": null,
            "align_items": null,
            "bottom": null,
            "_model_module": "@jupyter-widgets/base",
            "top": null,
            "grid_column": null,
            "overflow_y": null,
            "overflow_x": null,
            "grid_auto_flow": null,
            "grid_area": null,
            "grid_template_columns": null,
            "flex": null,
            "_model_name": "LayoutModel",
            "justify_items": null,
            "grid_row": null,
            "max_height": null,
            "align_content": null,
            "visibility": null,
            "align_self": null,
            "height": null,
            "min_height": null,
            "padding": null,
            "grid_auto_rows": null,
            "grid_gap": null,
            "max_width": null,
            "order": null,
            "_view_module_version": "1.2.0",
            "grid_template_areas": null,
            "object_position": null,
            "object_fit": null,
            "grid_auto_columns": null,
            "margin": null,
            "display": null,
            "left": null
          }
        },
        "6cb31e1ae036454ab14d46f7bb112b2c": {
          "model_module": "@jupyter-widgets/controls",
          "model_name": "DescriptionStyleModel",
          "state": {
            "_view_name": "StyleView",
            "_model_name": "DescriptionStyleModel",
            "description_width": "",
            "_view_module": "@jupyter-widgets/base",
            "_model_module_version": "1.5.0",
            "_view_count": null,
            "_view_module_version": "1.2.0",
            "_model_module": "@jupyter-widgets/controls"
          }
        },
        "8e65010f7a824e828fe1027266f6f8e0": {
          "model_module": "@jupyter-widgets/base",
          "model_name": "LayoutModel",
          "state": {
            "_view_name": "LayoutView",
            "grid_template_rows": null,
            "right": null,
            "justify_content": null,
            "_view_module": "@jupyter-widgets/base",
            "overflow": null,
            "_model_module_version": "1.2.0",
            "_view_count": null,
            "flex_flow": null,
            "width": null,
            "min_width": null,
            "border": null,
            "align_items": null,
            "bottom": null,
            "_model_module": "@jupyter-widgets/base",
            "top": null,
            "grid_column": null,
            "overflow_y": null,
            "overflow_x": null,
            "grid_auto_flow": null,
            "grid_area": null,
            "grid_template_columns": null,
            "flex": null,
            "_model_name": "LayoutModel",
            "justify_items": null,
            "grid_row": null,
            "max_height": null,
            "align_content": null,
            "visibility": null,
            "align_self": null,
            "height": null,
            "min_height": null,
            "padding": null,
            "grid_auto_rows": null,
            "grid_gap": null,
            "max_width": null,
            "order": null,
            "_view_module_version": "1.2.0",
            "grid_template_areas": null,
            "object_position": null,
            "object_fit": null,
            "grid_auto_columns": null,
            "margin": null,
            "display": null,
            "left": null
          }
        },
        "3fa074b62d2a47859c7d59e7ffb888df": {
          "model_module": "@jupyter-widgets/controls",
          "model_name": "HBoxModel",
          "state": {
            "_view_name": "HBoxView",
            "_dom_classes": [],
            "_model_name": "HBoxModel",
            "_view_module": "@jupyter-widgets/controls",
            "_model_module_version": "1.5.0",
            "_view_count": null,
            "_view_module_version": "1.5.0",
            "box_style": "",
            "layout": "IPY_MODEL_21b70ea4393747bdad1e4aa57898b49c",
            "_model_module": "@jupyter-widgets/controls",
            "children": [
              "IPY_MODEL_2862f322d4184410aaa5233654e08e75",
              "IPY_MODEL_64dd2de75bbe4cb4a2cb57356a71f277"
            ]
          }
        },
        "21b70ea4393747bdad1e4aa57898b49c": {
          "model_module": "@jupyter-widgets/base",
          "model_name": "LayoutModel",
          "state": {
            "_view_name": "LayoutView",
            "grid_template_rows": null,
            "right": null,
            "justify_content": null,
            "_view_module": "@jupyter-widgets/base",
            "overflow": null,
            "_model_module_version": "1.2.0",
            "_view_count": null,
            "flex_flow": null,
            "width": null,
            "min_width": null,
            "border": null,
            "align_items": null,
            "bottom": null,
            "_model_module": "@jupyter-widgets/base",
            "top": null,
            "grid_column": null,
            "overflow_y": null,
            "overflow_x": null,
            "grid_auto_flow": null,
            "grid_area": null,
            "grid_template_columns": null,
            "flex": null,
            "_model_name": "LayoutModel",
            "justify_items": null,
            "grid_row": null,
            "max_height": null,
            "align_content": null,
            "visibility": null,
            "align_self": null,
            "height": null,
            "min_height": null,
            "padding": null,
            "grid_auto_rows": null,
            "grid_gap": null,
            "max_width": null,
            "order": null,
            "_view_module_version": "1.2.0",
            "grid_template_areas": null,
            "object_position": null,
            "object_fit": null,
            "grid_auto_columns": null,
            "margin": null,
            "display": null,
            "left": null
          }
        },
        "2862f322d4184410aaa5233654e08e75": {
          "model_module": "@jupyter-widgets/controls",
          "model_name": "FloatProgressModel",
          "state": {
            "_view_name": "ProgressView",
            "style": "IPY_MODEL_5bdd7b90620a43c5a0042e101706f597",
            "_dom_classes": [],
            "description": "Iteration:  22%",
            "_model_name": "FloatProgressModel",
            "bar_style": "",
            "max": 8200,
            "_view_module": "@jupyter-widgets/controls",
            "_model_module_version": "1.5.0",
            "value": 1792,
            "_view_count": null,
            "_view_module_version": "1.5.0",
            "orientation": "horizontal",
            "min": 0,
            "description_tooltip": null,
            "_model_module": "@jupyter-widgets/controls",
            "layout": "IPY_MODEL_f04ad78d62ef45738187d6f5b19f92f2"
          }
        },
        "64dd2de75bbe4cb4a2cb57356a71f277": {
          "model_module": "@jupyter-widgets/controls",
          "model_name": "HTMLModel",
          "state": {
            "_view_name": "HTMLView",
            "style": "IPY_MODEL_20468b05550641d399a9e5dd7587069c",
            "_dom_classes": [],
            "description": "",
            "_model_name": "HTMLModel",
            "placeholder": "​",
            "_view_module": "@jupyter-widgets/controls",
            "_model_module_version": "1.5.0",
            "value": " 1792/8200 [11:24&lt;40:17,  2.65it/s]",
            "_view_count": null,
            "_view_module_version": "1.5.0",
            "description_tooltip": null,
            "_model_module": "@jupyter-widgets/controls",
            "layout": "IPY_MODEL_79625d223381474189ed97177be74db1"
          }
        },
        "5bdd7b90620a43c5a0042e101706f597": {
          "model_module": "@jupyter-widgets/controls",
          "model_name": "ProgressStyleModel",
          "state": {
            "_view_name": "StyleView",
            "_model_name": "ProgressStyleModel",
            "description_width": "initial",
            "_view_module": "@jupyter-widgets/base",
            "_model_module_version": "1.5.0",
            "_view_count": null,
            "_view_module_version": "1.2.0",
            "bar_color": null,
            "_model_module": "@jupyter-widgets/controls"
          }
        },
        "f04ad78d62ef45738187d6f5b19f92f2": {
          "model_module": "@jupyter-widgets/base",
          "model_name": "LayoutModel",
          "state": {
            "_view_name": "LayoutView",
            "grid_template_rows": null,
            "right": null,
            "justify_content": null,
            "_view_module": "@jupyter-widgets/base",
            "overflow": null,
            "_model_module_version": "1.2.0",
            "_view_count": null,
            "flex_flow": null,
            "width": null,
            "min_width": null,
            "border": null,
            "align_items": null,
            "bottom": null,
            "_model_module": "@jupyter-widgets/base",
            "top": null,
            "grid_column": null,
            "overflow_y": null,
            "overflow_x": null,
            "grid_auto_flow": null,
            "grid_area": null,
            "grid_template_columns": null,
            "flex": null,
            "_model_name": "LayoutModel",
            "justify_items": null,
            "grid_row": null,
            "max_height": null,
            "align_content": null,
            "visibility": null,
            "align_self": null,
            "height": null,
            "min_height": null,
            "padding": null,
            "grid_auto_rows": null,
            "grid_gap": null,
            "max_width": null,
            "order": null,
            "_view_module_version": "1.2.0",
            "grid_template_areas": null,
            "object_position": null,
            "object_fit": null,
            "grid_auto_columns": null,
            "margin": null,
            "display": null,
            "left": null
          }
        },
        "20468b05550641d399a9e5dd7587069c": {
          "model_module": "@jupyter-widgets/controls",
          "model_name": "DescriptionStyleModel",
          "state": {
            "_view_name": "StyleView",
            "_model_name": "DescriptionStyleModel",
            "description_width": "",
            "_view_module": "@jupyter-widgets/base",
            "_model_module_version": "1.5.0",
            "_view_count": null,
            "_view_module_version": "1.2.0",
            "_model_module": "@jupyter-widgets/controls"
          }
        },
        "79625d223381474189ed97177be74db1": {
          "model_module": "@jupyter-widgets/base",
          "model_name": "LayoutModel",
          "state": {
            "_view_name": "LayoutView",
            "grid_template_rows": null,
            "right": null,
            "justify_content": null,
            "_view_module": "@jupyter-widgets/base",
            "overflow": null,
            "_model_module_version": "1.2.0",
            "_view_count": null,
            "flex_flow": null,
            "width": null,
            "min_width": null,
            "border": null,
            "align_items": null,
            "bottom": null,
            "_model_module": "@jupyter-widgets/base",
            "top": null,
            "grid_column": null,
            "overflow_y": null,
            "overflow_x": null,
            "grid_auto_flow": null,
            "grid_area": null,
            "grid_template_columns": null,
            "flex": null,
            "_model_name": "LayoutModel",
            "justify_items": null,
            "grid_row": null,
            "max_height": null,
            "align_content": null,
            "visibility": null,
            "align_self": null,
            "height": null,
            "min_height": null,
            "padding": null,
            "grid_auto_rows": null,
            "grid_gap": null,
            "max_width": null,
            "order": null,
            "_view_module_version": "1.2.0",
            "grid_template_areas": null,
            "object_position": null,
            "object_fit": null,
            "grid_auto_columns": null,
            "margin": null,
            "display": null,
            "left": null
          }
        }
      }
    }
  },
  "cells": [
    {
      "cell_type": "markdown",
      "metadata": {
        "id": "view-in-github",
        "colab_type": "text"
      },
      "source": [
        "<a href=\"https://colab.research.google.com/github/deepampatel/randomnlp/blob/main/IndianLanguageModel.ipynb\" target=\"_parent\"><img src=\"https://colab.research.google.com/assets/colab-badge.svg\" alt=\"Open In Colab\"/></a>"
      ]
    },
    {
      "cell_type": "code",
      "metadata": {
        "id": "zEtQtwNqQyQr",
        "outputId": "2913b1e9-101f-48ba-fd03-3e783e37c6df",
        "colab": {
          "base_uri": "https://localhost:8080/",
          "height": 363
        }
      },
      "source": [
        "!nvidia-smi"
      ],
      "execution_count": 1,
      "outputs": [
        {
          "output_type": "stream",
          "text": [
            "Sat Oct  3 06:56:07 2020       \n",
            "+-----------------------------------------------------------------------------+\n",
            "| NVIDIA-SMI 455.23.05    Driver Version: 418.67       CUDA Version: 10.1     |\n",
            "|-------------------------------+----------------------+----------------------+\n",
            "| GPU  Name        Persistence-M| Bus-Id        Disp.A | Volatile Uncorr. ECC |\n",
            "| Fan  Temp  Perf  Pwr:Usage/Cap|         Memory-Usage | GPU-Util  Compute M. |\n",
            "|                               |                      |               MIG M. |\n",
            "|===============================+======================+======================|\n",
            "|   0  Tesla V100-SXM2...  Off  | 00000000:00:04.0 Off |                    0 |\n",
            "| N/A   35C    P0    24W / 300W |      0MiB / 16130MiB |      0%      Default |\n",
            "|                               |                      |                 ERR! |\n",
            "+-------------------------------+----------------------+----------------------+\n",
            "                                                                               \n",
            "+-----------------------------------------------------------------------------+\n",
            "| Processes:                                                                  |\n",
            "|  GPU   GI   CI        PID   Type   Process name                  GPU Memory |\n",
            "|        ID   ID                                                   Usage      |\n",
            "|=============================================================================|\n",
            "|  No running processes found                                                 |\n",
            "+-----------------------------------------------------------------------------+\n"
          ],
          "name": "stdout"
        }
      ]
    },
    {
      "cell_type": "code",
      "metadata": {
        "id": "32gyNAq-RMl3",
        "outputId": "d6a619eb-7925-4792-b281-ce3dd25da49d",
        "colab": {
          "base_uri": "https://localhost:8080/",
          "height": 207
        }
      },
      "source": [
        "!wget https://storage.googleapis.com/gresearch/dakshina/dakshina_dataset_v1.0.tar"
      ],
      "execution_count": 2,
      "outputs": [
        {
          "output_type": "stream",
          "text": [
            "--2020-10-03 06:56:08--  https://storage.googleapis.com/gresearch/dakshina/dakshina_dataset_v1.0.tar\n",
            "Resolving storage.googleapis.com (storage.googleapis.com)... 173.194.69.128, 173.194.79.128, 108.177.119.128, ...\n",
            "Connecting to storage.googleapis.com (storage.googleapis.com)|173.194.69.128|:443... connected.\n",
            "HTTP request sent, awaiting response... 200 OK\n",
            "Length: 2008340480 (1.9G) [application/x-tar]\n",
            "Saving to: ‘dakshina_dataset_v1.0.tar’\n",
            "\n",
            "dakshina_dataset_v1 100%[===================>]   1.87G  82.8MB/s    in 21s     \n",
            "\n",
            "2020-10-03 06:56:30 (90.6 MB/s) - ‘dakshina_dataset_v1.0.tar’ saved [2008340480/2008340480]\n",
            "\n"
          ],
          "name": "stdout"
        }
      ]
    },
    {
      "cell_type": "code",
      "metadata": {
        "id": "WAO8xq4_RgpG",
        "outputId": "f9e0f71f-fa68-4310-a7dd-8ee47665c02a",
        "colab": {
          "base_uri": "https://localhost:8080/",
          "height": 1000
        }
      },
      "source": [
        "!tar -xvf dakshina_dataset_v1.0.tar"
      ],
      "execution_count": 3,
      "outputs": [
        {
          "output_type": "stream",
          "text": [
            "dakshina_dataset_v1.0/bn/\n",
            "dakshina_dataset_v1.0/bn/lexicons/\n",
            "dakshina_dataset_v1.0/bn/lexicons/bn.translit.sampled.test.tsv\n",
            "dakshina_dataset_v1.0/bn/lexicons/bn.translit.sampled.train.tsv\n",
            "dakshina_dataset_v1.0/bn/lexicons/bn.translit.sampled.dev.tsv\n",
            "dakshina_dataset_v1.0/bn/native_script_wikipedia/\n",
            "dakshina_dataset_v1.0/bn/native_script_wikipedia/bn.wiki-filt.valid.text.shuf.txt.gz\n",
            "dakshina_dataset_v1.0/bn/native_script_wikipedia/bn.wiki-full.info.sorted.tsv.gz\n",
            "dakshina_dataset_v1.0/bn/native_script_wikipedia/bn.wiki-filt.train.info.sorted.tsv.gz\n",
            "dakshina_dataset_v1.0/bn/native_script_wikipedia/bn.wiki-filt.train.text.sorted.tsv.gz\n",
            "dakshina_dataset_v1.0/bn/native_script_wikipedia/bn.wiki-filt.train.text.shuf.txt.gz\n",
            "dakshina_dataset_v1.0/bn/native_script_wikipedia/bn.wiki-full.nonblock.sections.tsv.gz\n",
            "dakshina_dataset_v1.0/bn/native_script_wikipedia/bn.wiki-full.omit_pages.txt.gz\n",
            "dakshina_dataset_v1.0/bn/native_script_wikipedia/bn.wiki-full.text.sorted.tsv.gz\n",
            "dakshina_dataset_v1.0/bn/native_script_wikipedia/bn.wiki-full.nonblock.sections.list.txt.gz\n",
            "dakshina_dataset_v1.0/bn/native_script_wikipedia/bn.wiki-full.urls.tsv.gz\n",
            "dakshina_dataset_v1.0/bn/native_script_wikipedia/bn.wiki-filt.valid.text.sorted.tsv.gz\n",
            "dakshina_dataset_v1.0/bn/native_script_wikipedia/bn.wiki-filt.valid.info.sorted.tsv.gz\n",
            "dakshina_dataset_v1.0/bn/romanized/\n",
            "dakshina_dataset_v1.0/bn/romanized/bn.romanized.rejoined.tsv\n",
            "dakshina_dataset_v1.0/bn/romanized/bn.romanized.rejoined.dev.native.txt\n",
            "dakshina_dataset_v1.0/bn/romanized/bn.romanized.split.tsv\n",
            "dakshina_dataset_v1.0/bn/romanized/bn.romanized.rejoined.dev.roman.txt\n",
            "dakshina_dataset_v1.0/bn/romanized/bn.romanized.rejoined.aligned.tsv\n",
            "dakshina_dataset_v1.0/bn/romanized/bn.romanized.split.validation.native.txt\n",
            "dakshina_dataset_v1.0/bn/romanized/bn.romanized.split.validation.edits.txt\n",
            "dakshina_dataset_v1.0/bn/romanized/bn.romanized.rejoined.aligned.cased_nopunct.tsv\n",
            "dakshina_dataset_v1.0/bn/romanized/bn.romanized.rejoined.test.roman.txt\n",
            "dakshina_dataset_v1.0/bn/romanized/bn.romanized.rejoined.test.native.txt\n",
            "dakshina_dataset_v1.0/gu/\n",
            "dakshina_dataset_v1.0/gu/lexicons/\n",
            "dakshina_dataset_v1.0/gu/lexicons/gu.translit.sampled.train.tsv\n",
            "dakshina_dataset_v1.0/gu/lexicons/gu.translit.sampled.test.tsv\n",
            "dakshina_dataset_v1.0/gu/lexicons/gu.translit.sampled.dev.tsv\n",
            "dakshina_dataset_v1.0/gu/native_script_wikipedia/\n",
            "dakshina_dataset_v1.0/gu/native_script_wikipedia/gu.wiki-filt.train.text.shuf.txt.gz\n",
            "dakshina_dataset_v1.0/gu/native_script_wikipedia/gu.wiki-full.nonblock.sections.list.txt.gz\n",
            "dakshina_dataset_v1.0/gu/native_script_wikipedia/gu.wiki-full.info.sorted.tsv.gz\n",
            "dakshina_dataset_v1.0/gu/native_script_wikipedia/gu.wiki-filt.valid.text.shuf.txt.gz\n",
            "dakshina_dataset_v1.0/gu/native_script_wikipedia/gu.wiki-filt.train.text.sorted.tsv.gz\n",
            "dakshina_dataset_v1.0/gu/native_script_wikipedia/gu.wiki-full.text.sorted.tsv.gz\n",
            "dakshina_dataset_v1.0/gu/native_script_wikipedia/gu.wiki-filt.train.info.sorted.tsv.gz\n",
            "dakshina_dataset_v1.0/gu/native_script_wikipedia/gu.wiki-full.nonblock.sections.tsv.gz\n",
            "dakshina_dataset_v1.0/gu/native_script_wikipedia/gu.wiki-full.omit_pages.txt.gz\n",
            "dakshina_dataset_v1.0/gu/native_script_wikipedia/gu.wiki-full.urls.tsv.gz\n",
            "dakshina_dataset_v1.0/gu/native_script_wikipedia/gu.wiki-filt.valid.text.sorted.tsv.gz\n",
            "dakshina_dataset_v1.0/gu/native_script_wikipedia/gu.wiki-filt.valid.info.sorted.tsv.gz\n",
            "dakshina_dataset_v1.0/gu/romanized/\n",
            "dakshina_dataset_v1.0/gu/romanized/gu.romanized.split.validation.edits.txt\n",
            "dakshina_dataset_v1.0/gu/romanized/gu.romanized.split.tsv\n",
            "dakshina_dataset_v1.0/gu/romanized/gu.romanized.rejoined.aligned.cased_nopunct.tsv\n",
            "dakshina_dataset_v1.0/gu/romanized/gu.romanized.rejoined.dev.roman.txt\n",
            "dakshina_dataset_v1.0/gu/romanized/gu.romanized.rejoined.aligned.tsv\n",
            "dakshina_dataset_v1.0/gu/romanized/gu.romanized.rejoined.test.native.txt\n",
            "dakshina_dataset_v1.0/gu/romanized/gu.romanized.rejoined.tsv\n",
            "dakshina_dataset_v1.0/gu/romanized/gu.romanized.rejoined.dev.native.txt\n",
            "dakshina_dataset_v1.0/gu/romanized/gu.romanized.rejoined.test.roman.txt\n",
            "dakshina_dataset_v1.0/gu/romanized/gu.romanized.split.validation.native.txt\n",
            "dakshina_dataset_v1.0/hi/\n",
            "dakshina_dataset_v1.0/hi/lexicons/\n",
            "dakshina_dataset_v1.0/hi/lexicons/hi.translit.sampled.dev.tsv\n",
            "dakshina_dataset_v1.0/hi/lexicons/hi.translit.sampled.train.tsv\n",
            "dakshina_dataset_v1.0/hi/lexicons/hi.translit.sampled.test.tsv\n",
            "dakshina_dataset_v1.0/hi/native_script_wikipedia/\n",
            "dakshina_dataset_v1.0/hi/native_script_wikipedia/hi.wiki-full.info.sorted.tsv.gz\n",
            "dakshina_dataset_v1.0/hi/native_script_wikipedia/hi.wiki-filt.valid.text.sorted.tsv.gz\n",
            "dakshina_dataset_v1.0/hi/native_script_wikipedia/hi.wiki-filt.train.text.sorted.tsv.gz\n",
            "dakshina_dataset_v1.0/hi/native_script_wikipedia/hi.wiki-full.urls.tsv.gz\n",
            "dakshina_dataset_v1.0/hi/native_script_wikipedia/hi.wiki-filt.valid.info.sorted.tsv.gz\n",
            "dakshina_dataset_v1.0/hi/native_script_wikipedia/hi.wiki-full.text.sorted.tsv.gz\n",
            "dakshina_dataset_v1.0/hi/native_script_wikipedia/hi.wiki-full.omit_pages.txt.gz\n",
            "dakshina_dataset_v1.0/hi/native_script_wikipedia/hi.wiki-filt.valid.text.shuf.txt.gz\n",
            "dakshina_dataset_v1.0/hi/native_script_wikipedia/hi.wiki-full.nonblock.sections.list.txt.gz\n",
            "dakshina_dataset_v1.0/hi/native_script_wikipedia/hi.wiki-filt.train.info.sorted.tsv.gz\n",
            "dakshina_dataset_v1.0/hi/native_script_wikipedia/hi.wiki-full.nonblock.sections.tsv.gz\n",
            "dakshina_dataset_v1.0/hi/native_script_wikipedia/hi.wiki-filt.train.text.shuf.txt.gz\n",
            "dakshina_dataset_v1.0/hi/romanized/\n",
            "dakshina_dataset_v1.0/hi/romanized/hi.romanized.rejoined.aligned.tsv\n",
            "dakshina_dataset_v1.0/hi/romanized/hi.romanized.split.validation.native.txt\n",
            "dakshina_dataset_v1.0/hi/romanized/hi.romanized.rejoined.tsv\n",
            "dakshina_dataset_v1.0/hi/romanized/hi.romanized.rejoined.dev.roman.txt\n",
            "dakshina_dataset_v1.0/hi/romanized/hi.romanized.rejoined.dev.native.txt\n",
            "dakshina_dataset_v1.0/hi/romanized/hi.romanized.rejoined.test.native.txt\n",
            "dakshina_dataset_v1.0/hi/romanized/hi.romanized.split.validation.edits.txt\n",
            "dakshina_dataset_v1.0/hi/romanized/hi.romanized.rejoined.test.roman.txt\n",
            "dakshina_dataset_v1.0/hi/romanized/hi.romanized.split.tsv\n",
            "dakshina_dataset_v1.0/hi/romanized/hi.romanized.rejoined.aligned.cased_nopunct.tsv\n",
            "dakshina_dataset_v1.0/kn/\n",
            "dakshina_dataset_v1.0/kn/lexicons/\n",
            "dakshina_dataset_v1.0/kn/lexicons/kn.translit.sampled.train.tsv\n",
            "dakshina_dataset_v1.0/kn/lexicons/kn.translit.sampled.dev.tsv\n",
            "dakshina_dataset_v1.0/kn/lexicons/kn.translit.sampled.test.tsv\n",
            "dakshina_dataset_v1.0/kn/native_script_wikipedia/\n",
            "dakshina_dataset_v1.0/kn/native_script_wikipedia/kn.wiki-full.text.sorted.tsv.gz\n",
            "dakshina_dataset_v1.0/kn/native_script_wikipedia/kn.wiki-filt.valid.text.shuf.txt.gz\n",
            "dakshina_dataset_v1.0/kn/native_script_wikipedia/kn.wiki-filt.valid.info.sorted.tsv.gz\n",
            "dakshina_dataset_v1.0/kn/native_script_wikipedia/kn.wiki-filt.train.text.shuf.txt.gz\n",
            "dakshina_dataset_v1.0/kn/native_script_wikipedia/kn.wiki-full.info.sorted.tsv.gz\n",
            "dakshina_dataset_v1.0/kn/native_script_wikipedia/kn.wiki-full.nonblock.sections.list.txt.gz\n",
            "dakshina_dataset_v1.0/kn/native_script_wikipedia/kn.wiki-full.urls.tsv.gz\n",
            "dakshina_dataset_v1.0/kn/native_script_wikipedia/kn.wiki-full.nonblock.sections.tsv.gz\n",
            "dakshina_dataset_v1.0/kn/native_script_wikipedia/kn.wiki-filt.valid.text.sorted.tsv.gz\n",
            "dakshina_dataset_v1.0/kn/native_script_wikipedia/kn.wiki-filt.train.text.sorted.tsv.gz\n",
            "dakshina_dataset_v1.0/kn/native_script_wikipedia/kn.wiki-filt.train.info.sorted.tsv.gz\n",
            "dakshina_dataset_v1.0/kn/native_script_wikipedia/kn.wiki-full.omit_pages.txt.gz\n",
            "dakshina_dataset_v1.0/kn/romanized/\n",
            "dakshina_dataset_v1.0/kn/romanized/kn.romanized.split.validation.edits.txt\n",
            "dakshina_dataset_v1.0/kn/romanized/kn.romanized.rejoined.dev.native.txt\n",
            "dakshina_dataset_v1.0/kn/romanized/kn.romanized.rejoined.test.roman.txt\n",
            "dakshina_dataset_v1.0/kn/romanized/kn.romanized.split.validation.native.txt\n",
            "dakshina_dataset_v1.0/kn/romanized/kn.romanized.rejoined.tsv\n",
            "dakshina_dataset_v1.0/kn/romanized/kn.romanized.rejoined.test.native.txt\n",
            "dakshina_dataset_v1.0/kn/romanized/kn.romanized.rejoined.dev.roman.txt\n",
            "dakshina_dataset_v1.0/kn/romanized/kn.romanized.rejoined.aligned.cased_nopunct.tsv\n",
            "dakshina_dataset_v1.0/kn/romanized/kn.romanized.split.tsv\n",
            "dakshina_dataset_v1.0/kn/romanized/kn.romanized.rejoined.aligned.tsv\n",
            "dakshina_dataset_v1.0/ml/\n",
            "dakshina_dataset_v1.0/ml/lexicons/\n",
            "dakshina_dataset_v1.0/ml/lexicons/ml.translit.sampled.train.tsv\n",
            "dakshina_dataset_v1.0/ml/lexicons/tmp.rom.txt\n",
            "dakshina_dataset_v1.0/ml/lexicons/tmp.tsv\n",
            "dakshina_dataset_v1.0/ml/lexicons/ml.translit.sampled.dev.tsv\n",
            "dakshina_dataset_v1.0/ml/lexicons/ml.translit.sampled.test.tsv\n",
            "dakshina_dataset_v1.0/ml/native_script_wikipedia/\n",
            "dakshina_dataset_v1.0/ml/native_script_wikipedia/ml.wiki-full.omit_pages.txt.gz\n",
            "dakshina_dataset_v1.0/ml/native_script_wikipedia/ml.wiki-filt.valid.info.sorted.tsv.gz\n",
            "dakshina_dataset_v1.0/ml/native_script_wikipedia/ml.wiki-full.info.sorted.tsv.gz\n",
            "dakshina_dataset_v1.0/ml/native_script_wikipedia/ml.wiki-filt.train.text.shuf.txt.gz\n",
            "dakshina_dataset_v1.0/ml/native_script_wikipedia/ml.wiki-full.text.sorted.tsv.gz\n",
            "dakshina_dataset_v1.0/ml/native_script_wikipedia/ml.wiki-filt.valid.text.sorted.tsv.gz\n",
            "dakshina_dataset_v1.0/ml/native_script_wikipedia/ml.wiki-full.nonblock.sections.list.txt.gz\n",
            "dakshina_dataset_v1.0/ml/native_script_wikipedia/ml.wiki-full.nonblock.sections.tsv.gz\n",
            "dakshina_dataset_v1.0/ml/native_script_wikipedia/ml.wiki-filt.train.text.sorted.tsv.gz\n",
            "dakshina_dataset_v1.0/ml/native_script_wikipedia/ml.wiki-full.urls.tsv.gz\n",
            "dakshina_dataset_v1.0/ml/native_script_wikipedia/ml.wiki-filt.valid.text.shuf.txt.gz\n",
            "dakshina_dataset_v1.0/ml/native_script_wikipedia/ml.wiki-filt.train.info.sorted.tsv.gz\n",
            "dakshina_dataset_v1.0/ml/romanized/\n",
            "dakshina_dataset_v1.0/ml/romanized/ml.romanized.rejoined.tsv\n",
            "dakshina_dataset_v1.0/ml/romanized/ml.romanized.rejoined.test.roman.txt\n",
            "dakshina_dataset_v1.0/ml/romanized/ml.romanized.split.validation.edits.txt\n",
            "dakshina_dataset_v1.0/ml/romanized/ml.romanized.rejoined.dev.roman.txt\n",
            "dakshina_dataset_v1.0/ml/romanized/ml.romanized.rejoined.test.native.txt\n",
            "dakshina_dataset_v1.0/ml/romanized/ml.romanized.rejoined.dev.native.txt\n",
            "dakshina_dataset_v1.0/ml/romanized/ml.romanized.rejoined.aligned.cased_nopunct.tsv\n",
            "dakshina_dataset_v1.0/ml/romanized/ml.romanized.split.tsv\n",
            "dakshina_dataset_v1.0/ml/romanized/ml.romanized.rejoined.aligned.tsv\n",
            "dakshina_dataset_v1.0/ml/romanized/ml.romanized.split.validation.native.txt\n",
            "dakshina_dataset_v1.0/mr/\n",
            "dakshina_dataset_v1.0/mr/lexicons/\n",
            "dakshina_dataset_v1.0/mr/lexicons/mr.translit.sampled.test.tsv\n",
            "dakshina_dataset_v1.0/mr/lexicons/mr.translit.sampled.train.tsv\n",
            "dakshina_dataset_v1.0/mr/lexicons/mr.translit.sampled.dev.tsv\n",
            "dakshina_dataset_v1.0/mr/native_script_wikipedia/\n",
            "dakshina_dataset_v1.0/mr/native_script_wikipedia/mr.wiki-full.omit_pages.txt.gz\n",
            "dakshina_dataset_v1.0/mr/native_script_wikipedia/mr.wiki-filt.train.text.sorted.tsv.gz\n",
            "dakshina_dataset_v1.0/mr/native_script_wikipedia/mr.wiki-full.nonblock.sections.list.txt.gz\n",
            "dakshina_dataset_v1.0/mr/native_script_wikipedia/mr.wiki-full.text.sorted.tsv.gz\n",
            "dakshina_dataset_v1.0/mr/native_script_wikipedia/mr.wiki-filt.valid.info.sorted.tsv.gz\n",
            "dakshina_dataset_v1.0/mr/native_script_wikipedia/mr.wiki-filt.train.text.shuf.txt.gz\n",
            "dakshina_dataset_v1.0/mr/native_script_wikipedia/mr.wiki-full.info.sorted.tsv.gz\n",
            "dakshina_dataset_v1.0/mr/native_script_wikipedia/mr.wiki-filt.valid.text.shuf.txt.gz\n",
            "dakshina_dataset_v1.0/mr/native_script_wikipedia/mr.wiki-full.urls.tsv.gz\n",
            "dakshina_dataset_v1.0/mr/native_script_wikipedia/mr.wiki-filt.valid.text.sorted.tsv.gz\n",
            "dakshina_dataset_v1.0/mr/native_script_wikipedia/mr.wiki-filt.train.info.sorted.tsv.gz\n",
            "dakshina_dataset_v1.0/mr/native_script_wikipedia/mr.wiki-full.nonblock.sections.tsv.gz\n",
            "dakshina_dataset_v1.0/mr/romanized/\n",
            "dakshina_dataset_v1.0/mr/romanized/mr.romanized.split.tsv\n",
            "dakshina_dataset_v1.0/mr/romanized/mr.romanized.rejoined.dev.roman.txt\n",
            "dakshina_dataset_v1.0/mr/romanized/mr.romanized.split.validation.native.txt\n",
            "dakshina_dataset_v1.0/mr/romanized/mr.romanized.rejoined.test.roman.txt\n",
            "dakshina_dataset_v1.0/mr/romanized/mr.romanized.rejoined.test.native.txt\n",
            "dakshina_dataset_v1.0/mr/romanized/mr.romanized.rejoined.dev.native.txt\n",
            "dakshina_dataset_v1.0/mr/romanized/mr.romanized.rejoined.tsv\n",
            "dakshina_dataset_v1.0/mr/romanized/mr.romanized.rejoined.aligned.tsv\n",
            "dakshina_dataset_v1.0/mr/romanized/mr.romanized.split.validation.edits.txt\n",
            "dakshina_dataset_v1.0/mr/romanized/mr.romanized.rejoined.aligned.cased_nopunct.tsv\n",
            "dakshina_dataset_v1.0/pa/\n",
            "dakshina_dataset_v1.0/pa/lexicons/\n",
            "dakshina_dataset_v1.0/pa/lexicons/pa.translit.sampled.dev.tsv\n",
            "dakshina_dataset_v1.0/pa/lexicons/pa.translit.sampled.test.tsv\n",
            "dakshina_dataset_v1.0/pa/lexicons/pa.translit.sampled.train.tsv\n",
            "dakshina_dataset_v1.0/pa/native_script_wikipedia/\n",
            "dakshina_dataset_v1.0/pa/native_script_wikipedia/pa.wiki-full.omit_pages.txt.gz\n",
            "dakshina_dataset_v1.0/pa/native_script_wikipedia/pa.wiki-full.text.sorted.tsv.gz\n",
            "dakshina_dataset_v1.0/pa/native_script_wikipedia/pa.wiki-filt.train.text.shuf.txt.gz\n",
            "dakshina_dataset_v1.0/pa/native_script_wikipedia/pa.wiki-filt.train.text.sorted.tsv.gz\n",
            "dakshina_dataset_v1.0/pa/native_script_wikipedia/pa.wiki-full.urls.tsv.gz\n",
            "dakshina_dataset_v1.0/pa/native_script_wikipedia/pa.wiki-full.info.sorted.tsv.gz\n",
            "dakshina_dataset_v1.0/pa/native_script_wikipedia/pa.wiki-filt.valid.info.sorted.tsv.gz\n",
            "dakshina_dataset_v1.0/pa/native_script_wikipedia/pa.wiki-filt.train.info.sorted.tsv.gz\n",
            "dakshina_dataset_v1.0/pa/native_script_wikipedia/pa.wiki-full.nonblock.sections.tsv.gz\n",
            "dakshina_dataset_v1.0/pa/native_script_wikipedia/pa.wiki-filt.valid.text.sorted.tsv.gz\n",
            "dakshina_dataset_v1.0/pa/native_script_wikipedia/pa.wiki-filt.valid.text.shuf.txt.gz\n",
            "dakshina_dataset_v1.0/pa/native_script_wikipedia/pa.wiki-full.nonblock.sections.list.txt.gz\n",
            "dakshina_dataset_v1.0/pa/romanized/\n",
            "dakshina_dataset_v1.0/pa/romanized/pa.romanized.rejoined.aligned.tsv\n",
            "dakshina_dataset_v1.0/pa/romanized/pa.romanized.rejoined.dev.roman.txt\n",
            "dakshina_dataset_v1.0/pa/romanized/pa.romanized.rejoined.test.roman.txt\n",
            "dakshina_dataset_v1.0/pa/romanized/pa.romanized.split.tsv\n",
            "dakshina_dataset_v1.0/pa/romanized/pa.romanized.rejoined.dev.native.txt\n",
            "dakshina_dataset_v1.0/pa/romanized/pa.romanized.split.validation.native.txt\n",
            "dakshina_dataset_v1.0/pa/romanized/pa.romanized.rejoined.aligned.cased_nopunct.tsv\n",
            "dakshina_dataset_v1.0/pa/romanized/pa.romanized.rejoined.tsv\n",
            "dakshina_dataset_v1.0/pa/romanized/pa.romanized.split.validation.edits.txt\n",
            "dakshina_dataset_v1.0/pa/romanized/pa.romanized.rejoined.test.native.txt\n",
            "dakshina_dataset_v1.0/sd/\n",
            "dakshina_dataset_v1.0/sd/lexicons/\n",
            "dakshina_dataset_v1.0/sd/lexicons/sd.translit.sampled.train.tsv\n",
            "dakshina_dataset_v1.0/sd/lexicons/sd.translit.sampled.test.tsv\n",
            "dakshina_dataset_v1.0/sd/lexicons/sd.translit.sampled.dev.tsv\n",
            "dakshina_dataset_v1.0/sd/native_script_wikipedia/\n",
            "dakshina_dataset_v1.0/sd/native_script_wikipedia/sd.wiki-full.nonblock.sections.tsv.gz\n",
            "dakshina_dataset_v1.0/sd/native_script_wikipedia/sd.wiki-filt.valid.text.shuf.txt.gz\n",
            "dakshina_dataset_v1.0/sd/native_script_wikipedia/sd.wiki-full.omit_pages.txt.gz\n",
            "dakshina_dataset_v1.0/sd/native_script_wikipedia/sd.wiki-filt.train.info.sorted.tsv.gz\n",
            "dakshina_dataset_v1.0/sd/native_script_wikipedia/sd.wiki-full.urls.tsv.gz\n",
            "dakshina_dataset_v1.0/sd/native_script_wikipedia/sd.wiki-filt.valid.info.sorted.tsv.gz\n",
            "dakshina_dataset_v1.0/sd/native_script_wikipedia/sd.wiki-filt.train.text.sorted.tsv.gz\n",
            "dakshina_dataset_v1.0/sd/native_script_wikipedia/sd.wiki-full.text.sorted.tsv.gz\n",
            "dakshina_dataset_v1.0/sd/native_script_wikipedia/sd.wiki-filt.train.text.shuf.txt.gz\n",
            "dakshina_dataset_v1.0/sd/native_script_wikipedia/sd.wiki-filt.valid.text.sorted.tsv.gz\n",
            "dakshina_dataset_v1.0/sd/native_script_wikipedia/sd.wiki-full.info.sorted.tsv.gz\n",
            "dakshina_dataset_v1.0/sd/native_script_wikipedia/sd.wiki-full.nonblock.sections.list.txt.gz\n",
            "dakshina_dataset_v1.0/sd/romanized/\n",
            "dakshina_dataset_v1.0/sd/romanized/sd.romanized.rejoined.dev.roman.txt\n",
            "dakshina_dataset_v1.0/sd/romanized/sd.romanized.split.tsv\n",
            "dakshina_dataset_v1.0/sd/romanized/sd.romanized.split.validation.native.txt\n",
            "dakshina_dataset_v1.0/sd/romanized/sd.romanized.rejoined.dev.native.txt\n",
            "dakshina_dataset_v1.0/sd/romanized/sd.romanized.rejoined.aligned.cased_nopunct.tsv\n",
            "dakshina_dataset_v1.0/sd/romanized/sd.romanized.rejoined.test.native.txt\n",
            "dakshina_dataset_v1.0/sd/romanized/sd.romanized.split.validation.edits.txt\n",
            "dakshina_dataset_v1.0/sd/romanized/sd.romanized.rejoined.aligned.tsv\n",
            "dakshina_dataset_v1.0/sd/romanized/sd.romanized.rejoined.test.roman.txt\n",
            "dakshina_dataset_v1.0/sd/romanized/sd.romanized.rejoined.tsv\n",
            "dakshina_dataset_v1.0/si/\n",
            "dakshina_dataset_v1.0/si/lexicons/\n",
            "dakshina_dataset_v1.0/si/lexicons/si.translit.sampled.test.tsv\n",
            "dakshina_dataset_v1.0/si/lexicons/si.translit.sampled.train.tsv\n",
            "dakshina_dataset_v1.0/si/lexicons/si.translit.sampled.dev.tsv\n",
            "dakshina_dataset_v1.0/si/native_script_wikipedia/\n",
            "dakshina_dataset_v1.0/si/native_script_wikipedia/si.wiki-full.urls.tsv.gz\n",
            "dakshina_dataset_v1.0/si/native_script_wikipedia/si.wiki-full.text.sorted.tsv.gz\n",
            "dakshina_dataset_v1.0/si/native_script_wikipedia/si.wiki-filt.train.info.sorted.tsv.gz\n",
            "dakshina_dataset_v1.0/si/native_script_wikipedia/si.wiki-full.omit_pages.txt.gz\n",
            "dakshina_dataset_v1.0/si/native_script_wikipedia/si.wiki-filt.train.text.shuf.txt.gz\n",
            "dakshina_dataset_v1.0/si/native_script_wikipedia/si.wiki-full.nonblock.sections.list.txt.gz\n",
            "dakshina_dataset_v1.0/si/native_script_wikipedia/si.wiki-filt.valid.info.sorted.tsv.gz\n",
            "dakshina_dataset_v1.0/si/native_script_wikipedia/si.wiki-full.nonblock.sections.tsv.gz\n",
            "dakshina_dataset_v1.0/si/native_script_wikipedia/si.wiki-filt.valid.text.shuf.txt.gz\n",
            "dakshina_dataset_v1.0/si/native_script_wikipedia/si.wiki-full.info.sorted.tsv.gz\n",
            "dakshina_dataset_v1.0/si/native_script_wikipedia/si.wiki-filt.train.text.sorted.tsv.gz\n",
            "dakshina_dataset_v1.0/si/native_script_wikipedia/si.wiki-filt.valid.text.sorted.tsv.gz\n",
            "dakshina_dataset_v1.0/si/romanized/\n",
            "dakshina_dataset_v1.0/si/romanized/si.romanized.split.tsv\n",
            "dakshina_dataset_v1.0/si/romanized/si.romanized.rejoined.test.native.txt\n",
            "dakshina_dataset_v1.0/si/romanized/si.romanized.rejoined.aligned.tsv\n",
            "dakshina_dataset_v1.0/si/romanized/si.romanized.rejoined.dev.native.txt\n",
            "dakshina_dataset_v1.0/si/romanized/si.romanized.rejoined.dev.roman.txt\n",
            "dakshina_dataset_v1.0/si/romanized/si.romanized.rejoined.test.roman.txt\n",
            "dakshina_dataset_v1.0/si/romanized/si.romanized.rejoined.aligned.cased_nopunct.tsv\n",
            "dakshina_dataset_v1.0/si/romanized/si.romanized.split.validation.edits.txt\n",
            "dakshina_dataset_v1.0/si/romanized/si.romanized.rejoined.tsv\n",
            "dakshina_dataset_v1.0/si/romanized/si.romanized.split.validation.native.txt\n",
            "dakshina_dataset_v1.0/ta/\n",
            "dakshina_dataset_v1.0/ta/lexicons/\n",
            "dakshina_dataset_v1.0/ta/lexicons/ta.translit.sampled.train.tsv\n",
            "dakshina_dataset_v1.0/ta/lexicons/ta.translit.sampled.dev.tsv\n",
            "dakshina_dataset_v1.0/ta/lexicons/ta.translit.sampled.test.tsv\n",
            "dakshina_dataset_v1.0/ta/native_script_wikipedia/\n",
            "dakshina_dataset_v1.0/ta/native_script_wikipedia/ta.wiki-filt.valid.text.shuf.txt.gz\n",
            "dakshina_dataset_v1.0/ta/native_script_wikipedia/ta.wiki-full.nonblock.sections.list.txt.gz\n",
            "dakshina_dataset_v1.0/ta/native_script_wikipedia/ta.wiki-filt.train.text.sorted.tsv.gz\n",
            "dakshina_dataset_v1.0/ta/native_script_wikipedia/ta.wiki-full.nonblock.sections.tsv.gz\n",
            "dakshina_dataset_v1.0/ta/native_script_wikipedia/ta.wiki-filt.valid.info.sorted.tsv.gz\n",
            "dakshina_dataset_v1.0/ta/native_script_wikipedia/ta.wiki-full.text.sorted.tsv.gz\n",
            "dakshina_dataset_v1.0/ta/native_script_wikipedia/ta.wiki-full.urls.tsv.gz\n",
            "dakshina_dataset_v1.0/ta/native_script_wikipedia/ta.wiki-filt.train.text.shuf.txt.gz\n",
            "dakshina_dataset_v1.0/ta/native_script_wikipedia/ta.wiki-filt.valid.text.sorted.tsv.gz\n",
            "dakshina_dataset_v1.0/ta/native_script_wikipedia/ta.wiki-full.info.sorted.tsv.gz\n",
            "dakshina_dataset_v1.0/ta/native_script_wikipedia/ta.wiki-full.omit_pages.txt.gz\n",
            "dakshina_dataset_v1.0/ta/native_script_wikipedia/ta.wiki-filt.train.info.sorted.tsv.gz\n",
            "dakshina_dataset_v1.0/ta/romanized/\n",
            "dakshina_dataset_v1.0/ta/romanized/ta.romanized.rejoined.aligned.tsv\n",
            "dakshina_dataset_v1.0/ta/romanized/ta.romanized.rejoined.dev.roman.txt\n",
            "dakshina_dataset_v1.0/ta/romanized/ta.romanized.rejoined.aligned.cased_nopunct.tsv\n",
            "dakshina_dataset_v1.0/ta/romanized/ta.romanized.rejoined.tsv\n",
            "dakshina_dataset_v1.0/ta/romanized/ta.romanized.split.validation.native.txt\n",
            "dakshina_dataset_v1.0/ta/romanized/ta.romanized.rejoined.test.roman.txt\n",
            "dakshina_dataset_v1.0/ta/romanized/ta.romanized.split.tsv\n",
            "dakshina_dataset_v1.0/ta/romanized/ta.romanized.rejoined.dev.native.txt\n",
            "dakshina_dataset_v1.0/ta/romanized/ta.romanized.split.validation.edits.txt\n",
            "dakshina_dataset_v1.0/ta/romanized/ta.romanized.rejoined.test.native.txt\n",
            "dakshina_dataset_v1.0/te/\n",
            "dakshina_dataset_v1.0/te/lexicons/\n",
            "dakshina_dataset_v1.0/te/lexicons/te.translit.sampled.dev.tsv\n",
            "dakshina_dataset_v1.0/te/lexicons/te.translit.sampled.test.tsv\n",
            "dakshina_dataset_v1.0/te/lexicons/te.translit.sampled.train.tsv\n",
            "dakshina_dataset_v1.0/te/native_script_wikipedia/\n",
            "dakshina_dataset_v1.0/te/native_script_wikipedia/te.wiki-full.info.sorted.tsv.gz\n",
            "dakshina_dataset_v1.0/te/native_script_wikipedia/te.wiki-filt.valid.info.sorted.tsv.gz\n",
            "dakshina_dataset_v1.0/te/native_script_wikipedia/te.wiki-full.text.sorted.tsv.gz\n",
            "dakshina_dataset_v1.0/te/native_script_wikipedia/te.wiki-filt.train.text.shuf.txt.gz\n",
            "dakshina_dataset_v1.0/te/native_script_wikipedia/te.wiki-filt.valid.text.shuf.txt.gz\n",
            "dakshina_dataset_v1.0/te/native_script_wikipedia/te.wiki-filt.train.text.sorted.tsv.gz\n",
            "dakshina_dataset_v1.0/te/native_script_wikipedia/te.wiki-full.omit_pages.txt.gz\n",
            "dakshina_dataset_v1.0/te/native_script_wikipedia/te.wiki-full.urls.tsv.gz\n",
            "dakshina_dataset_v1.0/te/native_script_wikipedia/te.wiki-full.nonblock.sections.tsv.gz\n",
            "dakshina_dataset_v1.0/te/native_script_wikipedia/te.wiki-full.nonblock.sections.list.txt.gz\n",
            "dakshina_dataset_v1.0/te/native_script_wikipedia/te.wiki-filt.train.info.sorted.tsv.gz\n",
            "dakshina_dataset_v1.0/te/native_script_wikipedia/te.wiki-filt.valid.text.sorted.tsv.gz\n",
            "dakshina_dataset_v1.0/te/romanized/\n",
            "dakshina_dataset_v1.0/te/romanized/te.romanized.rejoined.tsv\n",
            "dakshina_dataset_v1.0/te/romanized/te.romanized.rejoined.aligned.cased_nopunct.tsv\n",
            "dakshina_dataset_v1.0/te/romanized/te.romanized.rejoined.dev.roman.txt\n",
            "dakshina_dataset_v1.0/te/romanized/te.romanized.rejoined.dev.native.txt\n",
            "dakshina_dataset_v1.0/te/romanized/te.romanized.split.validation.native.txt\n",
            "dakshina_dataset_v1.0/te/romanized/te.romanized.rejoined.test.native.txt\n",
            "dakshina_dataset_v1.0/te/romanized/te.romanized.split.validation.edits.txt\n",
            "dakshina_dataset_v1.0/te/romanized/te.romanized.rejoined.aligned.tsv\n",
            "dakshina_dataset_v1.0/te/romanized/te.romanized.split.tsv\n",
            "dakshina_dataset_v1.0/te/romanized/te.romanized.rejoined.test.roman.txt\n",
            "dakshina_dataset_v1.0/ur/\n",
            "dakshina_dataset_v1.0/ur/lexicons/\n",
            "dakshina_dataset_v1.0/ur/lexicons/ur.translit.sampled.train.tsv\n",
            "dakshina_dataset_v1.0/ur/lexicons/ur.translit.sampled.test.tsv\n",
            "dakshina_dataset_v1.0/ur/lexicons/ur.translit.sampled.dev.tsv\n",
            "dakshina_dataset_v1.0/ur/native_script_wikipedia/\n",
            "dakshina_dataset_v1.0/ur/native_script_wikipedia/ur.wiki-filt.valid.text.sorted.tsv.gz\n",
            "dakshina_dataset_v1.0/ur/native_script_wikipedia/ur.wiki-full.nonblock.sections.tsv.gz\n",
            "dakshina_dataset_v1.0/ur/native_script_wikipedia/ur.wiki-full.info.sorted.tsv.gz\n",
            "dakshina_dataset_v1.0/ur/native_script_wikipedia/ur.wiki-full.text.sorted.tsv.gz\n",
            "dakshina_dataset_v1.0/ur/native_script_wikipedia/ur.wiki-full.omit_pages.txt.gz\n",
            "dakshina_dataset_v1.0/ur/native_script_wikipedia/ur.wiki-filt.train.text.sorted.tsv.gz\n",
            "dakshina_dataset_v1.0/ur/native_script_wikipedia/ur.wiki-full.urls.tsv.gz\n",
            "dakshina_dataset_v1.0/ur/native_script_wikipedia/ur.wiki-filt.train.text.shuf.txt.gz\n",
            "dakshina_dataset_v1.0/ur/native_script_wikipedia/ur.wiki-full.nonblock.sections.list.txt.gz\n",
            "dakshina_dataset_v1.0/ur/native_script_wikipedia/ur.wiki-filt.valid.info.sorted.tsv.gz\n",
            "dakshina_dataset_v1.0/ur/native_script_wikipedia/ur.wiki-filt.valid.text.shuf.txt.gz\n",
            "dakshina_dataset_v1.0/ur/native_script_wikipedia/ur.wiki-filt.train.info.sorted.tsv.gz\n",
            "dakshina_dataset_v1.0/ur/romanized/\n",
            "dakshina_dataset_v1.0/ur/romanized/ur.romanized.rejoined.tsv\n",
            "dakshina_dataset_v1.0/ur/romanized/ur.romanized.rejoined.dev.roman.txt\n",
            "dakshina_dataset_v1.0/ur/romanized/ur.romanized.split.validation.native.txt\n",
            "dakshina_dataset_v1.0/ur/romanized/ur.romanized.rejoined.aligned.cased_nopunct.tsv\n",
            "dakshina_dataset_v1.0/ur/romanized/ur.romanized.rejoined.dev.native.txt\n",
            "dakshina_dataset_v1.0/ur/romanized/ur.romanized.rejoined.test.native.txt\n",
            "dakshina_dataset_v1.0/ur/romanized/ur.romanized.split.validation.edits.txt\n",
            "dakshina_dataset_v1.0/ur/romanized/ur.romanized.rejoined.aligned.tsv\n",
            "dakshina_dataset_v1.0/ur/romanized/ur.romanized.split.tsv\n",
            "dakshina_dataset_v1.0/ur/romanized/ur.romanized.rejoined.test.roman.txt\n",
            "dakshina_dataset_v1.0/README.md\n"
          ],
          "name": "stdout"
        }
      ]
    },
    {
      "cell_type": "code",
      "metadata": {
        "id": "jzi6VLMqSBp1",
        "outputId": "6e4813ca-028c-425d-b1f9-156cdea441a3",
        "colab": {
          "base_uri": "https://localhost:8080/",
          "height": 35
        }
      },
      "source": [
        "!ls"
      ],
      "execution_count": 4,
      "outputs": [
        {
          "output_type": "stream",
          "text": [
            "dakshina_dataset_v1.0  dakshina_dataset_v1.0.tar  sample_data\n"
          ],
          "name": "stdout"
        }
      ]
    },
    {
      "cell_type": "code",
      "metadata": {
        "id": "VRUPX_5DUOzk"
      },
      "source": [
        "import os\n",
        "import gc\n",
        "import glob\n",
        "import torch\n",
        "import pickle\n",
        "import joblib\n",
        "from tqdm.auto import tqdm\n",
        "import pandas as pd\n",
        "import numpy as np"
      ],
      "execution_count": 5,
      "outputs": []
    },
    {
      "cell_type": "code",
      "metadata": {
        "id": "3GdaoH1b9Qxv",
        "outputId": "c8d9d184-6b2f-47b0-a7fc-f8a5a96038b1",
        "colab": {
          "base_uri": "https://localhost:8080/",
          "height": 987
        }
      },
      "source": [
        "!pip install tokenizers\n",
        "!git clone https://github.com/huggingface/transformers\n",
        "!pip install transformers/.\n"
      ],
      "execution_count": 6,
      "outputs": [
        {
          "output_type": "stream",
          "text": [
            "Collecting tokenizers\n",
            "\u001b[?25l  Downloading https://files.pythonhosted.org/packages/e9/ee/fedc3509145ad60fe5b418783f4a4c1b5462a4f0e8c7bbdbda52bdcda486/tokenizers-0.8.1-cp36-cp36m-manylinux1_x86_64.whl (3.0MB)\n",
            "\u001b[K     |████████████████████████████████| 3.0MB 7.8MB/s \n",
            "\u001b[?25hInstalling collected packages: tokenizers\n",
            "Successfully installed tokenizers-0.8.1\n",
            "Cloning into 'transformers'...\n",
            "remote: Enumerating objects: 12, done.\u001b[K\n",
            "remote: Counting objects: 100% (12/12), done.\u001b[K\n",
            "remote: Compressing objects: 100% (11/11), done.\u001b[K\n",
            "remote: Total 44854 (delta 0), reused 12 (delta 0), pack-reused 44842\u001b[K\n",
            "Receiving objects: 100% (44854/44854), 32.18 MiB | 3.57 MiB/s, done.\n",
            "Resolving deltas: 100% (31107/31107), done.\n",
            "Processing ./transformers\n",
            "  Installing build dependencies ... \u001b[?25l\u001b[?25hdone\n",
            "  Getting requirements to build wheel ... \u001b[?25l\u001b[?25hdone\n",
            "    Preparing wheel metadata ... \u001b[?25l\u001b[?25hdone\n",
            "Requirement already satisfied: requests in /usr/local/lib/python3.6/dist-packages (from transformers==3.3.1) (2.23.0)\n",
            "Requirement already satisfied: regex!=2019.12.17 in /usr/local/lib/python3.6/dist-packages (from transformers==3.3.1) (2019.12.20)\n",
            "Collecting sacremoses\n",
            "\u001b[?25l  Downloading https://files.pythonhosted.org/packages/7d/34/09d19aff26edcc8eb2a01bed8e98f13a1537005d31e95233fd48216eed10/sacremoses-0.0.43.tar.gz (883kB)\n",
            "\u001b[K     |████████████████████████████████| 890kB 8.6MB/s \n",
            "\u001b[?25hRequirement already satisfied: tqdm>=4.27 in /usr/local/lib/python3.6/dist-packages (from transformers==3.3.1) (4.41.1)\n",
            "Collecting tokenizers==0.8.1.rc2\n",
            "\u001b[?25l  Downloading https://files.pythonhosted.org/packages/80/83/8b9fccb9e48eeb575ee19179e2bdde0ee9a1904f97de5f02d19016b8804f/tokenizers-0.8.1rc2-cp36-cp36m-manylinux1_x86_64.whl (3.0MB)\n",
            "\u001b[K     |████████████████████████████████| 3.0MB 31.4MB/s \n",
            "\u001b[?25hRequirement already satisfied: dataclasses; python_version < \"3.7\" in /usr/local/lib/python3.6/dist-packages (from transformers==3.3.1) (0.7)\n",
            "Requirement already satisfied: packaging in /usr/local/lib/python3.6/dist-packages (from transformers==3.3.1) (20.4)\n",
            "Requirement already satisfied: filelock in /usr/local/lib/python3.6/dist-packages (from transformers==3.3.1) (3.0.12)\n",
            "Requirement already satisfied: numpy in /usr/local/lib/python3.6/dist-packages (from transformers==3.3.1) (1.18.5)\n",
            "Collecting sentencepiece!=0.1.92\n",
            "\u001b[?25l  Downloading https://files.pythonhosted.org/packages/d4/a4/d0a884c4300004a78cca907a6ff9a5e9fe4f090f5d95ab341c53d28cbc58/sentencepiece-0.1.91-cp36-cp36m-manylinux1_x86_64.whl (1.1MB)\n",
            "\u001b[K     |████████████████████████████████| 1.1MB 49.3MB/s \n",
            "\u001b[?25hRequirement already satisfied: idna<3,>=2.5 in /usr/local/lib/python3.6/dist-packages (from requests->transformers==3.3.1) (2.10)\n",
            "Requirement already satisfied: chardet<4,>=3.0.2 in /usr/local/lib/python3.6/dist-packages (from requests->transformers==3.3.1) (3.0.4)\n",
            "Requirement already satisfied: certifi>=2017.4.17 in /usr/local/lib/python3.6/dist-packages (from requests->transformers==3.3.1) (2020.6.20)\n",
            "Requirement already satisfied: urllib3!=1.25.0,!=1.25.1,<1.26,>=1.21.1 in /usr/local/lib/python3.6/dist-packages (from requests->transformers==3.3.1) (1.24.3)\n",
            "Requirement already satisfied: six in /usr/local/lib/python3.6/dist-packages (from sacremoses->transformers==3.3.1) (1.15.0)\n",
            "Requirement already satisfied: click in /usr/local/lib/python3.6/dist-packages (from sacremoses->transformers==3.3.1) (7.1.2)\n",
            "Requirement already satisfied: joblib in /usr/local/lib/python3.6/dist-packages (from sacremoses->transformers==3.3.1) (0.16.0)\n",
            "Requirement already satisfied: pyparsing>=2.0.2 in /usr/local/lib/python3.6/dist-packages (from packaging->transformers==3.3.1) (2.4.7)\n",
            "Building wheels for collected packages: transformers\n",
            "  Building wheel for transformers (PEP 517) ... \u001b[?25l\u001b[?25hdone\n",
            "  Created wheel for transformers: filename=transformers-3.3.1-cp36-none-any.whl size=1082350 sha256=e47202854357f34fcb94e1dace393bc0637ad682d6ffc1f8bb6672407353df21\n",
            "  Stored in directory: /tmp/pip-ephem-wheel-cache-a7_5k5s9/wheels/23/19/dd/2561a4e47240cf6b307729d58e56f8077dd0c698f5992216cf\n",
            "Successfully built transformers\n",
            "Building wheels for collected packages: sacremoses\n",
            "  Building wheel for sacremoses (setup.py) ... \u001b[?25l\u001b[?25hdone\n",
            "  Created wheel for sacremoses: filename=sacremoses-0.0.43-cp36-none-any.whl size=893257 sha256=9f659db2972ee376d2fdc48efe054b9022c5bd05ea6c37c9792705df0b1f4556\n",
            "  Stored in directory: /root/.cache/pip/wheels/29/3c/fd/7ce5c3f0666dab31a50123635e6fb5e19ceb42ce38d4e58f45\n",
            "Successfully built sacremoses\n",
            "Installing collected packages: sacremoses, tokenizers, sentencepiece, transformers\n",
            "  Found existing installation: tokenizers 0.8.1\n",
            "    Uninstalling tokenizers-0.8.1:\n",
            "      Successfully uninstalled tokenizers-0.8.1\n",
            "Successfully installed sacremoses-0.0.43 sentencepiece-0.1.91 tokenizers-0.8.1rc2 transformers-3.3.1\n"
          ],
          "name": "stdout"
        }
      ]
    },
    {
      "cell_type": "code",
      "metadata": {
        "id": "B7YLuPmj9Tgk",
        "outputId": "e00084a3-36f8-476e-9c6d-96ea509c30d4",
        "colab": {
          "base_uri": "https://localhost:8080/",
          "height": 35
        }
      },
      "source": [
        "!gzip -d dakshina_dataset_v1.0/mr/native_script_wikipedia/mr.wiki-filt.train.text.sorted.tsv.gz\n",
        "!gzip -d dakshina_dataset_v1.0/mr/native_script_wikipedia/mr.wiki-filt.valid.text.sorted.tsv.gz\n",
        "!ls\n",
        "#df= pd.read_csv(\"mr.wiki-filt.train.text.sorted.tsv\",sep=\"\\t\",error_bad_lines=False)\n",
        "\n",
        "def save_txt(input_path, output_path):\n",
        "  df= pd.read_csv(input_path,sep=\"\\t\",error_bad_lines=False)\n",
        "  df.columns = [x for x in range(len(df.columns))]\n",
        "  with open(output_path,'w') as file:\n",
        "    for line in df[6].values:\n",
        "      file.write(line+'\\n')"
      ],
      "execution_count": 7,
      "outputs": [
        {
          "output_type": "stream",
          "text": [
            "dakshina_dataset_v1.0  dakshina_dataset_v1.0.tar  sample_data  transformers\n"
          ],
          "name": "stdout"
        }
      ]
    },
    {
      "cell_type": "code",
      "metadata": {
        "id": "6WqmkVwCF7jO",
        "outputId": "2cfc719a-291e-4f66-f1b3-8aaa61fc3054",
        "colab": {
          "base_uri": "https://localhost:8080/",
          "height": 124
        }
      },
      "source": [
        "save_txt(\"dakshina_dataset_v1.0/mr/native_script_wikipedia/mr.wiki-filt.train.text.sorted.tsv\",\"marathi_train.txt\")\n",
        "save_txt(\"dakshina_dataset_v1.0/mr/native_script_wikipedia/mr.wiki-filt.valid.text.sorted.tsv\",\"marathi_val.txt\")"
      ],
      "execution_count": 8,
      "outputs": [
        {
          "output_type": "stream",
          "text": [
            "b'Skipping line 18714: expected 7 fields, saw 8\\nSkipping line 36613: expected 7 fields, saw 8\\nSkipping line 36614: expected 7 fields, saw 8\\nSkipping line 36616: expected 7 fields, saw 8\\nSkipping line 36618: expected 7 fields, saw 8\\nSkipping line 36621: expected 7 fields, saw 8\\nSkipping line 36623: expected 7 fields, saw 8\\nSkipping line 36626: expected 7 fields, saw 8\\nSkipping line 36628: expected 7 fields, saw 8\\nSkipping line 36629: expected 7 fields, saw 8\\nSkipping line 36631: expected 7 fields, saw 8\\nSkipping line 36634: expected 7 fields, saw 8\\nSkipping line 36637: expected 7 fields, saw 8\\nSkipping line 37022: expected 7 fields, saw 8\\nSkipping line 45406: expected 7 fields, saw 8\\nSkipping line 47957: expected 7 fields, saw 8\\nSkipping line 47961: expected 7 fields, saw 8\\nSkipping line 47963: expected 7 fields, saw 8\\nSkipping line 47972: expected 7 fields, saw 8\\nSkipping line 50169: expected 7 fields, saw 9\\nSkipping line 50170: expected 7 fields, saw 9\\nSkipping line 50171: expected 7 fields, saw 9\\nSkipping line 50172: expected 7 fields, saw 9\\nSkipping line 50173: expected 7 fields, saw 9\\nSkipping line 50174: expected 7 fields, saw 9\\nSkipping line 50175: expected 7 fields, saw 9\\nSkipping line 50176: expected 7 fields, saw 9\\nSkipping line 50177: expected 7 fields, saw 9\\nSkipping line 50178: expected 7 fields, saw 9\\nSkipping line 50179: expected 7 fields, saw 9\\nSkipping line 60800: expected 7 fields, saw 8\\nSkipping line 60801: expected 7 fields, saw 8\\nSkipping line 60802: expected 7 fields, saw 8\\nSkipping line 60803: expected 7 fields, saw 8\\nSkipping line 78970: expected 7 fields, saw 8\\nSkipping line 78971: expected 7 fields, saw 8\\nSkipping line 78972: expected 7 fields, saw 8\\nSkipping line 78973: expected 7 fields, saw 8\\nSkipping line 89665: expected 7 fields, saw 8\\nSkipping line 89666: expected 7 fields, saw 8\\nSkipping line 89667: expected 7 fields, saw 8\\nSkipping line 89668: expected 7 fields, saw 8\\nSkipping line 91405: expected 7 fields, saw 8\\nSkipping line 91426: expected 7 fields, saw 8\\nSkipping line 91467: expected 7 fields, saw 8\\nSkipping line 96770: expected 7 fields, saw 10\\nSkipping line 118614: expected 7 fields, saw 8\\nSkipping line 118615: expected 7 fields, saw 8\\nSkipping line 118616: expected 7 fields, saw 8\\nSkipping line 118617: expected 7 fields, saw 8\\nSkipping line 121052: expected 7 fields, saw 9\\nSkipping line 121055: expected 7 fields, saw 9\\n'\n",
            "b'Skipping line 134961: expected 7 fields, saw 8\\nSkipping line 134962: expected 7 fields, saw 8\\nSkipping line 134963: expected 7 fields, saw 8\\nSkipping line 134964: expected 7 fields, saw 8\\nSkipping line 135031: expected 7 fields, saw 8\\nSkipping line 135032: expected 7 fields, saw 8\\nSkipping line 135033: expected 7 fields, saw 8\\nSkipping line 135034: expected 7 fields, saw 8\\nSkipping line 135270: expected 7 fields, saw 8\\nSkipping line 135271: expected 7 fields, saw 8\\nSkipping line 135272: expected 7 fields, saw 8\\nSkipping line 135273: expected 7 fields, saw 8\\nSkipping line 135384: expected 7 fields, saw 8\\nSkipping line 135385: expected 7 fields, saw 8\\nSkipping line 135386: expected 7 fields, saw 8\\nSkipping line 135387: expected 7 fields, saw 8\\nSkipping line 135431: expected 7 fields, saw 8\\nSkipping line 135432: expected 7 fields, saw 8\\nSkipping line 135433: expected 7 fields, saw 8\\nSkipping line 135434: expected 7 fields, saw 8\\nSkipping line 135520: expected 7 fields, saw 8\\nSkipping line 135521: expected 7 fields, saw 8\\nSkipping line 135522: expected 7 fields, saw 8\\nSkipping line 135523: expected 7 fields, saw 8\\nSkipping line 135567: expected 7 fields, saw 8\\nSkipping line 135568: expected 7 fields, saw 8\\nSkipping line 135569: expected 7 fields, saw 8\\nSkipping line 135570: expected 7 fields, saw 8\\nSkipping line 135590: expected 7 fields, saw 8\\nSkipping line 135591: expected 7 fields, saw 8\\nSkipping line 135592: expected 7 fields, saw 8\\nSkipping line 135593: expected 7 fields, saw 8\\nSkipping line 143049: expected 7 fields, saw 8\\nSkipping line 143053: expected 7 fields, saw 8\\nSkipping line 159413: expected 7 fields, saw 8\\nSkipping line 159452: expected 7 fields, saw 8\\nSkipping line 159480: expected 7 fields, saw 8\\nSkipping line 165780: expected 7 fields, saw 10\\nSkipping line 165781: expected 7 fields, saw 10\\nSkipping line 165782: expected 7 fields, saw 10\\nSkipping line 165783: expected 7 fields, saw 10\\nSkipping line 165784: expected 7 fields, saw 10\\nSkipping line 165785: expected 7 fields, saw 10\\nSkipping line 165786: expected 7 fields, saw 9\\nSkipping line 169666: expected 7 fields, saw 8\\nSkipping line 190860: expected 7 fields, saw 8\\nSkipping line 200380: expected 7 fields, saw 8\\nSkipping line 200386: expected 7 fields, saw 8\\nSkipping line 200387: expected 7 fields, saw 8\\nSkipping line 202443: expected 7 fields, saw 8\\nSkipping line 223651: expected 7 fields, saw 8\\nSkipping line 223652: expected 7 fields, saw 8\\nSkipping line 223653: expected 7 fields, saw 8\\nSkipping line 223655: expected 7 fields, saw 8\\nSkipping line 223656: expected 7 fields, saw 8\\nSkipping line 223657: expected 7 fields, saw 8\\nSkipping line 223658: expected 7 fields, saw 8\\nSkipping line 227285: expected 7 fields, saw 8\\nSkipping line 237629: expected 7 fields, saw 9\\nSkipping line 237634: expected 7 fields, saw 8\\nSkipping line 237638: expected 7 fields, saw 9\\nSkipping line 247067: expected 7 fields, saw 8\\nSkipping line 247079: expected 7 fields, saw 8\\nSkipping line 261493: expected 7 fields, saw 13\\nSkipping line 261495: expected 7 fields, saw 13\\nSkipping line 261497: expected 7 fields, saw 13\\n'\n",
            "b'Skipping line 267523: expected 7 fields, saw 8\\nSkipping line 277851: expected 7 fields, saw 9\\nSkipping line 277852: expected 7 fields, saw 8\\nSkipping line 277855: expected 7 fields, saw 8\\nSkipping line 277864: expected 7 fields, saw 8\\nSkipping line 278251: expected 7 fields, saw 8\\nSkipping line 278258: expected 7 fields, saw 8\\nSkipping line 278265: expected 7 fields, saw 8\\nSkipping line 278272: expected 7 fields, saw 8\\nSkipping line 278280: expected 7 fields, saw 8\\nSkipping line 278286: expected 7 fields, saw 8\\nSkipping line 278311: expected 7 fields, saw 8\\nSkipping line 278312: expected 7 fields, saw 8\\nSkipping line 278322: expected 7 fields, saw 8\\nSkipping line 278335: expected 7 fields, saw 8\\nSkipping line 300319: expected 7 fields, saw 8\\nSkipping line 300320: expected 7 fields, saw 8\\nSkipping line 300321: expected 7 fields, saw 8\\nSkipping line 300322: expected 7 fields, saw 8\\nSkipping line 300323: expected 7 fields, saw 8\\nSkipping line 300324: expected 7 fields, saw 8\\nSkipping line 300325: expected 7 fields, saw 8\\nSkipping line 300326: expected 7 fields, saw 8\\nSkipping line 300368: expected 7 fields, saw 8\\nSkipping line 300369: expected 7 fields, saw 8\\nSkipping line 300370: expected 7 fields, saw 8\\nSkipping line 300371: expected 7 fields, saw 8\\nSkipping line 308547: expected 7 fields, saw 8\\nSkipping line 319503: expected 7 fields, saw 8\\nSkipping line 326322: expected 7 fields, saw 8\\nSkipping line 326323: expected 7 fields, saw 8\\nSkipping line 326324: expected 7 fields, saw 8\\nSkipping line 326325: expected 7 fields, saw 8\\nSkipping line 326326: expected 7 fields, saw 8\\nSkipping line 326327: expected 7 fields, saw 8\\nSkipping line 326328: expected 7 fields, saw 8\\nSkipping line 326329: expected 7 fields, saw 8\\nSkipping line 327373: expected 7 fields, saw 10\\nSkipping line 327378: expected 7 fields, saw 11\\nSkipping line 336837: expected 7 fields, saw 8\\nSkipping line 337845: expected 7 fields, saw 8\\nSkipping line 346323: expected 7 fields, saw 8\\nSkipping line 355461: expected 7 fields, saw 9\\nSkipping line 366264: expected 7 fields, saw 9\\nSkipping line 373619: expected 7 fields, saw 8\\nSkipping line 380200: expected 7 fields, saw 8\\nSkipping line 386974: expected 7 fields, saw 9\\nSkipping line 386975: expected 7 fields, saw 9\\nSkipping line 386976: expected 7 fields, saw 9\\nSkipping line 386977: expected 7 fields, saw 9\\nSkipping line 386978: expected 7 fields, saw 9\\nSkipping line 386979: expected 7 fields, saw 9\\nSkipping line 386980: expected 7 fields, saw 9\\nSkipping line 386981: expected 7 fields, saw 9\\nSkipping line 386982: expected 7 fields, saw 9\\nSkipping line 386983: expected 7 fields, saw 9\\nSkipping line 386984: expected 7 fields, saw 9\\nSkipping line 386985: expected 7 fields, saw 9\\nSkipping line 386986: expected 7 fields, saw 9\\nSkipping line 386987: expected 7 fields, saw 9\\n'\n",
            "b'Skipping line 393558: expected 7 fields, saw 8\\nSkipping line 393570: expected 7 fields, saw 8\\nSkipping line 393571: expected 7 fields, saw 8\\nSkipping line 393574: expected 7 fields, saw 8\\nSkipping line 393577: expected 7 fields, saw 8\\nSkipping line 395389: expected 7 fields, saw 9\\nSkipping line 395390: expected 7 fields, saw 9\\nSkipping line 395391: expected 7 fields, saw 9\\nSkipping line 395392: expected 7 fields, saw 9\\nSkipping line 395393: expected 7 fields, saw 9\\nSkipping line 395394: expected 7 fields, saw 9\\nSkipping line 395395: expected 7 fields, saw 9\\nSkipping line 395396: expected 7 fields, saw 9\\nSkipping line 395397: expected 7 fields, saw 9\\nSkipping line 395398: expected 7 fields, saw 9\\nSkipping line 395399: expected 7 fields, saw 9\\nSkipping line 395400: expected 7 fields, saw 9\\nSkipping line 395401: expected 7 fields, saw 9\\nSkipping line 395402: expected 7 fields, saw 9\\nSkipping line 395403: expected 7 fields, saw 9\\nSkipping line 395404: expected 7 fields, saw 9\\nSkipping line 395405: expected 7 fields, saw 9\\nSkipping line 395406: expected 7 fields, saw 9\\nSkipping line 395407: expected 7 fields, saw 9\\nSkipping line 395408: expected 7 fields, saw 9\\nSkipping line 395409: expected 7 fields, saw 9\\nSkipping line 395410: expected 7 fields, saw 9\\nSkipping line 395411: expected 7 fields, saw 9\\nSkipping line 395412: expected 7 fields, saw 9\\nSkipping line 395413: expected 7 fields, saw 9\\nSkipping line 395414: expected 7 fields, saw 9\\nSkipping line 395415: expected 7 fields, saw 9\\nSkipping line 395416: expected 7 fields, saw 9\\nSkipping line 395417: expected 7 fields, saw 9\\nSkipping line 395418: expected 7 fields, saw 9\\nSkipping line 395419: expected 7 fields, saw 9\\nSkipping line 395420: expected 7 fields, saw 9\\nSkipping line 395421: expected 7 fields, saw 9\\nSkipping line 395422: expected 7 fields, saw 9\\nSkipping line 395423: expected 7 fields, saw 9\\nSkipping line 395424: expected 7 fields, saw 9\\nSkipping line 395425: expected 7 fields, saw 9\\nSkipping line 395426: expected 7 fields, saw 9\\nSkipping line 395427: expected 7 fields, saw 9\\nSkipping line 395428: expected 7 fields, saw 9\\nSkipping line 395429: expected 7 fields, saw 9\\nSkipping line 395430: expected 7 fields, saw 9\\nSkipping line 395431: expected 7 fields, saw 9\\nSkipping line 395432: expected 7 fields, saw 9\\nSkipping line 395433: expected 7 fields, saw 9\\nSkipping line 395434: expected 7 fields, saw 9\\nSkipping line 395435: expected 7 fields, saw 9\\nSkipping line 395436: expected 7 fields, saw 9\\nSkipping line 395437: expected 7 fields, saw 9\\nSkipping line 399002: expected 7 fields, saw 8\\nSkipping line 401983: expected 7 fields, saw 9\\nSkipping line 401984: expected 7 fields, saw 9\\nSkipping line 401992: expected 7 fields, saw 8\\nSkipping line 401993: expected 7 fields, saw 10\\nSkipping line 401994: expected 7 fields, saw 9\\nSkipping line 401995: expected 7 fields, saw 9\\nSkipping line 401996: expected 7 fields, saw 9\\nSkipping line 401997: expected 7 fields, saw 9\\nSkipping line 401998: expected 7 fields, saw 9\\nSkipping line 401999: expected 7 fields, saw 9\\nSkipping line 402000: expected 7 fields, saw 9\\nSkipping line 402001: expected 7 fields, saw 9\\nSkipping line 402002: expected 7 fields, saw 9\\nSkipping line 402003: expected 7 fields, saw 9\\nSkipping line 402004: expected 7 fields, saw 9\\nSkipping line 402005: expected 7 fields, saw 9\\nSkipping line 407972: expected 7 fields, saw 8\\nSkipping line 407974: expected 7 fields, saw 8\\nSkipping line 407979: expected 7 fields, saw 8\\nSkipping line 407983: expected 7 fields, saw 9\\nSkipping line 407984: expected 7 fields, saw 9\\nSkipping line 407986: expected 7 fields, saw 10\\nSkipping line 407993: expected 7 fields, saw 8\\nSkipping line 407995: expected 7 fields, saw 8\\nSkipping line 407998: expected 7 fields, saw 8\\nSkipping line 408000: expected 7 fields, saw 10\\nSkipping line 408001: expected 7 fields, saw 10\\nSkipping line 408002: expected 7 fields, saw 8\\nSkipping line 408003: expected 7 fields, saw 8\\nSkipping line 408004: expected 7 fields, saw 8\\nSkipping line 408006: expected 7 fields, saw 10\\nSkipping line 408007: expected 7 fields, saw 8\\nSkipping line 408008: expected 7 fields, saw 10\\nSkipping line 408009: expected 7 fields, saw 9\\nSkipping line 408010: expected 7 fields, saw 8\\nSkipping line 408011: expected 7 fields, saw 8\\nSkipping line 408013: expected 7 fields, saw 8\\nSkipping line 408014: expected 7 fields, saw 9\\nSkipping line 408015: expected 7 fields, saw 10\\nSkipping line 408016: expected 7 fields, saw 8\\nSkipping line 408017: expected 7 fields, saw 8\\nSkipping line 408224: expected 7 fields, saw 8\\nSkipping line 408229: expected 7 fields, saw 8\\nSkipping line 408394: expected 7 fields, saw 8\\nSkipping line 408397: expected 7 fields, saw 8\\nSkipping line 408400: expected 7 fields, saw 8\\nSkipping line 408403: expected 7 fields, saw 8\\nSkipping line 410041: expected 7 fields, saw 8\\nSkipping line 410042: expected 7 fields, saw 8\\nSkipping line 410043: expected 7 fields, saw 8\\nSkipping line 410044: expected 7 fields, saw 8\\nSkipping line 410045: expected 7 fields, saw 8\\nSkipping line 429802: expected 7 fields, saw 8\\nSkipping line 429803: expected 7 fields, saw 8\\nSkipping line 429804: expected 7 fields, saw 8\\nSkipping line 429805: expected 7 fields, saw 8\\nSkipping line 429806: expected 7 fields, saw 8\\nSkipping line 429807: expected 7 fields, saw 8\\nSkipping line 429808: expected 7 fields, saw 8\\nSkipping line 429809: expected 7 fields, saw 8\\nSkipping line 429810: expected 7 fields, saw 8\\nSkipping line 429811: expected 7 fields, saw 8\\nSkipping line 429813: expected 7 fields, saw 8\\nSkipping line 429814: expected 7 fields, saw 8\\nSkipping line 429815: expected 7 fields, saw 8\\nSkipping line 429819: expected 7 fields, saw 8\\nSkipping line 429821: expected 7 fields, saw 8\\nSkipping line 429822: expected 7 fields, saw 8\\nSkipping line 429823: expected 7 fields, saw 8\\nSkipping line 429824: expected 7 fields, saw 8\\nSkipping line 429825: expected 7 fields, saw 8\\nSkipping line 429826: expected 7 fields, saw 8\\nSkipping line 429827: expected 7 fields, saw 8\\nSkipping line 429828: expected 7 fields, saw 8\\nSkipping line 429832: expected 7 fields, saw 8\\nSkipping line 429833: expected 7 fields, saw 8\\nSkipping line 429835: expected 7 fields, saw 8\\nSkipping line 429841: expected 7 fields, saw 8\\nSkipping line 429842: expected 7 fields, saw 8\\nSkipping line 429845: expected 7 fields, saw 8\\nSkipping line 429847: expected 7 fields, saw 8\\nSkipping line 429848: expected 7 fields, saw 8\\nSkipping line 429851: expected 7 fields, saw 8\\nSkipping line 429852: expected 7 fields, saw 8\\nSkipping line 429854: expected 7 fields, saw 8\\nSkipping line 429855: expected 7 fields, saw 8\\nSkipping line 429856: expected 7 fields, saw 8\\nSkipping line 429857: expected 7 fields, saw 8\\nSkipping line 429858: expected 7 fields, saw 8\\nSkipping line 429860: expected 7 fields, saw 8\\nSkipping line 429861: expected 7 fields, saw 8\\nSkipping line 429862: expected 7 fields, saw 8\\nSkipping line 429863: expected 7 fields, saw 8\\nSkipping line 429864: expected 7 fields, saw 8\\nSkipping line 429865: expected 7 fields, saw 8\\nSkipping line 429867: expected 7 fields, saw 8\\nSkipping line 429869: expected 7 fields, saw 8\\nSkipping line 429870: expected 7 fields, saw 8\\nSkipping line 429871: expected 7 fields, saw 8\\nSkipping line 429872: expected 7 fields, saw 8\\nSkipping line 429873: expected 7 fields, saw 8\\nSkipping line 429874: expected 7 fields, saw 8\\nSkipping line 429875: expected 7 fields, saw 8\\nSkipping line 429876: expected 7 fields, saw 8\\nSkipping line 429877: expected 7 fields, saw 8\\nSkipping line 443616: expected 7 fields, saw 8\\nSkipping line 443618: expected 7 fields, saw 8\\nSkipping line 443979: expected 7 fields, saw 10\\nSkipping line 443980: expected 7 fields, saw 9\\nSkipping line 443981: expected 7 fields, saw 9\\nSkipping line 443982: expected 7 fields, saw 9\\nSkipping line 443984: expected 7 fields, saw 9\\nSkipping line 443985: expected 7 fields, saw 9\\nSkipping line 443988: expected 7 fields, saw 8\\nSkipping line 443989: expected 7 fields, saw 8\\nSkipping line 443990: expected 7 fields, saw 8\\nSkipping line 443991: expected 7 fields, saw 9\\nSkipping line 443998: expected 7 fields, saw 9\\nSkipping line 443999: expected 7 fields, saw 10\\nSkipping line 444235: expected 7 fields, saw 11\\nSkipping line 444236: expected 7 fields, saw 11\\nSkipping line 444237: expected 7 fields, saw 11\\nSkipping line 444246: expected 7 fields, saw 8\\nSkipping line 444247: expected 7 fields, saw 8\\nSkipping line 444248: expected 7 fields, saw 8\\nSkipping line 444249: expected 7 fields, saw 8\\nSkipping line 444250: expected 7 fields, saw 8\\nSkipping line 444251: expected 7 fields, saw 8\\nSkipping line 444252: expected 7 fields, saw 8\\nSkipping line 444253: expected 7 fields, saw 8\\nSkipping line 444254: expected 7 fields, saw 8\\nSkipping line 444255: expected 7 fields, saw 8\\nSkipping line 444256: expected 7 fields, saw 8\\nSkipping line 444257: expected 7 fields, saw 8\\nSkipping line 444258: expected 7 fields, saw 8\\nSkipping line 444259: expected 7 fields, saw 8\\nSkipping line 444260: expected 7 fields, saw 8\\nSkipping line 444261: expected 7 fields, saw 8\\nSkipping line 444262: expected 7 fields, saw 8\\nSkipping line 444263: expected 7 fields, saw 8\\nSkipping line 444265: expected 7 fields, saw 8\\nSkipping line 444266: expected 7 fields, saw 8\\nSkipping line 444268: expected 7 fields, saw 8\\nSkipping line 444269: expected 7 fields, saw 8\\nSkipping line 444270: expected 7 fields, saw 8\\nSkipping line 444271: expected 7 fields, saw 8\\nSkipping line 444272: expected 7 fields, saw 8\\nSkipping line 444273: expected 7 fields, saw 8\\nSkipping line 444274: expected 7 fields, saw 8\\nSkipping line 444275: expected 7 fields, saw 8\\nSkipping line 444276: expected 7 fields, saw 8\\nSkipping line 444277: expected 7 fields, saw 8\\nSkipping line 444278: expected 7 fields, saw 8\\nSkipping line 444279: expected 7 fields, saw 8\\nSkipping line 444280: expected 7 fields, saw 8\\nSkipping line 444282: expected 7 fields, saw 8\\nSkipping line 444283: expected 7 fields, saw 8\\nSkipping line 444284: expected 7 fields, saw 8\\nSkipping line 444285: expected 7 fields, saw 8\\nSkipping line 444895: expected 7 fields, saw 8\\nSkipping line 444896: expected 7 fields, saw 8\\nSkipping line 444897: expected 7 fields, saw 8\\nSkipping line 444898: expected 7 fields, saw 8\\nSkipping line 444899: expected 7 fields, saw 8\\nSkipping line 444900: expected 7 fields, saw 8\\nSkipping line 444901: expected 7 fields, saw 8\\nSkipping line 444902: expected 7 fields, saw 8\\nSkipping line 444913: expected 7 fields, saw 8\\nSkipping line 444914: expected 7 fields, saw 8\\nSkipping line 444915: expected 7 fields, saw 8\\nSkipping line 444916: expected 7 fields, saw 8\\nSkipping line 444917: expected 7 fields, saw 8\\nSkipping line 444919: expected 7 fields, saw 8\\nSkipping line 444920: expected 7 fields, saw 8\\nSkipping line 444921: expected 7 fields, saw 8\\nSkipping line 444922: expected 7 fields, saw 8\\nSkipping line 444923: expected 7 fields, saw 8\\nSkipping line 444924: expected 7 fields, saw 8\\nSkipping line 444925: expected 7 fields, saw 8\\nSkipping line 444926: expected 7 fields, saw 8\\nSkipping line 444927: expected 7 fields, saw 8\\nSkipping line 470637: expected 7 fields, saw 8\\nSkipping line 470638: expected 7 fields, saw 8\\nSkipping line 470639: expected 7 fields, saw 8\\nSkipping line 470640: expected 7 fields, saw 8\\nSkipping line 470641: expected 7 fields, saw 8\\nSkipping line 470643: expected 7 fields, saw 8\\nSkipping line 470644: expected 7 fields, saw 8\\nSkipping line 470645: expected 7 fields, saw 8\\nSkipping line 470647: expected 7 fields, saw 8\\nSkipping line 470648: expected 7 fields, saw 8\\nSkipping line 470649: expected 7 fields, saw 8\\nSkipping line 470650: expected 7 fields, saw 8\\nSkipping line 470651: expected 7 fields, saw 8\\nSkipping line 470652: expected 7 fields, saw 8\\nSkipping line 479400: expected 7 fields, saw 10\\nSkipping line 479401: expected 7 fields, saw 10\\nSkipping line 479402: expected 7 fields, saw 10\\nSkipping line 479403: expected 7 fields, saw 10\\nSkipping line 479404: expected 7 fields, saw 10\\nSkipping line 479405: expected 7 fields, saw 10\\nSkipping line 488851: expected 7 fields, saw 8\\nSkipping line 488866: expected 7 fields, saw 8\\nSkipping line 488867: expected 7 fields, saw 8\\nSkipping line 489678: expected 7 fields, saw 8\\nSkipping line 501789: expected 7 fields, saw 8\\nSkipping line 501790: expected 7 fields, saw 8\\nSkipping line 501791: expected 7 fields, saw 8\\nSkipping line 501792: expected 7 fields, saw 8\\nSkipping line 501808: expected 7 fields, saw 8\\nSkipping line 501809: expected 7 fields, saw 8\\nSkipping line 501810: expected 7 fields, saw 8\\nSkipping line 501811: expected 7 fields, saw 8\\nSkipping line 501812: expected 7 fields, saw 8\\nSkipping line 508965: expected 7 fields, saw 8\\nSkipping line 508970: expected 7 fields, saw 8\\nSkipping line 508971: expected 7 fields, saw 8\\nSkipping line 508974: expected 7 fields, saw 8\\nSkipping line 511435: expected 7 fields, saw 8\\nSkipping line 516657: expected 7 fields, saw 8\\nSkipping line 516662: expected 7 fields, saw 8\\nSkipping line 516674: expected 7 fields, saw 8\\nSkipping line 516695: expected 7 fields, saw 8\\nSkipping line 516710: expected 7 fields, saw 8\\nSkipping line 516711: expected 7 fields, saw 8\\nSkipping line 516712: expected 7 fields, saw 8\\nSkipping line 516713: expected 7 fields, saw 8\\nSkipping line 516714: expected 7 fields, saw 8\\nSkipping line 516716: expected 7 fields, saw 8\\nSkipping line 516721: expected 7 fields, saw 8\\nSkipping line 516723: expected 7 fields, saw 8\\nSkipping line 516731: expected 7 fields, saw 8\\nSkipping line 516736: expected 7 fields, saw 8\\nSkipping line 516738: expected 7 fields, saw 8\\nSkipping line 516746: expected 7 fields, saw 8\\nSkipping line 516755: expected 7 fields, saw 8\\nSkipping line 516756: expected 7 fields, saw 8\\nSkipping line 516757: expected 7 fields, saw 8\\nSkipping line 517966: expected 7 fields, saw 8\\nSkipping line 517976: expected 7 fields, saw 8\\nSkipping line 517994: expected 7 fields, saw 8\\nSkipping line 518003: expected 7 fields, saw 8\\nSkipping line 518012: expected 7 fields, saw 8\\nSkipping line 518016: expected 7 fields, saw 8\\nSkipping line 518018: expected 7 fields, saw 8\\nSkipping line 518022: expected 7 fields, saw 8\\nSkipping line 518024: expected 7 fields, saw 8\\nSkipping line 518027: expected 7 fields, saw 8\\nSkipping line 518030: expected 7 fields, saw 8\\nSkipping line 518031: expected 7 fields, saw 8\\nSkipping line 518041: expected 7 fields, saw 8\\nSkipping line 518051: expected 7 fields, saw 8\\nSkipping line 518069: expected 7 fields, saw 8\\nSkipping line 518078: expected 7 fields, saw 8\\nSkipping line 518087: expected 7 fields, saw 8\\nSkipping line 518091: expected 7 fields, saw 8\\nSkipping line 518093: expected 7 fields, saw 8\\nSkipping line 518097: expected 7 fields, saw 8\\nSkipping line 518099: expected 7 fields, saw 8\\nSkipping line 518102: expected 7 fields, saw 8\\nSkipping line 518105: expected 7 fields, saw 8\\nSkipping line 518106: expected 7 fields, saw 8\\nSkipping line 518327: expected 7 fields, saw 8\\nSkipping line 518332: expected 7 fields, saw 8\\nSkipping line 518353: expected 7 fields, saw 8\\nSkipping line 518354: expected 7 fields, saw 8\\nSkipping line 518356: expected 7 fields, saw 8\\nSkipping line 518357: expected 7 fields, saw 8\\nSkipping line 518360: expected 7 fields, saw 8\\nSkipping line 518362: expected 7 fields, saw 8\\nSkipping line 518369: expected 7 fields, saw 8\\nSkipping line 518371: expected 7 fields, saw 8\\nSkipping line 518372: expected 7 fields, saw 8\\nSkipping line 518375: expected 7 fields, saw 8\\nSkipping line 518378: expected 7 fields, saw 8\\nSkipping line 518379: expected 7 fields, saw 8\\nSkipping line 518381: expected 7 fields, saw 8\\nSkipping line 518382: expected 7 fields, saw 8\\nSkipping line 518383: expected 7 fields, saw 8\\nSkipping line 518384: expected 7 fields, saw 8\\nSkipping line 518385: expected 7 fields, saw 8\\nSkipping line 518386: expected 7 fields, saw 8\\nSkipping line 518391: expected 7 fields, saw 8\\nSkipping line 518392: expected 7 fields, saw 8\\nSkipping line 518393: expected 7 fields, saw 8\\nSkipping line 518395: expected 7 fields, saw 8\\nSkipping line 518397: expected 7 fields, saw 8\\nSkipping line 518398: expected 7 fields, saw 8\\nSkipping line 518399: expected 7 fields, saw 8\\nSkipping line 518401: expected 7 fields, saw 8\\nSkipping line 518403: expected 7 fields, saw 8\\nSkipping line 518405: expected 7 fields, saw 8\\nSkipping line 518408: expected 7 fields, saw 8\\nSkipping line 518410: expected 7 fields, saw 8\\nSkipping line 518413: expected 7 fields, saw 8\\nSkipping line 518417: expected 7 fields, saw 8\\nSkipping line 518823: expected 7 fields, saw 8\\nSkipping line 518827: expected 7 fields, saw 8\\nSkipping line 518829: expected 7 fields, saw 8\\nSkipping line 518833: expected 7 fields, saw 8\\nSkipping line 518835: expected 7 fields, saw 8\\nSkipping line 518838: expected 7 fields, saw 8\\nSkipping line 518841: expected 7 fields, saw 8\\nSkipping line 518842: expected 7 fields, saw 8\\n'\n",
            "b'Skipping line 10211: expected 7 fields, saw 8\\nSkipping line 16435: expected 7 fields, saw 8\\nSkipping line 28953: expected 7 fields, saw 9\\nSkipping line 30261: expected 7 fields, saw 8\\nSkipping line 30262: expected 7 fields, saw 8\\nSkipping line 30263: expected 7 fields, saw 8\\nSkipping line 30264: expected 7 fields, saw 8\\nSkipping line 30265: expected 7 fields, saw 8\\nSkipping line 30266: expected 7 fields, saw 8\\nSkipping line 30267: expected 7 fields, saw 8\\nSkipping line 30268: expected 7 fields, saw 8\\nSkipping line 30269: expected 7 fields, saw 8\\nSkipping line 30270: expected 7 fields, saw 8\\nSkipping line 30271: expected 7 fields, saw 8\\nSkipping line 35310: expected 7 fields, saw 8\\nSkipping line 35316: expected 7 fields, saw 8\\nSkipping line 35327: expected 7 fields, saw 8\\nSkipping line 35329: expected 7 fields, saw 8\\nSkipping line 35332: expected 7 fields, saw 8\\nSkipping line 35333: expected 7 fields, saw 8\\nSkipping line 35334: expected 7 fields, saw 8\\nSkipping line 35337: expected 7 fields, saw 8\\nSkipping line 35340: expected 7 fields, saw 8\\nSkipping line 35341: expected 7 fields, saw 8\\nSkipping line 35342: expected 7 fields, saw 8\\nSkipping line 35343: expected 7 fields, saw 8\\nSkipping line 35353: expected 7 fields, saw 8\\nSkipping line 35354: expected 7 fields, saw 8\\nSkipping line 35355: expected 7 fields, saw 8\\nSkipping line 35356: expected 7 fields, saw 8\\n'\n"
          ],
          "name": "stderr"
        }
      ]
    },
    {
      "cell_type": "code",
      "metadata": {
        "id": "k_ydVYCqGxrU",
        "outputId": "d1c86d1c-43ef-4b17-c8f9-176335ba1579",
        "colab": {
          "base_uri": "https://localhost:8080/",
          "height": 89
        }
      },
      "source": [
        "!head -3 marathi_train.txt"
      ],
      "execution_count": 9,
      "outputs": [
        {
          "output_type": "stream",
          "text": [
            "एखाद्या कुशल चित्रकाराने कुंचल्याच्या अवघ्या चार-सहा फटकाऱ्यांसरशी एखादे सुरेख चित्र निर्माण करावे तद्वत अवघ्या आठ ओळीत बालकवींनी एक सुंदर निसर्गचित्र शब्दांच्या कुंचल्याने या कवितेत रेखाटलेले आहे.  \n",
            "हे चित्र रंगविताना कवीने विविध रंग वापरलेले आढळतील. \n",
            "निळासावळा झरा, शेतमळ्यांची हिरवी गरदी, पांढरी पायवाट व काळा डोह-मोजक्या रंगांनी शब्दांच्या चौकटीत बसविलेले हे एक साधे व जिवंत चित्र आहे.  \n"
          ],
          "name": "stdout"
        }
      ]
    },
    {
      "cell_type": "code",
      "metadata": {
        "id": "L4RhEG2D-YQq",
        "outputId": "c673d28f-bd0d-47e4-dd1a-fc5c0eb3a9cf",
        "colab": {
          "base_uri": "https://localhost:8080/",
          "height": 69
        }
      },
      "source": [
        "!head -3 marathi_val.txt"
      ],
      "execution_count": 10,
      "outputs": [
        {
          "output_type": "stream",
          "text": [
            "'म्हणी' म्हणजे लोकांनी वारंवार उच्चारलेले वाक्य.\n",
            "म्हणीमध्ये जीवनातील विशिष्ट अनुभव, माहिती, सत्य व उपदेश साठवलेला असतो. \n",
            "जगातील सर्व प्रमुख भाषांमध्ये म्हणी भरपूर प्रमाणात आढळतात.\n"
          ],
          "name": "stdout"
        }
      ]
    },
    {
      "cell_type": "code",
      "metadata": {
        "id": "vDR89kkYyIoV",
        "outputId": "503a4af8-f8e7-4412-e443-74f34c86df5b",
        "colab": {
          "base_uri": "https://localhost:8080/",
          "height": 35
        }
      },
      "source": [
        "from pathlib import Path\n",
        "\n",
        "from tokenizers import ByteLevelBPETokenizer\n",
        "\n",
        "paths = [\"marathi_train.txt\"]\n",
        "\n",
        "# Initialize a tokenizer\n",
        "tokenizer = ByteLevelBPETokenizer()\n",
        "\n",
        "# Customize training\n",
        "tokenizer.train(files=paths, vocab_size=52_000, min_frequency=2, special_tokens=[\n",
        "    \"<s>\",\n",
        "    \"<pad>\",\n",
        "    \"</s>\",\n",
        "    \"<unk>\",\n",
        "    \"<mask>\",\n",
        "])\n",
        "\n",
        "# Save files to disk\n",
        "tokenizer.save_model(\".\", \"esperberto\")"
      ],
      "execution_count": 11,
      "outputs": [
        {
          "output_type": "execute_result",
          "data": {
            "text/plain": [
              "['./esperberto-vocab.json', './esperberto-merges.txt']"
            ]
          },
          "metadata": {
            "tags": []
          },
          "execution_count": 11
        }
      ]
    },
    {
      "cell_type": "code",
      "metadata": {
        "id": "95V5NThny3gh",
        "outputId": "653d28a9-988c-4e4e-b1c7-e66a10e3beb6",
        "colab": {
          "base_uri": "https://localhost:8080/",
          "height": 35
        }
      },
      "source": [
        "!mkdir martbertochar\n",
        "tokenizer.save_model(\"martbertochar\")"
      ],
      "execution_count": 12,
      "outputs": [
        {
          "output_type": "execute_result",
          "data": {
            "text/plain": [
              "['martbertochar/vocab.json', 'martbertochar/merges.txt']"
            ]
          },
          "metadata": {
            "tags": []
          },
          "execution_count": 12
        }
      ]
    },
    {
      "cell_type": "code",
      "metadata": {
        "id": "hEEgaNdizSz-"
      },
      "source": [
        "from tokenizers.implementations import ByteLevelBPETokenizer\n",
        "from tokenizers.processors import BertProcessing\n",
        "\n",
        "\n",
        "tokenizer = ByteLevelBPETokenizer(\n",
        "    \"./martbertochar/vocab.json\",\n",
        "    \"./martbertochar/merges.txt\",\n",
        ")"
      ],
      "execution_count": 13,
      "outputs": []
    },
    {
      "cell_type": "code",
      "metadata": {
        "id": "FN9o8Q9UzfWf"
      },
      "source": [
        "tokenizer._tokenizer.post_processor = BertProcessing(\n",
        "    (\"</s>\", tokenizer.token_to_id(\"</s>\")),\n",
        "    (\"<s>\", tokenizer.token_to_id(\"<s>\")),\n",
        ")\n",
        "tokenizer.enable_truncation(max_length=512)"
      ],
      "execution_count": 14,
      "outputs": []
    },
    {
      "cell_type": "code",
      "metadata": {
        "id": "vwlLY8DYzhin"
      },
      "source": [
        "op = tokenizer.encode(\"एखाद्या कुशल चित्रकाराने कुंचल्याच्या अवघ्या चार-सहा फटकाऱ्यांसरशी एखादे सुरेख चित्र निर्माण करावे तद्वत अवघ्या आठ ओळीत बालकवींनी एक सुंदर निसर्गचित्र शब्दांच्या कुंचल्याने या कवितेत रेखाटलेले आहे.  \")"
      ],
      "execution_count": 15,
      "outputs": []
    },
    {
      "cell_type": "code",
      "metadata": {
        "id": "VMmV0EYHx4dN"
      },
      "source": [
        "from tokenizers.decoders import ByteLevel\n",
        "decoder = ByteLevel()"
      ],
      "execution_count": 16,
      "outputs": []
    },
    {
      "cell_type": "code",
      "metadata": {
        "id": "DQwzX-dntEFv",
        "outputId": "b181b22f-be19-4f4f-c96a-ae692c5aeaaf",
        "colab": {
          "base_uri": "https://localhost:8080/",
          "height": 304
        }
      },
      "source": [
        "tokenizer.decode(op)"
      ],
      "execution_count": 17,
      "outputs": [
        {
          "output_type": "error",
          "ename": "TypeError",
          "evalue": "ignored",
          "traceback": [
            "\u001b[0;31m---------------------------------------------------------------------------\u001b[0m",
            "\u001b[0;31mTypeError\u001b[0m                                 Traceback (most recent call last)",
            "\u001b[0;32m<ipython-input-17-7d87042ff7c0>\u001b[0m in \u001b[0;36m<module>\u001b[0;34m()\u001b[0m\n\u001b[0;32m----> 1\u001b[0;31m \u001b[0mtokenizer\u001b[0m\u001b[0;34m.\u001b[0m\u001b[0mdecode\u001b[0m\u001b[0;34m(\u001b[0m\u001b[0mop\u001b[0m\u001b[0;34m)\u001b[0m\u001b[0;34m\u001b[0m\u001b[0;34m\u001b[0m\u001b[0m\n\u001b[0m",
            "\u001b[0;32m/usr/local/lib/python3.6/dist-packages/tokenizers/implementations/base_tokenizer.py\u001b[0m in \u001b[0;36mdecode\u001b[0;34m(self, ids, skip_special_tokens)\u001b[0m\n\u001b[1;32m    265\u001b[0m             \u001b[0;32mraise\u001b[0m \u001b[0mValueError\u001b[0m\u001b[0;34m(\u001b[0m\u001b[0;34m\"None input is not valid. Should be a list of integers.\"\u001b[0m\u001b[0;34m)\u001b[0m\u001b[0;34m\u001b[0m\u001b[0;34m\u001b[0m\u001b[0m\n\u001b[1;32m    266\u001b[0m \u001b[0;34m\u001b[0m\u001b[0m\n\u001b[0;32m--> 267\u001b[0;31m         \u001b[0;32mreturn\u001b[0m \u001b[0mself\u001b[0m\u001b[0;34m.\u001b[0m\u001b[0m_tokenizer\u001b[0m\u001b[0;34m.\u001b[0m\u001b[0mdecode\u001b[0m\u001b[0;34m(\u001b[0m\u001b[0mids\u001b[0m\u001b[0;34m,\u001b[0m \u001b[0mskip_special_tokens\u001b[0m\u001b[0;34m=\u001b[0m\u001b[0mskip_special_tokens\u001b[0m\u001b[0;34m)\u001b[0m\u001b[0;34m\u001b[0m\u001b[0;34m\u001b[0m\u001b[0m\n\u001b[0m\u001b[1;32m    268\u001b[0m \u001b[0;34m\u001b[0m\u001b[0m\n\u001b[1;32m    269\u001b[0m     def decode_batch(\n",
            "\u001b[0;31mTypeError\u001b[0m: "
          ]
        }
      ]
    },
    {
      "cell_type": "code",
      "metadata": {
        "id": "4kcDRRv05wMj"
      },
      "source": [
        "from transformers import RobertaConfig\n",
        "\n",
        "config = RobertaConfig(\n",
        "    vocab_size=52_000,\n",
        "    max_position_embeddings=514,\n",
        "    num_attention_heads=12,\n",
        "    num_hidden_layers=6,\n",
        "    type_vocab_size=1,\n",
        ")"
      ],
      "execution_count": 18,
      "outputs": []
    },
    {
      "cell_type": "code",
      "metadata": {
        "id": "8PkEqh815-9g"
      },
      "source": [
        "from transformers import RobertaTokenizerFast\n",
        "\n",
        "\n",
        "tokenizer = RobertaTokenizerFast.from_pretrained(\"./martbertochar\", max_len=512)"
      ],
      "execution_count": 19,
      "outputs": []
    },
    {
      "cell_type": "code",
      "metadata": {
        "id": "-XlomtCE6BMM"
      },
      "source": [
        "from transformers import RobertaForMaskedLM\n",
        "\n",
        "model = RobertaForMaskedLM(config=config)"
      ],
      "execution_count": 20,
      "outputs": []
    },
    {
      "cell_type": "code",
      "metadata": {
        "id": "0Gn9AEbg6CZX",
        "outputId": "f1027dab-e785-4081-92e9-7085ff1624b6",
        "colab": {
          "base_uri": "https://localhost:8080/",
          "height": 35
        }
      },
      "source": [
        "model.num_parameters()\n",
        "# => 84 million parameters"
      ],
      "execution_count": 21,
      "outputs": [
        {
          "output_type": "execute_result",
          "data": {
            "text/plain": [
              "83504416"
            ]
          },
          "metadata": {
            "tags": []
          },
          "execution_count": 21
        }
      ]
    },
    {
      "cell_type": "code",
      "metadata": {
        "id": "3yJ1NdpR6Ddz",
        "outputId": "5f4c269f-a454-4876-b61c-ec71cf36e907",
        "colab": {
          "base_uri": "https://localhost:8080/",
          "height": 52
        }
      },
      "source": [
        "%%time\n",
        "from transformers import LineByLineTextDataset\n",
        "\n",
        "dataset = LineByLineTextDataset(\n",
        "    tokenizer=tokenizer,\n",
        "    file_path=\"marathi_train.txt\",\n",
        "    block_size=128,\n",
        ")"
      ],
      "execution_count": 22,
      "outputs": [
        {
          "output_type": "stream",
          "text": [
            "CPU times: user 1min 2s, sys: 2.56 s, total: 1min 5s\n",
            "Wall time: 38.8 s\n"
          ],
          "name": "stdout"
        }
      ]
    },
    {
      "cell_type": "code",
      "metadata": {
        "id": "dThQR1ms6HWp"
      },
      "source": [
        "from transformers import DataCollatorForLanguageModeling\n",
        "\n",
        "data_collator = DataCollatorForLanguageModeling(\n",
        "    tokenizer=tokenizer, mlm=True, mlm_probability=0.15\n",
        ")"
      ],
      "execution_count": 23,
      "outputs": []
    },
    {
      "cell_type": "code",
      "metadata": {
        "id": "FqH0KGE76Iue",
        "outputId": "b793fd64-051e-44d2-c046-cbb41750ff36",
        "colab": {
          "base_uri": "https://localhost:8080/",
          "height": 72
        }
      },
      "source": [
        "from transformers import Trainer, TrainingArguments\n",
        "\n",
        "training_args = TrainingArguments(\n",
        "    output_dir=\"./martbertochar\",\n",
        "    overwrite_output_dir=True,\n",
        "    num_train_epochs=4,\n",
        "    per_gpu_train_batch_size=64,\n",
        "    save_steps=10_000,\n",
        "    save_total_limit=2,\n",
        ")\n",
        "\n",
        "trainer = Trainer(\n",
        "    model=model,\n",
        "    args=training_args,\n",
        "    data_collator=data_collator,\n",
        "    train_dataset=dataset,\n",
        "    prediction_loss_only=True,\n",
        ")\n"
      ],
      "execution_count": 24,
      "outputs": [
        {
          "output_type": "stream",
          "text": [
            "/usr/local/lib/python3.6/dist-packages/transformers/trainer.py:267: FutureWarning: Passing `prediction_loss_only` as a keyword argument is deprecated and won't be possible in a future version. Use `args.prediction_loss_only` instead. Setting `args.prediction_loss_only=True\n",
            "  FutureWarning,\n"
          ],
          "name": "stderr"
        }
      ]
    },
    {
      "cell_type": "code",
      "metadata": {
        "id": "Ti-0tsRk6S_e",
        "outputId": "e1feb93e-c571-4e10-ae31-4e784f7a0b19",
        "colab": {
          "base_uri": "https://localhost:8080/",
          "height": 910,
          "referenced_widgets": [
            "991f866907474e749234dc18d975d408",
            "b9a5cf4a17c54c8ca38d1bca00522c17",
            "412d989a4fcc4501a2feb3f27aeb43b7",
            "2ab9bc9b49954b80b094ecad8ea27d3c",
            "ab8eea1a088a4649bef29cec0f3a0c7f",
            "e5eb22e1deba47d482096c63eec766a5",
            "211e2d3ebc2040f1a013672f77d978dc",
            "59ff1e19d7db4120b7cb18a9b64d1348",
            "e11ff62f76f64fb1a902618589829d6b",
            "14917fcf08bd41bd8a44e9a9861f2110",
            "65e1b4b3d9ea4cfe9ed2a6eb58e89f01",
            "3db56cbff76d41c2b7c003744658e978",
            "0bf91915f0694f43a25f3c54e27ef7f3",
            "56aeeeb38c0b4a56bcf7ab290f0502a1",
            "6cb31e1ae036454ab14d46f7bb112b2c",
            "8e65010f7a824e828fe1027266f6f8e0",
            "3fa074b62d2a47859c7d59e7ffb888df",
            "21b70ea4393747bdad1e4aa57898b49c",
            "2862f322d4184410aaa5233654e08e75",
            "64dd2de75bbe4cb4a2cb57356a71f277",
            "5bdd7b90620a43c5a0042e101706f597",
            "f04ad78d62ef45738187d6f5b19f92f2",
            "20468b05550641d399a9e5dd7587069c",
            "79625d223381474189ed97177be74db1"
          ]
        }
      },
      "source": [
        "%%time\n",
        "trainer.train()"
      ],
      "execution_count": 25,
      "outputs": [
        {
          "output_type": "stream",
          "text": [
            "Using deprecated `--per_gpu_train_batch_size` argument which will be removed in a future version. Using `--per_device_train_batch_size` is preferred.\n",
            "Using deprecated `--per_gpu_train_batch_size` argument which will be removed in a future version. Using `--per_device_train_batch_size` is preferred.\n",
            "Using deprecated `--per_gpu_train_batch_size` argument which will be removed in a future version. Using `--per_device_train_batch_size` is preferred.\n"
          ],
          "name": "stderr"
        },
        {
          "output_type": "display_data",
          "data": {
            "application/vnd.jupyter.widget-view+json": {
              "model_id": "991f866907474e749234dc18d975d408",
              "version_minor": 0,
              "version_major": 2
            },
            "text/plain": [
              "HBox(children=(FloatProgress(value=0.0, description='Epoch', max=4.0, style=ProgressStyle(description_width='i…"
            ]
          },
          "metadata": {
            "tags": []
          }
        },
        {
          "output_type": "display_data",
          "data": {
            "application/vnd.jupyter.widget-view+json": {
              "model_id": "e11ff62f76f64fb1a902618589829d6b",
              "version_minor": 0,
              "version_major": 2
            },
            "text/plain": [
              "HBox(children=(FloatProgress(value=0.0, description='Iteration', max=8200.0, style=ProgressStyle(description_w…"
            ]
          },
          "metadata": {
            "tags": []
          }
        },
        {
          "output_type": "stream",
          "text": [
            "{'loss': 4.9067041015625, 'learning_rate': 4.923780487804878e-05, 'epoch': 0.06097560975609756, 'total_flos': 2020331226046464, 'step': 500}\n",
            "{'loss': 4.063455078125, 'learning_rate': 4.847560975609756e-05, 'epoch': 0.12195121951219512, 'total_flos': 4034762364076032, 'step': 1000}\n",
            "{'loss': 3.6450576171875, 'learning_rate': 4.771341463414634e-05, 'epoch': 0.18292682926829268, 'total_flos': 6053265845465088, 'step': 1500}\n",
            "{'loss': 3.335876953125, 'learning_rate': 4.695121951219512e-05, 'epoch': 0.24390243902439024, 'total_flos': 8070903553069056, 'step': 2000}\n",
            "{'loss': 3.0396875, 'learning_rate': 4.618902439024391e-05, 'epoch': 0.3048780487804878, 'total_flos': 10092549472641024, 'step': 2500}\n",
            "{'loss': 2.863130859375, 'learning_rate': 4.542682926829269e-05, 'epoch': 0.36585365853658536, 'total_flos': 12105216997404672, 'step': 3000}\n",
            "{'loss': 2.711384765625, 'learning_rate': 4.466463414634147e-05, 'epoch': 0.4268292682926829, 'total_flos': 14123752544489472, 'step': 3500}\n",
            "{'loss': 2.607123046875, 'learning_rate': 4.390243902439025e-05, 'epoch': 0.4878048780487805, 'total_flos': 16136676594819072, 'step': 4000}\n",
            "{'loss': 2.516158203125, 'learning_rate': 4.314024390243903e-05, 'epoch': 0.5487804878048781, 'total_flos': 18153865382682624, 'step': 4500}\n",
            "{'loss': 2.4058515625, 'learning_rate': 4.237804878048781e-05, 'epoch': 0.6097560975609756, 'total_flos': 20167110089969664, 'step': 5000}\n",
            "{'loss': 2.348234375, 'learning_rate': 4.161585365853659e-05, 'epoch': 0.6707317073170732, 'total_flos': 22175961796939776, 'step': 5500}\n",
            "{'loss': 2.28080859375, 'learning_rate': 4.085365853658537e-05, 'epoch': 0.7317073170731707, 'total_flos': 24199980577996800, 'step': 6000}\n",
            "{'loss': 2.22146875, 'learning_rate': 4.0091463414634153e-05, 'epoch': 0.7926829268292683, 'total_flos': 26220247672651776, 'step': 6500}\n",
            "{'loss': 2.1691484375, 'learning_rate': 3.932926829268293e-05, 'epoch': 0.8536585365853658, 'total_flos': 28234775007768576, 'step': 7000}\n",
            "{'loss': 2.11260546875, 'learning_rate': 3.856707317073171e-05, 'epoch': 0.9146341463414634, 'total_flos': 30250168116670464, 'step': 7500}\n",
            "{'loss': 2.08010546875, 'learning_rate': 3.780487804878049e-05, 'epoch': 0.975609756097561, 'total_flos': 32265465028485120, 'step': 8000}\n",
            "\n"
          ],
          "name": "stdout"
        },
        {
          "output_type": "display_data",
          "data": {
            "application/vnd.jupyter.widget-view+json": {
              "model_id": "3fa074b62d2a47859c7d59e7ffb888df",
              "version_minor": 0,
              "version_major": 2
            },
            "text/plain": [
              "HBox(children=(FloatProgress(value=0.0, description='Iteration', max=8200.0, style=ProgressStyle(description_w…"
            ]
          },
          "metadata": {
            "tags": []
          }
        },
        {
          "output_type": "stream",
          "text": [
            "{'loss': 2.0251328125, 'learning_rate': 3.704268292682927e-05, 'epoch': 1.0365853658536586, 'total_flos': 34276911050651520, 'step': 8500}\n",
            "{'loss': 1.987203125, 'learning_rate': 3.628048780487805e-05, 'epoch': 1.0975609756097562, 'total_flos': 36299134152746880, 'step': 9000}\n",
            "{'loss': 1.970578125, 'learning_rate': 3.551829268292683e-05, 'epoch': 1.1585365853658536, 'total_flos': 38313950079125376, 'step': 9500}\n"
          ],
          "name": "stdout"
        },
        {
          "output_type": "error",
          "ename": "KeyboardInterrupt",
          "evalue": "ignored",
          "traceback": [
            "\u001b[0;31m---------------------------------------------------------------------------\u001b[0m",
            "\u001b[0;31mKeyboardInterrupt\u001b[0m                         Traceback (most recent call last)",
            "\u001b[0;32m<ipython-input-25-0c647bc3a8b8>\u001b[0m in \u001b[0;36m<module>\u001b[0;34m()\u001b[0m\n\u001b[0;32m----> 1\u001b[0;31m \u001b[0mget_ipython\u001b[0m\u001b[0;34m(\u001b[0m\u001b[0;34m)\u001b[0m\u001b[0;34m.\u001b[0m\u001b[0mrun_cell_magic\u001b[0m\u001b[0;34m(\u001b[0m\u001b[0;34m'time'\u001b[0m\u001b[0;34m,\u001b[0m \u001b[0;34m''\u001b[0m\u001b[0;34m,\u001b[0m \u001b[0;34m'trainer.train()'\u001b[0m\u001b[0;34m)\u001b[0m\u001b[0;34m\u001b[0m\u001b[0;34m\u001b[0m\u001b[0m\n\u001b[0m",
            "\u001b[0;32m/usr/local/lib/python3.6/dist-packages/IPython/core/interactiveshell.py\u001b[0m in \u001b[0;36mrun_cell_magic\u001b[0;34m(self, magic_name, line, cell)\u001b[0m\n\u001b[1;32m   2115\u001b[0m             \u001b[0mmagic_arg_s\u001b[0m \u001b[0;34m=\u001b[0m \u001b[0mself\u001b[0m\u001b[0;34m.\u001b[0m\u001b[0mvar_expand\u001b[0m\u001b[0;34m(\u001b[0m\u001b[0mline\u001b[0m\u001b[0;34m,\u001b[0m \u001b[0mstack_depth\u001b[0m\u001b[0;34m)\u001b[0m\u001b[0;34m\u001b[0m\u001b[0;34m\u001b[0m\u001b[0m\n\u001b[1;32m   2116\u001b[0m             \u001b[0;32mwith\u001b[0m \u001b[0mself\u001b[0m\u001b[0;34m.\u001b[0m\u001b[0mbuiltin_trap\u001b[0m\u001b[0;34m:\u001b[0m\u001b[0;34m\u001b[0m\u001b[0;34m\u001b[0m\u001b[0m\n\u001b[0;32m-> 2117\u001b[0;31m                 \u001b[0mresult\u001b[0m \u001b[0;34m=\u001b[0m \u001b[0mfn\u001b[0m\u001b[0;34m(\u001b[0m\u001b[0mmagic_arg_s\u001b[0m\u001b[0;34m,\u001b[0m \u001b[0mcell\u001b[0m\u001b[0;34m)\u001b[0m\u001b[0;34m\u001b[0m\u001b[0;34m\u001b[0m\u001b[0m\n\u001b[0m\u001b[1;32m   2118\u001b[0m             \u001b[0;32mreturn\u001b[0m \u001b[0mresult\u001b[0m\u001b[0;34m\u001b[0m\u001b[0;34m\u001b[0m\u001b[0m\n\u001b[1;32m   2119\u001b[0m \u001b[0;34m\u001b[0m\u001b[0m\n",
            "\u001b[0;32m<decorator-gen-60>\u001b[0m in \u001b[0;36mtime\u001b[0;34m(self, line, cell, local_ns)\u001b[0m\n",
            "\u001b[0;32m/usr/local/lib/python3.6/dist-packages/IPython/core/magic.py\u001b[0m in \u001b[0;36m<lambda>\u001b[0;34m(f, *a, **k)\u001b[0m\n\u001b[1;32m    186\u001b[0m     \u001b[0;31m# but it's overkill for just that one bit of state.\u001b[0m\u001b[0;34m\u001b[0m\u001b[0;34m\u001b[0m\u001b[0;34m\u001b[0m\u001b[0m\n\u001b[1;32m    187\u001b[0m     \u001b[0;32mdef\u001b[0m \u001b[0mmagic_deco\u001b[0m\u001b[0;34m(\u001b[0m\u001b[0marg\u001b[0m\u001b[0;34m)\u001b[0m\u001b[0;34m:\u001b[0m\u001b[0;34m\u001b[0m\u001b[0;34m\u001b[0m\u001b[0m\n\u001b[0;32m--> 188\u001b[0;31m         \u001b[0mcall\u001b[0m \u001b[0;34m=\u001b[0m \u001b[0;32mlambda\u001b[0m \u001b[0mf\u001b[0m\u001b[0;34m,\u001b[0m \u001b[0;34m*\u001b[0m\u001b[0ma\u001b[0m\u001b[0;34m,\u001b[0m \u001b[0;34m**\u001b[0m\u001b[0mk\u001b[0m\u001b[0;34m:\u001b[0m \u001b[0mf\u001b[0m\u001b[0;34m(\u001b[0m\u001b[0;34m*\u001b[0m\u001b[0ma\u001b[0m\u001b[0;34m,\u001b[0m \u001b[0;34m**\u001b[0m\u001b[0mk\u001b[0m\u001b[0;34m)\u001b[0m\u001b[0;34m\u001b[0m\u001b[0;34m\u001b[0m\u001b[0m\n\u001b[0m\u001b[1;32m    189\u001b[0m \u001b[0;34m\u001b[0m\u001b[0m\n\u001b[1;32m    190\u001b[0m         \u001b[0;32mif\u001b[0m \u001b[0mcallable\u001b[0m\u001b[0;34m(\u001b[0m\u001b[0marg\u001b[0m\u001b[0;34m)\u001b[0m\u001b[0;34m:\u001b[0m\u001b[0;34m\u001b[0m\u001b[0;34m\u001b[0m\u001b[0m\n",
            "\u001b[0;32m/usr/local/lib/python3.6/dist-packages/IPython/core/magics/execution.py\u001b[0m in \u001b[0;36mtime\u001b[0;34m(self, line, cell, local_ns)\u001b[0m\n\u001b[1;32m   1187\u001b[0m         \u001b[0;32mif\u001b[0m \u001b[0mmode\u001b[0m\u001b[0;34m==\u001b[0m\u001b[0;34m'eval'\u001b[0m\u001b[0;34m:\u001b[0m\u001b[0;34m\u001b[0m\u001b[0;34m\u001b[0m\u001b[0m\n\u001b[1;32m   1188\u001b[0m             \u001b[0mst\u001b[0m \u001b[0;34m=\u001b[0m \u001b[0mclock2\u001b[0m\u001b[0;34m(\u001b[0m\u001b[0;34m)\u001b[0m\u001b[0;34m\u001b[0m\u001b[0;34m\u001b[0m\u001b[0m\n\u001b[0;32m-> 1189\u001b[0;31m             \u001b[0mout\u001b[0m \u001b[0;34m=\u001b[0m \u001b[0meval\u001b[0m\u001b[0;34m(\u001b[0m\u001b[0mcode\u001b[0m\u001b[0;34m,\u001b[0m \u001b[0mglob\u001b[0m\u001b[0;34m,\u001b[0m \u001b[0mlocal_ns\u001b[0m\u001b[0;34m)\u001b[0m\u001b[0;34m\u001b[0m\u001b[0;34m\u001b[0m\u001b[0m\n\u001b[0m\u001b[1;32m   1190\u001b[0m             \u001b[0mend\u001b[0m \u001b[0;34m=\u001b[0m \u001b[0mclock2\u001b[0m\u001b[0;34m(\u001b[0m\u001b[0;34m)\u001b[0m\u001b[0;34m\u001b[0m\u001b[0;34m\u001b[0m\u001b[0m\n\u001b[1;32m   1191\u001b[0m         \u001b[0;32melse\u001b[0m\u001b[0;34m:\u001b[0m\u001b[0;34m\u001b[0m\u001b[0;34m\u001b[0m\u001b[0m\n",
            "\u001b[0;32m<timed eval>\u001b[0m in \u001b[0;36m<module>\u001b[0;34m()\u001b[0m\n",
            "\u001b[0;32m/usr/local/lib/python3.6/dist-packages/transformers/trainer.py\u001b[0m in \u001b[0;36mtrain\u001b[0;34m(self, model_path, trial)\u001b[0m\n\u001b[1;32m    759\u001b[0m                     \u001b[0;32mcontinue\u001b[0m\u001b[0;34m\u001b[0m\u001b[0;34m\u001b[0m\u001b[0m\n\u001b[1;32m    760\u001b[0m \u001b[0;34m\u001b[0m\u001b[0m\n\u001b[0;32m--> 761\u001b[0;31m                 \u001b[0mtr_loss\u001b[0m \u001b[0;34m+=\u001b[0m \u001b[0mself\u001b[0m\u001b[0;34m.\u001b[0m\u001b[0mtraining_step\u001b[0m\u001b[0;34m(\u001b[0m\u001b[0mmodel\u001b[0m\u001b[0;34m,\u001b[0m \u001b[0minputs\u001b[0m\u001b[0;34m)\u001b[0m\u001b[0;34m\u001b[0m\u001b[0;34m\u001b[0m\u001b[0m\n\u001b[0m\u001b[1;32m    762\u001b[0m                 \u001b[0mself\u001b[0m\u001b[0;34m.\u001b[0m\u001b[0m_total_flos\u001b[0m \u001b[0;34m+=\u001b[0m \u001b[0mself\u001b[0m\u001b[0;34m.\u001b[0m\u001b[0mfloating_point_ops\u001b[0m\u001b[0;34m(\u001b[0m\u001b[0minputs\u001b[0m\u001b[0;34m)\u001b[0m\u001b[0;34m\u001b[0m\u001b[0;34m\u001b[0m\u001b[0m\n\u001b[1;32m    763\u001b[0m \u001b[0;34m\u001b[0m\u001b[0m\n",
            "\u001b[0;32m/usr/local/lib/python3.6/dist-packages/transformers/trainer.py\u001b[0m in \u001b[0;36mtraining_step\u001b[0;34m(self, model, inputs)\u001b[0m\n\u001b[1;32m   1117\u001b[0m                 \u001b[0mscaled_loss\u001b[0m\u001b[0;34m.\u001b[0m\u001b[0mbackward\u001b[0m\u001b[0;34m(\u001b[0m\u001b[0;34m)\u001b[0m\u001b[0;34m\u001b[0m\u001b[0;34m\u001b[0m\u001b[0m\n\u001b[1;32m   1118\u001b[0m         \u001b[0;32melse\u001b[0m\u001b[0;34m:\u001b[0m\u001b[0;34m\u001b[0m\u001b[0;34m\u001b[0m\u001b[0m\n\u001b[0;32m-> 1119\u001b[0;31m             \u001b[0mloss\u001b[0m\u001b[0;34m.\u001b[0m\u001b[0mbackward\u001b[0m\u001b[0;34m(\u001b[0m\u001b[0;34m)\u001b[0m\u001b[0;34m\u001b[0m\u001b[0;34m\u001b[0m\u001b[0m\n\u001b[0m\u001b[1;32m   1120\u001b[0m \u001b[0;34m\u001b[0m\u001b[0m\n\u001b[1;32m   1121\u001b[0m         \u001b[0;32mreturn\u001b[0m \u001b[0mloss\u001b[0m\u001b[0;34m.\u001b[0m\u001b[0mdetach\u001b[0m\u001b[0;34m(\u001b[0m\u001b[0;34m)\u001b[0m\u001b[0;34m\u001b[0m\u001b[0;34m\u001b[0m\u001b[0m\n",
            "\u001b[0;32m/usr/local/lib/python3.6/dist-packages/torch/tensor.py\u001b[0m in \u001b[0;36mbackward\u001b[0;34m(self, gradient, retain_graph, create_graph)\u001b[0m\n\u001b[1;32m    183\u001b[0m                 \u001b[0mproducts\u001b[0m\u001b[0;34m.\u001b[0m \u001b[0mDefaults\u001b[0m \u001b[0mto\u001b[0m\u001b[0;31m \u001b[0m\u001b[0;31m`\u001b[0m\u001b[0;31m`\u001b[0m\u001b[0;32mFalse\u001b[0m\u001b[0;31m`\u001b[0m\u001b[0;31m`\u001b[0m\u001b[0;34m.\u001b[0m\u001b[0;34m\u001b[0m\u001b[0;34m\u001b[0m\u001b[0m\n\u001b[1;32m    184\u001b[0m         \"\"\"\n\u001b[0;32m--> 185\u001b[0;31m         \u001b[0mtorch\u001b[0m\u001b[0;34m.\u001b[0m\u001b[0mautograd\u001b[0m\u001b[0;34m.\u001b[0m\u001b[0mbackward\u001b[0m\u001b[0;34m(\u001b[0m\u001b[0mself\u001b[0m\u001b[0;34m,\u001b[0m \u001b[0mgradient\u001b[0m\u001b[0;34m,\u001b[0m \u001b[0mretain_graph\u001b[0m\u001b[0;34m,\u001b[0m \u001b[0mcreate_graph\u001b[0m\u001b[0;34m)\u001b[0m\u001b[0;34m\u001b[0m\u001b[0;34m\u001b[0m\u001b[0m\n\u001b[0m\u001b[1;32m    186\u001b[0m \u001b[0;34m\u001b[0m\u001b[0m\n\u001b[1;32m    187\u001b[0m     \u001b[0;32mdef\u001b[0m \u001b[0mregister_hook\u001b[0m\u001b[0;34m(\u001b[0m\u001b[0mself\u001b[0m\u001b[0;34m,\u001b[0m \u001b[0mhook\u001b[0m\u001b[0;34m)\u001b[0m\u001b[0;34m:\u001b[0m\u001b[0;34m\u001b[0m\u001b[0;34m\u001b[0m\u001b[0m\n",
            "\u001b[0;32m/usr/local/lib/python3.6/dist-packages/torch/autograd/__init__.py\u001b[0m in \u001b[0;36mbackward\u001b[0;34m(tensors, grad_tensors, retain_graph, create_graph, grad_variables)\u001b[0m\n\u001b[1;32m    125\u001b[0m     Variable._execution_engine.run_backward(\n\u001b[1;32m    126\u001b[0m         \u001b[0mtensors\u001b[0m\u001b[0;34m,\u001b[0m \u001b[0mgrad_tensors\u001b[0m\u001b[0;34m,\u001b[0m \u001b[0mretain_graph\u001b[0m\u001b[0;34m,\u001b[0m \u001b[0mcreate_graph\u001b[0m\u001b[0;34m,\u001b[0m\u001b[0;34m\u001b[0m\u001b[0;34m\u001b[0m\u001b[0m\n\u001b[0;32m--> 127\u001b[0;31m         allow_unreachable=True)  # allow_unreachable flag\n\u001b[0m\u001b[1;32m    128\u001b[0m \u001b[0;34m\u001b[0m\u001b[0m\n\u001b[1;32m    129\u001b[0m \u001b[0;34m\u001b[0m\u001b[0m\n",
            "\u001b[0;31mKeyboardInterrupt\u001b[0m: "
          ]
        }
      ]
    },
    {
      "cell_type": "code",
      "metadata": {
        "id": "49IhJyxg6W9R"
      },
      "source": [
        "trainer.save_model(\"./martbertochar\")"
      ],
      "execution_count": 26,
      "outputs": []
    },
    {
      "cell_type": "code",
      "metadata": {
        "id": "Wh_uqkq3IVts"
      },
      "source": [
        "from transformers import pipeline\n",
        "\n",
        "fill_mask = pipeline(\n",
        "    \"fill-mask\",\n",
        "    model=\"./martbertochar\",\n",
        "    tokenizer=\"./martbertochar\"\n",
        ")"
      ],
      "execution_count": 27,
      "outputs": []
    },
    {
      "cell_type": "code",
      "metadata": {
        "id": "jnc0N_sj0f-u",
        "outputId": "6bf2f1e0-ceff-47a6-88e3-24ccf6be41fe",
        "colab": {
          "base_uri": "https://localhost:8080/",
          "height": 35
        }
      },
      "source": [
        "tokenizer.mask_token"
      ],
      "execution_count": null,
      "outputs": [
        {
          "output_type": "execute_result",
          "data": {
            "application/vnd.google.colaboratory.intrinsic+json": {
              "type": "string"
            },
            "text/plain": [
              "'<mask>'"
            ]
          },
          "metadata": {
            "tags": []
          },
          "execution_count": 32
        }
      ]
    },
    {
      "cell_type": "code",
      "metadata": {
        "id": "4-8TnLifIgmZ",
        "outputId": "e3eaad0f-644a-4358-df76-06b883ca417d",
        "colab": {
          "base_uri": "https://localhost:8080/",
          "height": 363
        }
      },
      "source": [
        "fill_mask(\"अनेक सामाजिक चळवळीत, सत्याग्रहांमधे सहभाग घेतला.\")"
      ],
      "execution_count": 42,
      "outputs": [
        {
          "output_type": "execute_result",
          "data": {
            "text/plain": [
              "[{'score': 0.03394700214266777,\n",
              "  'sequence': '<s>अनेक सामाजिक चळवळीत,०००मधे सहभाग घेतला.</s>',\n",
              "  'token': 917,\n",
              "  'token_str': 'à¥¦à¥¦à¥¦'},\n",
              " {'score': 0.013973863795399666,\n",
              "  'sequence': '<s>अनेक सामाजिक चळवळीत, पणमधे सहभाग घेतला.</s>',\n",
              "  'token': 753,\n",
              "  'token_str': 'Ġà¤ªà¤£'},\n",
              " {'score': 0.01306256651878357,\n",
              "  'sequence': '<s>अनेक सामाजिक चळवळीत,\\xa0मधे सहभाग घेतला.</s>',\n",
              "  'token': 353,\n",
              "  'token_str': 'Âł'},\n",
              " {'score': 0.011251473799347878,\n",
              "  'sequence': '<s>अनेक सामाजिक चळवळीत, मधे सहभाग घेतला.</s>',\n",
              "  'token': 225,\n",
              "  'token_str': 'Ġ'},\n",
              " {'score': 0.008268973790109158,\n",
              "  'sequence': '<s>अनेक सामाजिक चळवळीत, ३मधे सहभाग घेतला.</s>',\n",
              "  'token': 492,\n",
              "  'token_str': 'Ġà¥©'}]"
            ]
          },
          "metadata": {
            "tags": []
          },
          "execution_count": 42
        }
      ]
    },
    {
      "cell_type": "code",
      "metadata": {
        "id": "n__xrZBuLbQJ",
        "outputId": "6283c5ef-8093-4fdf-b91d-cc7b6775a72b",
        "colab": {
          "base_uri": "https://localhost:8080/",
          "height": 35
        }
      },
      "source": [
        " from tokenizers.decoders import ByteLevel\n",
        " decoder = ByteLevel()\n",
        " decoder.decode(['à¤¨' ])"
      ],
      "execution_count": null,
      "outputs": [
        {
          "output_type": "execute_result",
          "data": {
            "application/vnd.google.colaboratory.intrinsic+json": {
              "type": "string"
            },
            "text/plain": [
              "'न'"
            ]
          },
          "metadata": {
            "tags": []
          },
          "execution_count": 63
        }
      ]
    },
    {
      "cell_type": "code",
      "metadata": {
        "id": "Wlqqw4WVIrmY",
        "outputId": "3cbb2069-7582-4ee2-cbf7-a7372147323d",
        "colab": {
          "base_uri": "https://localhost:8080/",
          "height": 35
        }
      },
      "source": [
        "txt = \"कोल्हापुरात मिळणारा तांबडा पांढरा <mask> कुठेच मिळत नाही.\"\n",
        "enc = tokenizer.encode(txt)\n",
        "print(tokenizer.decode(enc))"
      ],
      "execution_count": null,
      "outputs": [
        {
          "output_type": "stream",
          "text": [
            "<s>कोल्हापुरात मिळणारा तांबडा पांढरा<mask> कुठेच मिळत नाही.</s>\n"
          ],
          "name": "stdout"
        }
      ]
    },
    {
      "cell_type": "code",
      "metadata": {
        "id": "mSFAvdetI5h7",
        "outputId": "060d9fd6-342f-4cea-eac4-0ccce1ac288e",
        "colab": {
          "base_uri": "https://localhost:8080/",
          "height": 131
        }
      },
      "source": [
        "tokenizer."
      ],
      "execution_count": null,
      "outputs": [
        {
          "output_type": "error",
          "ename": "SyntaxError",
          "evalue": "ignored",
          "traceback": [
            "\u001b[0;36m  File \u001b[0;32m\"<ipython-input-36-c9a3152c632d>\"\u001b[0;36m, line \u001b[0;32m1\u001b[0m\n\u001b[0;31m    tokenizer.\u001b[0m\n\u001b[0m              ^\u001b[0m\n\u001b[0;31mSyntaxError\u001b[0m\u001b[0;31m:\u001b[0m invalid syntax\n"
          ]
        }
      ]
    },
    {
      "cell_type": "code",
      "metadata": {
        "id": "9Oy1EWC-JEKt"
      },
      "source": [
        ""
      ],
      "execution_count": null,
      "outputs": []
    }
  ]
}